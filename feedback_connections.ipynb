{
 "cells": [
  {
   "cell_type": "code",
   "execution_count": 1,
   "metadata": {
    "colab": {
     "base_uri": "https://localhost:8080/",
     "height": 326
    },
    "colab_type": "code",
    "id": "dNbPZoPRMtZG",
    "outputId": "55a99027-ed5d-4c07-e18a-8c9a7cb6a3d0"
   },
   "outputs": [
    {
     "name": "stdout",
     "output_type": "stream",
     "text": [
      "Requirement already satisfied: torch in /Users/jrieke/anaconda2/envs/py3/lib/python3.6/site-packages\n",
      "Requirement already satisfied: torchvision in /Users/jrieke/anaconda2/envs/py3/lib/python3.6/site-packages/torchvision-0.2.1-py3.6.egg\n",
      "Requirement already satisfied: numpy in /Users/jrieke/anaconda2/envs/py3/lib/python3.6/site-packages (from torchvision)\n",
      "Requirement already satisfied: pillow>=4.1.1 in /Users/jrieke/anaconda2/envs/py3/lib/python3.6/site-packages (from torchvision)\n",
      "Requirement already satisfied: six in /Users/jrieke/anaconda2/envs/py3/lib/python3.6/site-packages (from torchvision)\n",
      "\u001b[33mYou are using pip version 9.0.1, however version 18.1 is available.\n",
      "You should consider upgrading via the 'pip install --upgrade pip' command.\u001b[0m\n"
     ]
    }
   ],
   "source": [
    "!pip install torch torchvision"
   ]
  },
  {
   "cell_type": "code",
   "execution_count": 1,
   "metadata": {
    "colab": {},
    "colab_type": "code",
    "id": "TZ-uzulsNlAZ"
   },
   "outputs": [],
   "source": [
    "import numpy as np\n",
    "import matplotlib.pyplot as plt\n",
    "import time\n",
    "\n",
    "import torch\n",
    "from torch import nn, optim\n",
    "import torch.nn.functional as F\n",
    "from torchvision import datasets, transforms"
   ]
  },
  {
   "cell_type": "code",
   "execution_count": 2,
   "metadata": {
    "colab": {},
    "colab_type": "code",
    "id": "ilv5sT0SMvlc"
   },
   "outputs": [],
   "source": [
    "use_cuda = False\n",
    "device = torch.device('cuda' if use_cuda else 'cpu')"
   ]
  },
  {
   "cell_type": "markdown",
   "metadata": {},
   "source": [
    "# Experiment 1: Image Classification"
   ]
  },
  {
   "cell_type": "code",
   "execution_count": 67,
   "metadata": {
    "colab": {},
    "colab_type": "code",
    "id": "egQMPeiIW3yw"
   },
   "outputs": [],
   "source": [
    "# Default parameters from the PyTorch MNIST example (https://github.com/pytorch/examples/blob/master/mnist/main.py\n",
    "params = dict(batch_size=64, batch_size_eval=1000, num_epochs=30, learning_rate=0.01, momentum=0.5)"
   ]
  },
  {
   "cell_type": "markdown",
   "metadata": {},
   "source": [
    "## Load MNIST data and make a noisy variant"
   ]
  },
  {
   "cell_type": "code",
   "execution_count": 224,
   "metadata": {
    "colab": {
     "base_uri": "https://localhost:8080/",
     "height": 119
    },
    "colab_type": "code",
    "id": "s-oXQ8R-NeLO",
    "outputId": "4c98b3b1-4b2e-4bd1-a4ed-8c43310c383c"
   },
   "outputs": [],
   "source": [
    "def load_mnist(val_size=5000):\n",
    "    \"\"\"Return the train (55k), val (5k, randomly drawn from the original test set) and test (10k) dataset for MNIST.\"\"\"\n",
    "    image_transform = transforms.Compose([\n",
    "                           transforms.ToTensor(),\n",
    "                           transforms.Normalize((0.1307,), (0.3081,))\n",
    "                       ])\n",
    "\n",
    "    raw_train_dataset = datasets.MNIST('data/mnist', train=True, download=True, transform=image_transform)\n",
    "    test_dataset = datasets.MNIST('data/mnist', train=False, download=True, transform=image_transform)\n",
    "\n",
    "    # Split 5k samples from the train dataset for validation (similar to Sacramento et al. 2018).\n",
    "    # TODO: Maybe seed this? Cannot be done in the method directly, so would need to manually call torch.seed. \n",
    "    train_dataset, val_dataset = torch.utils.data.dataset.random_split(raw_train_dataset, (len(raw_train_dataset)-val_size, val_size))\n",
    "    return train_dataset, val_dataset, test_dataset\n",
    "\n",
    "train_dataset, val_dataset, test_dataset = load_mnist()"
   ]
  },
  {
   "cell_type": "code",
   "execution_count": 327,
   "metadata": {},
   "outputs": [],
   "source": [
    "def load_emnist(val_size=10000):\n",
    "    \"\"\"Return the train (55k), val (5k, randomly drawn from the original test set) and test (10k) dataset for MNIST.\"\"\"\n",
    "    image_transform = transforms.Compose([\n",
    "                           transforms.RandomHorizontalFlip(1),  # EMNIST images are flipped and rotated by default\n",
    "                           transforms.RandomRotation((90, 90)),\n",
    "                           transforms.ToTensor(),\n",
    "                           transforms.Normalize((0.1307,), (0.3081,))\n",
    "                       ])\n",
    "    target_transform = lambda x: x-1  # make labels start at 0 instead of 1\n",
    "\n",
    "    raw_train_dataset = datasets.EMNIST('data/emnist', split='letters', train=True, download=True, transform=image_transform, target_transform=target_transform)\n",
    "    test_dataset = datasets.EMNIST('data/emnist', split='letters', train=False, download=True, transform=image_transform, target_transform=target_transform)\n",
    "\n",
    "    # Split 5k samples from the train dataset for validation (similar to Sacramento et al. 2018).\n",
    "    # TODO: Maybe seed this? Cannot be done in the method directly, so would need to manually call torch.seed. \n",
    "    train_dataset, val_dataset = torch.utils.data.dataset.random_split(raw_train_dataset, (len(raw_train_dataset)-val_size, val_size))\n",
    "    return train_dataset, val_dataset, test_dataset\n",
    "\n",
    "train_dataset, val_dataset, test_dataset = load_emnist()"
   ]
  },
  {
   "cell_type": "code",
   "execution_count": 328,
   "metadata": {},
   "outputs": [
    {
     "data": {
      "image/png": "[encoded data removed]",
      "text/plain": [
       "<Figure size 432x288 with 1 Axes>"
      ]
     },
     "metadata": {},
     "output_type": "display_data"
    },
    {
     "data": {
      "image/png": "[encoded data removed]",
      "text/plain": [
       "<Figure size 432x288 with 1 Axes>"
      ]
     },
     "metadata": {},
     "output_type": "display_data"
    },
    {
     "data": {
      "image/png": "[encoded data removed]",
      "text/plain": [
       "<Figure size 432x288 with 1 Axes>"
      ]
     },
     "metadata": {},
     "output_type": "display_data"
    },
    {
     "data": {
      "image/png": "[encoded data removed]",
      "text/plain": [
       "<Figure size 432x288 with 1 Axes>"
      ]
     },
     "metadata": {},
     "output_type": "display_data"
    },
    {
     "data": {
      "image/png": "[encoded data removed]",
      "text/plain": [
       "<Figure size 432x288 with 1 Axes>"
      ]
     },
     "metadata": {},
     "output_type": "display_data"
    },
    {
     "data": {
      "image/png": "[encoded data removed]",
      "text/plain": [
       "<Figure size 432x288 with 1 Axes>"
      ]
     },
     "metadata": {},
     "output_type": "display_data"
    },
    {
     "data": {
      "image/png": "[encoded data removed]",
      "text/plain": [
       "<Figure size 432x288 with 1 Axes>"
      ]
     },
     "metadata": {},
     "output_type": "display_data"
    },
    {
     "data": {
      "image/png": "[encoded data removed]",
      "text/plain": [
       "<Figure size 432x288 with 1 Axes>"
      ]
     },
     "metadata": {},
     "output_type": "display_data"
    },
    {
     "data": {
      "image/png": "[encoded data removed]",
      "text/plain": [
       "<Figure size 432x288 with 1 Axes>"
      ]
     },
     "metadata": {},
     "output_type": "display_data"
    },
    {
     "data": {
      "image/png": "[encoded data removed]",
      "text/plain": [
       "<Figure size 432x288 with 1 Axes>"
      ]
     },
     "metadata": {},
     "output_type": "display_data"
    }
   ],
   "source": [
    "for i in range(10):\n",
    "    plt.figure()\n",
    "    plt.imshow(train_dataset[i][0][0], cmap='Greys')\n",
    "    plt.title('abcdefghijklmnopqrstuvwxyz'[train_dataset[i][1].item()])"
   ]
  },
  {
   "cell_type": "code",
   "execution_count": 329,
   "metadata": {},
   "outputs": [
    {
     "data": {
      "text/plain": [
       "array([ 0,  1,  2,  3,  4,  5,  6,  7,  8,  9, 10, 11, 12, 13, 14, 15, 16,\n",
       "       17, 18, 19, 20, 21, 22, 23, 24, 25])"
      ]
     },
     "execution_count": 329,
     "metadata": {},
     "output_type": "execute_result"
    }
   ],
   "source": [
    "labels = [sample[1] for sample in test_dataset]\n",
    "np.unique(labels)"
   ]
  },
  {
   "cell_type": "code",
   "execution_count": 330,
   "metadata": {},
   "outputs": [],
   "source": [
    "kwargs = {'num_workers': 3, 'pin_memory': True} if use_cuda else {}\n",
    "train_loader = torch.utils.data.DataLoader(train_dataset, batch_size=params['batch_size'], shuffle=True, **kwargs)\n",
    "val_loader = torch.utils.data.DataLoader(val_dataset, batch_size=params['batch_size_eval'], shuffle=True, **kwargs)\n",
    "test_loader = torch.utils.data.DataLoader(test_dataset, batch_size=params['batch_size_eval'], shuffle=False, **kwargs)"
   ]
  },
  {
   "cell_type": "code",
   "execution_count": 209,
   "metadata": {},
   "outputs": [],
   "source": [
    "# Temporary workaround to process the emnist dataset, because it cannot automatically be \n",
    "# downloaded through pytorch (due to the shutdown). \n",
    "def process_emnist():\n",
    "\n",
    "    def get_int(b):\n",
    "        return int(codecs.encode(b, 'hex'), 16)\n",
    "\n",
    "    def read_label_file(path):\n",
    "        with open(path, 'rb') as f:\n",
    "            data = f.read()\n",
    "            assert get_int(data[:4]) == 2049\n",
    "            length = get_int(data[4:8])\n",
    "            parsed = np.frombuffer(data, dtype=np.uint8, offset=8)\n",
    "            return torch.from_numpy(parsed).view(length).long()\n",
    "\n",
    "    def read_image_file(path):\n",
    "        with open(path, 'rb') as f:\n",
    "            data = f.read()\n",
    "            assert get_int(data[:4]) == 2051\n",
    "            length = get_int(data[4:8])\n",
    "            num_rows = get_int(data[8:12])\n",
    "            num_cols = get_int(data[12:16])\n",
    "            images = []\n",
    "            parsed = np.frombuffer(data, dtype=np.uint8, offset=16)\n",
    "            return torch.from_numpy(parsed).view(length, num_rows, num_cols)\n",
    "\n",
    "    splits = ('byclass', 'bymerge', 'balanced', 'letters', 'digits', 'mnist')\n",
    "\n",
    "    def _training_file(split):\n",
    "        return 'training_{}.pt'.format(split)\n",
    "\n",
    "    def _test_file(split):\n",
    "        return 'test_{}.pt'.format(split)\n",
    "\n",
    "    import os\n",
    "    import codecs\n",
    "    from six.moves import urllib\n",
    "    import gzip\n",
    "    import shutil\n",
    "    import zipfile\n",
    "    \n",
    "    root = 'data/emnist'\n",
    "    processed_folder = 'processed'\n",
    "    raw_folder = 'data/emnist/raw'\n",
    "\n",
    "    # process and save as torch files\n",
    "    for split in splits:\n",
    "        print('Processing ' + split)\n",
    "        training_set = (\n",
    "            read_image_file(os.path.join(raw_folder, 'emnist-{}-train-images-idx3-ubyte'.format(split))),\n",
    "            read_label_file(os.path.join(raw_folder, 'emnist-{}-train-labels-idx1-ubyte'.format(split)))\n",
    "        )\n",
    "        test_set = (\n",
    "            read_image_file(os.path.join(raw_folder, 'emnist-{}-test-images-idx3-ubyte'.format(split))),\n",
    "            read_label_file(os.path.join(raw_folder, 'emnist-{}-test-labels-idx1-ubyte'.format(split)))\n",
    "        )\n",
    "        with open(os.path.join(root, processed_folder, _training_file(split)), 'wb') as f:\n",
    "            torch.save(training_set, f)\n",
    "        with open(os.path.join(root, processed_folder, _test_file(split)), 'wb') as f:\n",
    "            torch.save(test_set, f)\n",
    "\n",
    "    print('Done!')"
   ]
  },
  {
   "cell_type": "code",
   "execution_count": 119,
   "metadata": {},
   "outputs": [],
   "source": [
    "from PIL import Image\n",
    "\n",
    "class AddGaussianNoise(object):\n",
    "    def __init__(self, mean=0, std=64, scaling_factor=0.5):\n",
    "        self.mean = mean\n",
    "        self.std = std\n",
    "        self.scaling_factor = scaling_factor\n",
    "    \n",
    "    def __call__(self, img):\n",
    "        img_array = np.asarray(img)\n",
    "        noisy_img_array = img_array + self.scaling_factor * np.random.normal(self.mean, self.std, img_array.shape)\n",
    "        noisy_img_array = np.clip(noisy_img_array, 0, 255)\n",
    "        noisy_img_array = noisy_img_array.astype(img_array.dtype)\n",
    "        return Image.fromarray(noisy_img_array)\n",
    "        \n",
    "    def __repr__(self):\n",
    "        return self.__class__.__name__ + '(mean={}, std={}, scaling_factor={})'.format(self.mean, self.std, self.intensity)"
   ]
  },
  {
   "cell_type": "code",
   "execution_count": 255,
   "metadata": {},
   "outputs": [],
   "source": [
    "# TODO: Maybe use normal load methods from above here and exchange the transform. \n",
    "def load_noisy_mnist(mean=0, std=64, scaling_factor=0.5):\n",
    "    \"\"\"Return the test dataset of MNIST with added Gaussian noise.\"\"\"\n",
    "    image_transform = transforms.Compose([\n",
    "                           AddGaussianNoise(mean=mean, std=std, scaling_factor=scaling_factor),\n",
    "                           transforms.ToTensor(),\n",
    "                           transforms.Normalize((0.1307,), (0.3081,))\n",
    "                       ])\n",
    "    \n",
    "    return datasets.MNIST('data/mnist', train=False, download=True, transform=image_transform)\n",
    "\n",
    "noisy_test_dataset = load_noisy_mnist(scaling_factor=2)\n",
    "noisy_test_loader = torch.utils.data.DataLoader(noisy_test_dataset, batch_size=params['batch_size_eval'], shuffle=False, **kwargs)"
   ]
  },
  {
   "cell_type": "code",
   "execution_count": 331,
   "metadata": {},
   "outputs": [],
   "source": [
    "def load_noisy_emnist(mean=0, std=64, scaling_factor=0.5):\n",
    "    \"\"\"Return the test dataset of MNIST with added Gaussian noise.\"\"\"\n",
    "    image_transform = transforms.Compose([\n",
    "                           transforms.RandomHorizontalFlip(1),  # EMNIST images are flipped and rotated by default\n",
    "                           transforms.RandomRotation((90, 90)),\n",
    "                           AddGaussianNoise(mean=mean, std=std, scaling_factor=scaling_factor),\n",
    "                           transforms.ToTensor(),\n",
    "                           transforms.Normalize((0.1307,), (0.3081,))\n",
    "                       ])\n",
    "    target_transform = lambda x: x-1  # make labels start at 0 instead of 1\n",
    "    \n",
    "    return datasets.EMNIST('data/emnist', split='letters', train=False, download=True, transform=image_transform, target_transform=target_transform)\n",
    "\n",
    "noisy_test_dataset = load_noisy_emnist(scaling_factor=2)\n",
    "noisy_test_loader = torch.utils.data.DataLoader(noisy_test_dataset, batch_size=params['batch_size_eval'], shuffle=False, **kwargs)"
   ]
  },
  {
   "cell_type": "code",
   "execution_count": 84,
   "metadata": {},
   "outputs": [],
   "source": [
    "#plt.imshow(noisy_test_dataset[4][0])"
   ]
  },
  {
   "cell_type": "markdown",
   "metadata": {},
   "source": [
    "## Networks"
   ]
  },
  {
   "cell_type": "code",
   "execution_count": 230,
   "metadata": {
    "colab": {},
    "colab_type": "code",
    "id": "76ldQAc_ZC-R"
   },
   "outputs": [],
   "source": [
    "class FeedforwardNet(nn.Module):\n",
    "    # TODO: Add ability to easily add more hidden layers. \n",
    "    def __init__(self, num_hidden=500, dropout=0.5):\n",
    "        super(FeedforwardNet, self).__init__()\n",
    "        self.forward1 = nn.Linear(784, num_hidden)\n",
    "        self.forward2 = nn.Linear(num_hidden, 26)\n",
    "        self.dropout = nn.Dropout(dropout)\n",
    "\n",
    "    def forward(self, x):\n",
    "        x = x.view(-1, 784)\n",
    "        x = F.relu(self.forward1(x))\n",
    "        x = self.dropout(x)\n",
    "        x = self.forward2(x)\n",
    "        # TODO: Maybe change to loss function that includes softmax. \n",
    "        return F.log_softmax(x, dim=1)"
   ]
  },
  {
   "cell_type": "code",
   "execution_count": 73,
   "metadata": {
    "colab": {},
    "colab_type": "code",
    "id": "zU42_5arflnv"
   },
   "outputs": [],
   "source": [
    "class FeedbackNet(nn.Module):\n",
    "    def __init__(self, num_hidden=500, dropout=0.5):\n",
    "        super(FeedbackNet, self).__init__()\n",
    "        self.forward1 = nn.Linear(784, num_hidden)\n",
    "        self.forward2 = nn.Linear(num_hidden, 10)\n",
    "        self.dropout = nn.Dropout(dropout)\n",
    "        \n",
    "        self.feedback1 = nn.Linear(num_hidden, 784)\n",
    "        self.feedback2 = nn.Linear(10, num_hidden)\n",
    "        \n",
    "        self.dropout = nn.Dropout(dropout)\n",
    "\n",
    "    def forward(self, inp):\n",
    "        inp = inp.view(-1, 784)\n",
    "        \n",
    "        x = F.relu(self.forward1(inp))\n",
    "        feedback_activation_1 = self.feedback1(x)\n",
    "        \n",
    "        x = self.dropout(x)\n",
    "        x = F.log_softmax(self.forward2(x), dim=1)\n",
    "        feedback_activation_2 = self.feedback2(x)\n",
    "        # TODO: Maybe change to loss function that includes softmax. \n",
    "        \n",
    "        #print(feedback_activation_1.shape, feedback_activation_2.shape)\n",
    "        \n",
    "        # 2nd forward pass, this time with added feedback\n",
    "        x = F.relu(self.forward1(inp + feedback_activation_1))\n",
    "        # TODO: Do dropout again here or only on the first pass?\n",
    "        #x = F.dropout(x, training=self.training)\n",
    "        x = F.log_softmax(self.forward2(x + feedback_activation_2), dim=1)\n",
    "        \n",
    "        return x\n",
    "        "
   ]
  },
  {
   "cell_type": "code",
   "execution_count": 74,
   "metadata": {
    "colab": {},
    "colab_type": "code",
    "id": "dUF21w7MTB8g"
   },
   "outputs": [],
   "source": [
    "class ConvNet(nn.Module):\n",
    "    \"\"\"ConvNet from the official PyTorch tutorial, achieves around 98 % accuracy on test set (https://github.com/pytorch/examples/blob/master/mnist/main.py).\"\"\"\n",
    "    def __init__(self):\n",
    "        super(ConvNet, self).__init__()\n",
    "        self.conv1 = nn.Conv2d(1, 10, kernel_size=5)\n",
    "        self.conv2 = nn.Conv2d(10, 20, kernel_size=5)\n",
    "        self.conv2_drop = nn.Dropout2d()\n",
    "        self.fc1 = nn.Linear(320, 50)\n",
    "        self.fc2 = nn.Linear(50, 10)\n",
    "\n",
    "    def forward(self, x):\n",
    "        x = F.relu(F.max_pool2d(self.conv1(x), 2))\n",
    "        x = F.relu(F.max_pool2d(self.conv2_drop(self.conv2(x)), 2))\n",
    "        x = x.view(-1, 320)\n",
    "        x = F.relu(self.fc1(x))\n",
    "        x = F.dropout(x, training=self.training)\n",
    "        x = self.fc2(x)\n",
    "        return F.log_softmax(x, dim=1)"
   ]
  },
  {
   "cell_type": "markdown",
   "metadata": {},
   "source": [
    "## Training"
   ]
  },
  {
   "cell_type": "code",
   "execution_count": 231,
   "metadata": {
    "colab": {},
    "colab_type": "code",
    "id": "dwwmjtpAaEEN"
   },
   "outputs": [],
   "source": [
    "def train(model, device, train_loader, optimizer, epoch, params=None):\n",
    "    model.train()\n",
    "    for batch, (data, target) in enumerate(train_loader):\n",
    "        data, target = data.to(device), target.to(device)\n",
    "        optimizer.zero_grad()\n",
    "        output = model(data)\n",
    "        # TODO: Change to loss_function = ..., loss_function(output, target)\n",
    "        #print(output.shape, target.shape)\n",
    "        loss = F.nll_loss(output, target)\n",
    "        loss.backward()\n",
    "        optimizer.step()\n",
    "        if batch % 100 == 0:\n",
    "            print('Train Epoch: {} [{}/{} ({:.0f}%)]\\tLoss: {:.6f}'.format(\n",
    "                epoch, batch * len(data), len(train_loader.dataset),\n",
    "                100. * batch / len(train_loader), loss.item()))"
   ]
  },
  {
   "cell_type": "code",
   "execution_count": 232,
   "metadata": {
    "colab": {},
    "colab_type": "code",
    "id": "GR8Tp0QwaFpj"
   },
   "outputs": [],
   "source": [
    "def test(model, device, test_loader, params=None):\n",
    "    model.eval()\n",
    "    test_loss = 0\n",
    "    correct = 0\n",
    "    with torch.no_grad():\n",
    "        for data, target in test_loader:\n",
    "            data, target = data.to(device), target.to(device)\n",
    "            output = model(data)\n",
    "            # TODO: Change to loss_function = ..., loss_function(output, target)\n",
    "            test_loss += F.nll_loss(output, target, reduction='sum').item() # sum up batch loss\n",
    "            pred = output.max(1, keepdim=True)[1] # get the index of the max log-probability\n",
    "            correct += pred.eq(target.view_as(pred)).sum().item()\n",
    "\n",
    "    test_loss /= len(test_loader.dataset)\n",
    "    print('\\nTest set: Average loss: {:.4f}, Accuracy: {}/{} ({:.0f}%)\\n'.format(\n",
    "        test_loss, correct, len(test_loader.dataset),\n",
    "        100. * correct / len(test_loader.dataset)))"
   ]
  },
  {
   "cell_type": "code",
   "execution_count": 235,
   "metadata": {},
   "outputs": [],
   "source": [
    "def count_parameters(model):\n",
    "    return sum(p.numel() for p in filter(lambda p: p.requires_grad, model.parameters()) if p.requires_grad)"
   ]
  },
  {
   "cell_type": "code",
   "execution_count": 250,
   "metadata": {
    "colab": {
     "base_uri": "https://localhost:8080/",
     "height": 878
    },
    "colab_type": "code",
    "id": "ClDIIE_wRaa0",
    "outputId": "f62ac75f-be70-4b6d-de99-b0f7d9a86d9a",
    "scrolled": true
   },
   "outputs": [
    {
     "name": "stdout",
     "output_type": "stream",
     "text": [
      "Model has 405526 trainable parameters\n",
      "Epoch 1/30\n",
      "Train Epoch: 1 [0/114800 (0%)]\tLoss: 3.364546\n",
      "Train Epoch: 1 [6400/114800 (6%)]\tLoss: 1.883056\n",
      "Train Epoch: 1 [12800/114800 (11%)]\tLoss: 1.774883\n",
      "Train Epoch: 1 [19200/114800 (17%)]\tLoss: 1.521679\n",
      "Train Epoch: 1 [25600/114800 (22%)]\tLoss: 1.308522\n",
      "Train Epoch: 1 [32000/114800 (28%)]\tLoss: 1.216146\n",
      "Train Epoch: 1 [38400/114800 (33%)]\tLoss: 0.981548\n",
      "Train Epoch: 1 [44800/114800 (39%)]\tLoss: 1.251293\n",
      "Train Epoch: 1 [51200/114800 (45%)]\tLoss: 1.232695\n",
      "Train Epoch: 1 [57600/114800 (50%)]\tLoss: 1.112284\n",
      "Train Epoch: 1 [64000/114800 (56%)]\tLoss: 0.856672\n",
      "Train Epoch: 1 [70400/114800 (61%)]\tLoss: 0.995457\n",
      "Train Epoch: 1 [76800/114800 (67%)]\tLoss: 1.025760\n",
      "Train Epoch: 1 [83200/114800 (72%)]\tLoss: 0.955970\n",
      "Train Epoch: 1 [89600/114800 (78%)]\tLoss: 0.967802\n",
      "Train Epoch: 1 [96000/114800 (84%)]\tLoss: 0.763317\n",
      "Train Epoch: 1 [102400/114800 (89%)]\tLoss: 0.982318\n",
      "Train Epoch: 1 [108800/114800 (95%)]\tLoss: 0.898482\n",
      "Took 18.13324499130249 seconds\n",
      "\n",
      "Test set: Average loss: 0.7348, Accuracy: 16374/20800 (79%)\n",
      "\n",
      "Now testing on noisy dataset...\n",
      "\n",
      "Test set: Average loss: 4.5922, Accuracy: 635/10000 (6%)\n",
      "\n",
      "Epoch 2/30\n",
      "Train Epoch: 2 [0/114800 (0%)]\tLoss: 0.651671\n",
      "Train Epoch: 2 [6400/114800 (6%)]\tLoss: 0.791133\n",
      "Train Epoch: 2 [12800/114800 (11%)]\tLoss: 0.767368\n",
      "Train Epoch: 2 [19200/114800 (17%)]\tLoss: 0.591018\n",
      "Train Epoch: 2 [25600/114800 (22%)]\tLoss: 0.880704\n",
      "Train Epoch: 2 [32000/114800 (28%)]\tLoss: 0.671835\n",
      "Train Epoch: 2 [38400/114800 (33%)]\tLoss: 0.730108\n",
      "Train Epoch: 2 [44800/114800 (39%)]\tLoss: 0.726254\n",
      "Train Epoch: 2 [51200/114800 (45%)]\tLoss: 0.826303\n",
      "Train Epoch: 2 [57600/114800 (50%)]\tLoss: 1.020556\n",
      "Train Epoch: 2 [64000/114800 (56%)]\tLoss: 0.830447\n",
      "Train Epoch: 2 [70400/114800 (61%)]\tLoss: 0.855981\n",
      "Train Epoch: 2 [76800/114800 (67%)]\tLoss: 0.742680\n",
      "Train Epoch: 2 [83200/114800 (72%)]\tLoss: 0.846350\n",
      "Train Epoch: 2 [89600/114800 (78%)]\tLoss: 0.574083\n",
      "Train Epoch: 2 [96000/114800 (84%)]\tLoss: 0.913514\n",
      "Train Epoch: 2 [102400/114800 (89%)]\tLoss: 0.507336\n",
      "Train Epoch: 2 [108800/114800 (95%)]\tLoss: 0.671907\n",
      "Took 19.149008750915527 seconds\n",
      "\n",
      "Test set: Average loss: 0.5607, Accuracy: 17421/20800 (84%)\n",
      "\n",
      "Now testing on noisy dataset...\n",
      "\n",
      "Test set: Average loss: 4.7719, Accuracy: 510/10000 (5%)\n",
      "\n",
      "Epoch 3/30\n",
      "Train Epoch: 3 [0/114800 (0%)]\tLoss: 0.534443\n",
      "Train Epoch: 3 [6400/114800 (6%)]\tLoss: 0.588092\n",
      "Train Epoch: 3 [12800/114800 (11%)]\tLoss: 0.593261\n",
      "Train Epoch: 3 [19200/114800 (17%)]\tLoss: 0.505255\n",
      "Train Epoch: 3 [25600/114800 (22%)]\tLoss: 0.526665\n",
      "Train Epoch: 3 [32000/114800 (28%)]\tLoss: 0.797446\n",
      "Train Epoch: 3 [38400/114800 (33%)]\tLoss: 0.531490\n",
      "Train Epoch: 3 [44800/114800 (39%)]\tLoss: 0.587165\n",
      "Train Epoch: 3 [51200/114800 (45%)]\tLoss: 0.822023\n",
      "Train Epoch: 3 [57600/114800 (50%)]\tLoss: 0.595089\n",
      "Train Epoch: 3 [64000/114800 (56%)]\tLoss: 0.514614\n",
      "Train Epoch: 3 [70400/114800 (61%)]\tLoss: 0.490363\n",
      "Train Epoch: 3 [76800/114800 (67%)]\tLoss: 0.682351\n",
      "Train Epoch: 3 [83200/114800 (72%)]\tLoss: 0.748621\n",
      "Train Epoch: 3 [89600/114800 (78%)]\tLoss: 0.815717\n",
      "Train Epoch: 3 [96000/114800 (84%)]\tLoss: 0.689211\n",
      "Train Epoch: 3 [102400/114800 (89%)]\tLoss: 0.610178\n",
      "Train Epoch: 3 [108800/114800 (95%)]\tLoss: 0.522711\n",
      "Took 20.24797487258911 seconds\n",
      "\n",
      "Test set: Average loss: 0.4825, Accuracy: 17835/20800 (86%)\n",
      "\n",
      "Now testing on noisy dataset...\n",
      "\n",
      "Test set: Average loss: 4.9530, Accuracy: 504/10000 (5%)\n",
      "\n",
      "Epoch 4/30\n",
      "Train Epoch: 4 [0/114800 (0%)]\tLoss: 0.564839\n",
      "Train Epoch: 4 [6400/114800 (6%)]\tLoss: 0.647342\n",
      "Train Epoch: 4 [12800/114800 (11%)]\tLoss: 0.510840\n",
      "Train Epoch: 4 [19200/114800 (17%)]\tLoss: 0.526466\n",
      "Train Epoch: 4 [25600/114800 (22%)]\tLoss: 0.642418\n",
      "Train Epoch: 4 [32000/114800 (28%)]\tLoss: 0.450884\n",
      "Train Epoch: 4 [38400/114800 (33%)]\tLoss: 0.409763\n"
     ]
    },
    {
     "name": "stderr",
     "output_type": "stream",
     "text": [
      "Exception ignored in: <bound method Image.__del__ of <PIL.Image.Image image mode=L size=28x28 at 0x11B654390>>\n",
      "Traceback (most recent call last):\n",
      "  File \"/Users/jrieke/anaconda2/envs/py3/lib/python3.6/site-packages/PIL/Image.py\", line 587, in __del__\n",
      "    if (hasattr(self, 'fp') and hasattr(self, '_exclusive_fp')\n",
      "KeyboardInterrupt\n"
     ]
    },
    {
     "name": "stdout",
     "output_type": "stream",
     "text": [
      "Train Epoch: 4 [44800/114800 (39%)]\tLoss: 0.494759\n",
      "Train Epoch: 4 [51200/114800 (45%)]\tLoss: 0.500844\n",
      "Train Epoch: 4 [57600/114800 (50%)]\tLoss: 0.732430\n",
      "Train Epoch: 4 [64000/114800 (56%)]\tLoss: 0.646362\n",
      "Train Epoch: 4 [70400/114800 (61%)]\tLoss: 0.496812\n",
      "Train Epoch: 4 [76800/114800 (67%)]\tLoss: 0.557956\n",
      "Train Epoch: 4 [83200/114800 (72%)]\tLoss: 0.721928\n",
      "Train Epoch: 4 [89600/114800 (78%)]\tLoss: 0.537880\n",
      "Train Epoch: 4 [96000/114800 (84%)]\tLoss: 0.474111\n",
      "Train Epoch: 4 [102400/114800 (89%)]\tLoss: 0.480194\n",
      "Train Epoch: 4 [108800/114800 (95%)]\tLoss: 0.340640\n",
      "Took 20.938366413116455 seconds\n",
      "\n",
      "Test set: Average loss: 0.4398, Accuracy: 18040/20800 (87%)\n",
      "\n",
      "Now testing on noisy dataset...\n",
      "\n",
      "Test set: Average loss: 5.2038, Accuracy: 465/10000 (5%)\n",
      "\n",
      "Epoch 5/30\n",
      "Train Epoch: 5 [0/114800 (0%)]\tLoss: 0.623673\n",
      "Train Epoch: 5 [6400/114800 (6%)]\tLoss: 0.547669\n",
      "Train Epoch: 5 [12800/114800 (11%)]\tLoss: 0.555407\n",
      "Train Epoch: 5 [19200/114800 (17%)]\tLoss: 0.599290\n",
      "Train Epoch: 5 [25600/114800 (22%)]\tLoss: 0.330663\n",
      "Train Epoch: 5 [32000/114800 (28%)]\tLoss: 0.606660\n",
      "Train Epoch: 5 [38400/114800 (33%)]\tLoss: 0.328434\n",
      "Train Epoch: 5 [44800/114800 (39%)]\tLoss: 0.310148\n",
      "Train Epoch: 5 [51200/114800 (45%)]\tLoss: 0.662019\n",
      "Train Epoch: 5 [57600/114800 (50%)]\tLoss: 0.473591\n",
      "Train Epoch: 5 [64000/114800 (56%)]\tLoss: 0.420948\n",
      "Train Epoch: 5 [70400/114800 (61%)]\tLoss: 0.571643\n",
      "Train Epoch: 5 [76800/114800 (67%)]\tLoss: 0.698385\n",
      "Train Epoch: 5 [83200/114800 (72%)]\tLoss: 0.502724\n",
      "Train Epoch: 5 [89600/114800 (78%)]\tLoss: 0.427980\n",
      "Train Epoch: 5 [96000/114800 (84%)]\tLoss: 0.356012\n",
      "Train Epoch: 5 [102400/114800 (89%)]\tLoss: 0.487444\n",
      "Train Epoch: 5 [108800/114800 (95%)]\tLoss: 0.434791\n",
      "Took 18.840280055999756 seconds\n",
      "\n",
      "Test set: Average loss: 0.4100, Accuracy: 18271/20800 (88%)\n",
      "\n",
      "Now testing on noisy dataset...\n",
      "\n",
      "Test set: Average loss: 5.4213, Accuracy: 450/10000 (4%)\n",
      "\n",
      "Epoch 6/30\n",
      "Train Epoch: 6 [0/114800 (0%)]\tLoss: 0.445766\n",
      "Train Epoch: 6 [6400/114800 (6%)]\tLoss: 0.426121\n",
      "Train Epoch: 6 [12800/114800 (11%)]\tLoss: 0.481721\n",
      "Train Epoch: 6 [19200/114800 (17%)]\tLoss: 0.656287\n",
      "Train Epoch: 6 [25600/114800 (22%)]\tLoss: 0.406442\n"
     ]
    },
    {
     "ename": "KeyboardInterrupt",
     "evalue": "",
     "output_type": "error",
     "traceback": [
      "\u001b[0;31m---------------------------------------------------------------------------\u001b[0m",
      "\u001b[0;31mKeyboardInterrupt\u001b[0m                         Traceback (most recent call last)",
      "\u001b[0;32m<ipython-input-250-7ca265bdd378>\u001b[0m in \u001b[0;36m<module>\u001b[0;34m()\u001b[0m\n\u001b[1;32m     11\u001b[0m     \u001b[0mprint\u001b[0m\u001b[0;34m(\u001b[0m\u001b[0;34m'Epoch {}/{}'\u001b[0m\u001b[0;34m.\u001b[0m\u001b[0mformat\u001b[0m\u001b[0;34m(\u001b[0m\u001b[0mepoch\u001b[0m\u001b[0;34m+\u001b[0m\u001b[0;36m1\u001b[0m\u001b[0;34m,\u001b[0m \u001b[0mparams\u001b[0m\u001b[0;34m[\u001b[0m\u001b[0;34m'num_epochs'\u001b[0m\u001b[0;34m]\u001b[0m\u001b[0;34m)\u001b[0m\u001b[0;34m)\u001b[0m\u001b[0;34m\u001b[0m\u001b[0m\n\u001b[1;32m     12\u001b[0m     \u001b[0mstart_time\u001b[0m \u001b[0;34m=\u001b[0m \u001b[0mtime\u001b[0m\u001b[0;34m.\u001b[0m\u001b[0mtime\u001b[0m\u001b[0;34m(\u001b[0m\u001b[0;34m)\u001b[0m\u001b[0;34m\u001b[0m\u001b[0m\n\u001b[0;32m---> 13\u001b[0;31m     \u001b[0mtrain\u001b[0m\u001b[0;34m(\u001b[0m\u001b[0mmodel\u001b[0m\u001b[0;34m,\u001b[0m \u001b[0mdevice\u001b[0m\u001b[0;34m,\u001b[0m \u001b[0mtrain_loader\u001b[0m\u001b[0;34m,\u001b[0m \u001b[0moptimizer\u001b[0m\u001b[0;34m,\u001b[0m \u001b[0mepoch\u001b[0m\u001b[0;34m+\u001b[0m\u001b[0;36m1\u001b[0m\u001b[0;34m)\u001b[0m\u001b[0;34m\u001b[0m\u001b[0m\n\u001b[0m\u001b[1;32m     14\u001b[0m     \u001b[0mprint\u001b[0m\u001b[0;34m(\u001b[0m\u001b[0;34m'Took'\u001b[0m\u001b[0;34m,\u001b[0m \u001b[0mtime\u001b[0m\u001b[0;34m.\u001b[0m\u001b[0mtime\u001b[0m\u001b[0;34m(\u001b[0m\u001b[0;34m)\u001b[0m\u001b[0;34m-\u001b[0m\u001b[0mstart_time\u001b[0m\u001b[0;34m,\u001b[0m \u001b[0;34m'seconds'\u001b[0m\u001b[0;34m)\u001b[0m\u001b[0;34m\u001b[0m\u001b[0m\n\u001b[1;32m     15\u001b[0m     \u001b[0mtest\u001b[0m\u001b[0;34m(\u001b[0m\u001b[0mmodel\u001b[0m\u001b[0;34m,\u001b[0m \u001b[0mdevice\u001b[0m\u001b[0;34m,\u001b[0m \u001b[0mtest_loader\u001b[0m\u001b[0;34m)\u001b[0m\u001b[0;34m\u001b[0m\u001b[0m\n",
      "\u001b[0;32m<ipython-input-231-bf5789005fce>\u001b[0m in \u001b[0;36mtrain\u001b[0;34m(model, device, train_loader, optimizer, epoch, params)\u001b[0m\n\u001b[1;32m      1\u001b[0m \u001b[0;32mdef\u001b[0m \u001b[0mtrain\u001b[0m\u001b[0;34m(\u001b[0m\u001b[0mmodel\u001b[0m\u001b[0;34m,\u001b[0m \u001b[0mdevice\u001b[0m\u001b[0;34m,\u001b[0m \u001b[0mtrain_loader\u001b[0m\u001b[0;34m,\u001b[0m \u001b[0moptimizer\u001b[0m\u001b[0;34m,\u001b[0m \u001b[0mepoch\u001b[0m\u001b[0;34m,\u001b[0m \u001b[0mparams\u001b[0m\u001b[0;34m=\u001b[0m\u001b[0;32mNone\u001b[0m\u001b[0;34m)\u001b[0m\u001b[0;34m:\u001b[0m\u001b[0;34m\u001b[0m\u001b[0m\n\u001b[1;32m      2\u001b[0m     \u001b[0mmodel\u001b[0m\u001b[0;34m.\u001b[0m\u001b[0mtrain\u001b[0m\u001b[0;34m(\u001b[0m\u001b[0;34m)\u001b[0m\u001b[0;34m\u001b[0m\u001b[0m\n\u001b[0;32m----> 3\u001b[0;31m     \u001b[0;32mfor\u001b[0m \u001b[0mbatch\u001b[0m\u001b[0;34m,\u001b[0m \u001b[0;34m(\u001b[0m\u001b[0mdata\u001b[0m\u001b[0;34m,\u001b[0m \u001b[0mtarget\u001b[0m\u001b[0;34m)\u001b[0m \u001b[0;32min\u001b[0m \u001b[0menumerate\u001b[0m\u001b[0;34m(\u001b[0m\u001b[0mtrain_loader\u001b[0m\u001b[0;34m)\u001b[0m\u001b[0;34m:\u001b[0m\u001b[0;34m\u001b[0m\u001b[0m\n\u001b[0m\u001b[1;32m      4\u001b[0m         \u001b[0mdata\u001b[0m\u001b[0;34m,\u001b[0m \u001b[0mtarget\u001b[0m \u001b[0;34m=\u001b[0m \u001b[0mdata\u001b[0m\u001b[0;34m.\u001b[0m\u001b[0mto\u001b[0m\u001b[0;34m(\u001b[0m\u001b[0mdevice\u001b[0m\u001b[0;34m)\u001b[0m\u001b[0;34m,\u001b[0m \u001b[0mtarget\u001b[0m\u001b[0;34m.\u001b[0m\u001b[0mto\u001b[0m\u001b[0;34m(\u001b[0m\u001b[0mdevice\u001b[0m\u001b[0;34m)\u001b[0m\u001b[0;34m\u001b[0m\u001b[0m\n\u001b[1;32m      5\u001b[0m         \u001b[0moptimizer\u001b[0m\u001b[0;34m.\u001b[0m\u001b[0mzero_grad\u001b[0m\u001b[0;34m(\u001b[0m\u001b[0;34m)\u001b[0m\u001b[0;34m\u001b[0m\u001b[0m\n",
      "\u001b[0;32m~/anaconda2/envs/py3/lib/python3.6/site-packages/torch/utils/data/dataloader.py\u001b[0m in \u001b[0;36m__next__\u001b[0;34m(self)\u001b[0m\n\u001b[1;32m    613\u001b[0m         \u001b[0;32mif\u001b[0m \u001b[0mself\u001b[0m\u001b[0;34m.\u001b[0m\u001b[0mnum_workers\u001b[0m \u001b[0;34m==\u001b[0m \u001b[0;36m0\u001b[0m\u001b[0;34m:\u001b[0m  \u001b[0;31m# same-process loading\u001b[0m\u001b[0;34m\u001b[0m\u001b[0m\n\u001b[1;32m    614\u001b[0m             \u001b[0mindices\u001b[0m \u001b[0;34m=\u001b[0m \u001b[0mnext\u001b[0m\u001b[0;34m(\u001b[0m\u001b[0mself\u001b[0m\u001b[0;34m.\u001b[0m\u001b[0msample_iter\u001b[0m\u001b[0;34m)\u001b[0m  \u001b[0;31m# may raise StopIteration\u001b[0m\u001b[0;34m\u001b[0m\u001b[0m\n\u001b[0;32m--> 615\u001b[0;31m             \u001b[0mbatch\u001b[0m \u001b[0;34m=\u001b[0m \u001b[0mself\u001b[0m\u001b[0;34m.\u001b[0m\u001b[0mcollate_fn\u001b[0m\u001b[0;34m(\u001b[0m\u001b[0;34m[\u001b[0m\u001b[0mself\u001b[0m\u001b[0;34m.\u001b[0m\u001b[0mdataset\u001b[0m\u001b[0;34m[\u001b[0m\u001b[0mi\u001b[0m\u001b[0;34m]\u001b[0m \u001b[0;32mfor\u001b[0m \u001b[0mi\u001b[0m \u001b[0;32min\u001b[0m \u001b[0mindices\u001b[0m\u001b[0;34m]\u001b[0m\u001b[0;34m)\u001b[0m\u001b[0;34m\u001b[0m\u001b[0m\n\u001b[0m\u001b[1;32m    616\u001b[0m             \u001b[0;32mif\u001b[0m \u001b[0mself\u001b[0m\u001b[0;34m.\u001b[0m\u001b[0mpin_memory\u001b[0m\u001b[0;34m:\u001b[0m\u001b[0;34m\u001b[0m\u001b[0m\n\u001b[1;32m    617\u001b[0m                 \u001b[0mbatch\u001b[0m \u001b[0;34m=\u001b[0m \u001b[0mpin_memory_batch\u001b[0m\u001b[0;34m(\u001b[0m\u001b[0mbatch\u001b[0m\u001b[0;34m)\u001b[0m\u001b[0;34m\u001b[0m\u001b[0m\n",
      "\u001b[0;32m~/anaconda2/envs/py3/lib/python3.6/site-packages/torch/utils/data/dataloader.py\u001b[0m in \u001b[0;36m<listcomp>\u001b[0;34m(.0)\u001b[0m\n\u001b[1;32m    613\u001b[0m         \u001b[0;32mif\u001b[0m \u001b[0mself\u001b[0m\u001b[0;34m.\u001b[0m\u001b[0mnum_workers\u001b[0m \u001b[0;34m==\u001b[0m \u001b[0;36m0\u001b[0m\u001b[0;34m:\u001b[0m  \u001b[0;31m# same-process loading\u001b[0m\u001b[0;34m\u001b[0m\u001b[0m\n\u001b[1;32m    614\u001b[0m             \u001b[0mindices\u001b[0m \u001b[0;34m=\u001b[0m \u001b[0mnext\u001b[0m\u001b[0;34m(\u001b[0m\u001b[0mself\u001b[0m\u001b[0;34m.\u001b[0m\u001b[0msample_iter\u001b[0m\u001b[0;34m)\u001b[0m  \u001b[0;31m# may raise StopIteration\u001b[0m\u001b[0;34m\u001b[0m\u001b[0m\n\u001b[0;32m--> 615\u001b[0;31m             \u001b[0mbatch\u001b[0m \u001b[0;34m=\u001b[0m \u001b[0mself\u001b[0m\u001b[0;34m.\u001b[0m\u001b[0mcollate_fn\u001b[0m\u001b[0;34m(\u001b[0m\u001b[0;34m[\u001b[0m\u001b[0mself\u001b[0m\u001b[0;34m.\u001b[0m\u001b[0mdataset\u001b[0m\u001b[0;34m[\u001b[0m\u001b[0mi\u001b[0m\u001b[0;34m]\u001b[0m \u001b[0;32mfor\u001b[0m \u001b[0mi\u001b[0m \u001b[0;32min\u001b[0m \u001b[0mindices\u001b[0m\u001b[0;34m]\u001b[0m\u001b[0;34m)\u001b[0m\u001b[0;34m\u001b[0m\u001b[0m\n\u001b[0m\u001b[1;32m    616\u001b[0m             \u001b[0;32mif\u001b[0m \u001b[0mself\u001b[0m\u001b[0;34m.\u001b[0m\u001b[0mpin_memory\u001b[0m\u001b[0;34m:\u001b[0m\u001b[0;34m\u001b[0m\u001b[0m\n\u001b[1;32m    617\u001b[0m                 \u001b[0mbatch\u001b[0m \u001b[0;34m=\u001b[0m \u001b[0mpin_memory_batch\u001b[0m\u001b[0;34m(\u001b[0m\u001b[0mbatch\u001b[0m\u001b[0;34m)\u001b[0m\u001b[0;34m\u001b[0m\u001b[0m\n",
      "\u001b[0;32m~/anaconda2/envs/py3/lib/python3.6/site-packages/torch/utils/data/dataset.py\u001b[0m in \u001b[0;36m__getitem__\u001b[0;34m(self, idx)\u001b[0m\n\u001b[1;32m    101\u001b[0m \u001b[0;34m\u001b[0m\u001b[0m\n\u001b[1;32m    102\u001b[0m     \u001b[0;32mdef\u001b[0m \u001b[0m__getitem__\u001b[0m\u001b[0;34m(\u001b[0m\u001b[0mself\u001b[0m\u001b[0;34m,\u001b[0m \u001b[0midx\u001b[0m\u001b[0;34m)\u001b[0m\u001b[0;34m:\u001b[0m\u001b[0;34m\u001b[0m\u001b[0m\n\u001b[0;32m--> 103\u001b[0;31m         \u001b[0;32mreturn\u001b[0m \u001b[0mself\u001b[0m\u001b[0;34m.\u001b[0m\u001b[0mdataset\u001b[0m\u001b[0;34m[\u001b[0m\u001b[0mself\u001b[0m\u001b[0;34m.\u001b[0m\u001b[0mindices\u001b[0m\u001b[0;34m[\u001b[0m\u001b[0midx\u001b[0m\u001b[0;34m]\u001b[0m\u001b[0;34m]\u001b[0m\u001b[0;34m\u001b[0m\u001b[0m\n\u001b[0m\u001b[1;32m    104\u001b[0m \u001b[0;34m\u001b[0m\u001b[0m\n\u001b[1;32m    105\u001b[0m     \u001b[0;32mdef\u001b[0m \u001b[0m__len__\u001b[0m\u001b[0;34m(\u001b[0m\u001b[0mself\u001b[0m\u001b[0;34m)\u001b[0m\u001b[0;34m:\u001b[0m\u001b[0;34m\u001b[0m\u001b[0m\n",
      "\u001b[0;32m~/anaconda2/envs/py3/lib/python3.6/site-packages/torchvision/datasets/mnist.py\u001b[0m in \u001b[0;36m__getitem__\u001b[0;34m(self, index)\u001b[0m\n\u001b[1;32m     75\u001b[0m \u001b[0;34m\u001b[0m\u001b[0m\n\u001b[1;32m     76\u001b[0m         \u001b[0;32mif\u001b[0m \u001b[0mself\u001b[0m\u001b[0;34m.\u001b[0m\u001b[0mtransform\u001b[0m \u001b[0;32mis\u001b[0m \u001b[0;32mnot\u001b[0m \u001b[0;32mNone\u001b[0m\u001b[0;34m:\u001b[0m\u001b[0;34m\u001b[0m\u001b[0m\n\u001b[0;32m---> 77\u001b[0;31m             \u001b[0mimg\u001b[0m \u001b[0;34m=\u001b[0m \u001b[0mself\u001b[0m\u001b[0;34m.\u001b[0m\u001b[0mtransform\u001b[0m\u001b[0;34m(\u001b[0m\u001b[0mimg\u001b[0m\u001b[0;34m)\u001b[0m\u001b[0;34m\u001b[0m\u001b[0m\n\u001b[0m\u001b[1;32m     78\u001b[0m \u001b[0;34m\u001b[0m\u001b[0m\n\u001b[1;32m     79\u001b[0m         \u001b[0;32mif\u001b[0m \u001b[0mself\u001b[0m\u001b[0;34m.\u001b[0m\u001b[0mtarget_transform\u001b[0m \u001b[0;32mis\u001b[0m \u001b[0;32mnot\u001b[0m \u001b[0;32mNone\u001b[0m\u001b[0;34m:\u001b[0m\u001b[0;34m\u001b[0m\u001b[0m\n",
      "\u001b[0;32m~/anaconda2/envs/py3/lib/python3.6/site-packages/torchvision/transforms/transforms.py\u001b[0m in \u001b[0;36m__call__\u001b[0;34m(self, img)\u001b[0m\n\u001b[1;32m     47\u001b[0m     \u001b[0;32mdef\u001b[0m \u001b[0m__call__\u001b[0m\u001b[0;34m(\u001b[0m\u001b[0mself\u001b[0m\u001b[0;34m,\u001b[0m \u001b[0mimg\u001b[0m\u001b[0;34m)\u001b[0m\u001b[0;34m:\u001b[0m\u001b[0;34m\u001b[0m\u001b[0m\n\u001b[1;32m     48\u001b[0m         \u001b[0;32mfor\u001b[0m \u001b[0mt\u001b[0m \u001b[0;32min\u001b[0m \u001b[0mself\u001b[0m\u001b[0;34m.\u001b[0m\u001b[0mtransforms\u001b[0m\u001b[0;34m:\u001b[0m\u001b[0;34m\u001b[0m\u001b[0m\n\u001b[0;32m---> 49\u001b[0;31m             \u001b[0mimg\u001b[0m \u001b[0;34m=\u001b[0m \u001b[0mt\u001b[0m\u001b[0;34m(\u001b[0m\u001b[0mimg\u001b[0m\u001b[0;34m)\u001b[0m\u001b[0;34m\u001b[0m\u001b[0m\n\u001b[0m\u001b[1;32m     50\u001b[0m         \u001b[0;32mreturn\u001b[0m \u001b[0mimg\u001b[0m\u001b[0;34m\u001b[0m\u001b[0m\n\u001b[1;32m     51\u001b[0m \u001b[0;34m\u001b[0m\u001b[0m\n",
      "\u001b[0;32m~/anaconda2/envs/py3/lib/python3.6/site-packages/torchvision/transforms/transforms.py\u001b[0m in \u001b[0;36m__call__\u001b[0;34m(self, pic)\u001b[0m\n\u001b[1;32m     74\u001b[0m             \u001b[0mTensor\u001b[0m\u001b[0;34m:\u001b[0m \u001b[0mConverted\u001b[0m \u001b[0mimage\u001b[0m\u001b[0;34m.\u001b[0m\u001b[0;34m\u001b[0m\u001b[0m\n\u001b[1;32m     75\u001b[0m         \"\"\"\n\u001b[0;32m---> 76\u001b[0;31m         \u001b[0;32mreturn\u001b[0m \u001b[0mF\u001b[0m\u001b[0;34m.\u001b[0m\u001b[0mto_tensor\u001b[0m\u001b[0;34m(\u001b[0m\u001b[0mpic\u001b[0m\u001b[0;34m)\u001b[0m\u001b[0;34m\u001b[0m\u001b[0m\n\u001b[0m\u001b[1;32m     77\u001b[0m \u001b[0;34m\u001b[0m\u001b[0m\n\u001b[1;32m     78\u001b[0m     \u001b[0;32mdef\u001b[0m \u001b[0m__repr__\u001b[0m\u001b[0;34m(\u001b[0m\u001b[0mself\u001b[0m\u001b[0;34m)\u001b[0m\u001b[0;34m:\u001b[0m\u001b[0;34m\u001b[0m\u001b[0m\n",
      "\u001b[0;32m~/anaconda2/envs/py3/lib/python3.6/site-packages/torchvision/transforms/functional.py\u001b[0m in \u001b[0;36mto_tensor\u001b[0;34m(pic)\u001b[0m\n\u001b[1;32m     76\u001b[0m     \u001b[0;32melse\u001b[0m\u001b[0;34m:\u001b[0m\u001b[0;34m\u001b[0m\u001b[0m\n\u001b[1;32m     77\u001b[0m         \u001b[0mnchannel\u001b[0m \u001b[0;34m=\u001b[0m \u001b[0mlen\u001b[0m\u001b[0;34m(\u001b[0m\u001b[0mpic\u001b[0m\u001b[0;34m.\u001b[0m\u001b[0mmode\u001b[0m\u001b[0;34m)\u001b[0m\u001b[0;34m\u001b[0m\u001b[0m\n\u001b[0;32m---> 78\u001b[0;31m     \u001b[0mimg\u001b[0m \u001b[0;34m=\u001b[0m \u001b[0mimg\u001b[0m\u001b[0;34m.\u001b[0m\u001b[0mview\u001b[0m\u001b[0;34m(\u001b[0m\u001b[0mpic\u001b[0m\u001b[0;34m.\u001b[0m\u001b[0msize\u001b[0m\u001b[0;34m[\u001b[0m\u001b[0;36m1\u001b[0m\u001b[0;34m]\u001b[0m\u001b[0;34m,\u001b[0m \u001b[0mpic\u001b[0m\u001b[0;34m.\u001b[0m\u001b[0msize\u001b[0m\u001b[0;34m[\u001b[0m\u001b[0;36m0\u001b[0m\u001b[0;34m]\u001b[0m\u001b[0;34m,\u001b[0m \u001b[0mnchannel\u001b[0m\u001b[0;34m)\u001b[0m\u001b[0;34m\u001b[0m\u001b[0m\n\u001b[0m\u001b[1;32m     79\u001b[0m     \u001b[0;31m# put it from HWC to CHW format\u001b[0m\u001b[0;34m\u001b[0m\u001b[0;34m\u001b[0m\u001b[0m\n\u001b[1;32m     80\u001b[0m     \u001b[0;31m# yikes, this transpose takes 80% of the loading time/CPU\u001b[0m\u001b[0;34m\u001b[0m\u001b[0;34m\u001b[0m\u001b[0m\n",
      "\u001b[0;31mKeyboardInterrupt\u001b[0m: "
     ]
    }
   ],
   "source": [
    "import time\n",
    "\n",
    "model = FeedforwardNet(num_hidden=500).to(device)\n",
    "#model = FeedbackNet().to(device)\n",
    "print('Model has', count_parameters(model), 'trainable parameters')\n",
    "\n",
    "# TODO: Maybe use Adam or Adadelta instead. \n",
    "optimizer = optim.SGD(model.parameters(), lr=params['learning_rate'], momentum=params['momentum'])\n",
    "\n",
    "for epoch in range(params['num_epochs']):\n",
    "    print('Epoch {}/{}'.format(epoch+1, params['num_epochs']))\n",
    "    start_time = time.time()\n",
    "    train(model, device, train_loader, optimizer, epoch+1)\n",
    "    print('Took', time.time()-start_time, 'seconds')\n",
    "    test(model, device, test_loader)\n",
    "    print('Now testing on noisy dataset...')\n",
    "    test(model, device, noisy_test_loader)"
   ]
  },
  {
   "cell_type": "markdown",
   "metadata": {},
   "source": [
    "# Experiment 2: Sequential Image Classification"
   ]
  },
  {
   "cell_type": "code",
   "execution_count": 3,
   "metadata": {},
   "outputs": [],
   "source": [
    "params = dict(batch_size=64, batch_size_eval=1000, num_epochs=30, learning_rate=0.01, momentum=0.5)"
   ]
  },
  {
   "cell_type": "markdown",
   "metadata": {},
   "source": [
    "## Load MNIST dataset and arrange digits in sequences"
   ]
  },
  {
   "cell_type": "code",
   "execution_count": 377,
   "metadata": {
    "colab": {},
    "colab_type": "code",
    "id": "CYYIKUvWdyZl"
   },
   "outputs": [],
   "source": [
    "import random\n",
    "\n",
    "class ImageSequenceDataset(torch.utils.data.Dataset):\n",
    "    def __init__(self, allowed_seqs, image_dataset, num_classes, num_samples=10000, noisy_image_dataset=None):\n",
    "        self.num_samples = num_samples\n",
    "        self.allowed_seqs = allowed_seqs\n",
    "        self.images_per_class = self.split_images_into_classes(image_dataset, num_classes)\n",
    "        if noisy_image_dataset is None:\n",
    "            self.add_noise = False\n",
    "        else:\n",
    "            self.add_noise = True\n",
    "            self.noisy_images_per_class = self.split_images_into_classes(noisy_image_dataset, num_classes)\n",
    "            \n",
    "    def split_images_into_classes(self, dataset, num_classes):\n",
    "        images_per_class = {i: [] for i in range(num_classes)}\n",
    "        for image, class_ in dataset:\n",
    "            images_per_class[class_.item()].append(image)\n",
    "        return images_per_class\n",
    "        \n",
    "    def __len__(self):\n",
    "        return self.num_samples\n",
    "    \n",
    "    def __getitem__(self, i):\n",
    "        seq = self.allowed_seqs[i % len(self.allowed_seqs)]\n",
    "        if self.add_noise:\n",
    "            images = [random.choice(self.images_per_class[class_]) for class_ in seq[:3]] + [random.choice(self.noisy_images_per_class[class_]) for class_ in seq[3:]]\n",
    "        else:\n",
    "            images = [random.choice(self.images_per_class[class_]) for class_ in seq]\n",
    "        return torch.cat(images), seq"
   ]
  },
  {
   "cell_type": "code",
   "execution_count": 378,
   "metadata": {
    "colab": {},
    "colab_type": "code",
    "id": "muWGKNxql2lO"
   },
   "outputs": [],
   "source": [
    "def to_letter(index):\n",
    "    return 'abcdefghijklmnopqrstuvwxyz'[index]\n",
    "\n",
    "def to_index(letter):\n",
    "    return ord(letter) - 97\n",
    "\n",
    "def plot_image_sequence(images, targets):\n",
    "    for i in range(len(images)):\n",
    "        plt.subplot(1, len(images), i+1)\n",
    "        plt.imshow(images[i], cmap='Greys')\n",
    "        plt.axis('off')\n",
    "        plt.title(to_letter(targets[i]))"
   ]
  },
  {
   "cell_type": "code",
   "execution_count": 379,
   "metadata": {},
   "outputs": [
    {
     "data": {
      "text/plain": [
       "1"
      ]
     },
     "execution_count": 379,
     "metadata": {},
     "output_type": "execute_result"
    }
   ],
   "source": [
    "to_index('b')"
   ]
  },
  {
   "cell_type": "code",
   "execution_count": 380,
   "metadata": {},
   "outputs": [],
   "source": [
    "num_allowed_seqs = 10\n",
    "seq_len = 5\n",
    "num_classes = 26  # mnist: 10, emnist: 26\n",
    "\n",
    "allowed_seqs = np.random.randint(0, num_classes, (num_allowed_seqs, seq_len))"
   ]
  },
  {
   "cell_type": "code",
   "execution_count": 407,
   "metadata": {},
   "outputs": [],
   "source": [
    "allowed_seqs_letters = np.loadtxt('data/5-letter-words.txt', dtype=str)\n",
    "# Use only 10 words for now.\n",
    "allowed_seqs_letters = np.random.choice(allowed_seqs_letters, 50)\n",
    "allowed_seqs = np.array([list(map(to_index, word)) for word in allowed_seqs_letters])"
   ]
  },
  {
   "cell_type": "code",
   "execution_count": 408,
   "metadata": {},
   "outputs": [
    {
     "data": {
      "text/plain": [
       "(array([[ 8, 13, 13,  4, 17],\n",
       "        [ 5, 17,  0, 12,  4],\n",
       "        [15,  4,  0,  2,  4],\n",
       "        [ 2, 11, 14,  2, 10],\n",
       "        [ 1, 11,  0,  2, 10],\n",
       "        [ 5, 14, 17, 19, 24],\n",
       "        [22, 14, 17, 11,  3],\n",
       "        [21,  8, 19,  0, 11],\n",
       "        [22, 14, 17, 19,  7],\n",
       "        [18,  7, 14, 22, 13],\n",
       "        [ 0, 13,  6, 17, 24],\n",
       "        [ 4, 13,  9, 14, 24],\n",
       "        [18, 14, 20, 19,  7],\n",
       "        [ 1, 11,  0,  2, 10],\n",
       "        [ 5, 14,  2, 20, 18],\n",
       "        [ 4, 21,  4, 13, 19],\n",
       "        [12,  0, 10,  4, 17],\n",
       "        [19, 17,  8,  0, 11],\n",
       "        [15,  7, 14, 13,  4],\n",
       "        [11, 20,  2, 10, 24],\n",
       "        [ 3, 17,  4, 18, 18],\n",
       "        [17, 14,  1,  8, 13],\n",
       "        [ 2,  7,  8,  4,  5],\n",
       "        [18, 10,  8, 11, 11],\n",
       "        [ 6, 14,  8, 13,  6],\n",
       "        [ 1, 11,  0, 12,  4],\n",
       "        [20, 18,  0,  6,  4],\n",
       "        [17,  8, 21,  0, 11],\n",
       "        [13,  4,  4,  3, 18],\n",
       "        [21,  8, 18,  8, 19],\n",
       "        [ 7, 14, 20, 18,  4],\n",
       "        [ 1, 17, 14, 10,  4],\n",
       "        [ 0, 11,  8, 21,  4],\n",
       "        [ 5, 17,  0, 13, 10],\n",
       "        [19,  7,  8, 13,  6],\n",
       "        [22, 17, 14, 19,  4],\n",
       "        [18, 14, 20, 19,  7],\n",
       "        [24,  8,  4, 11,  3],\n",
       "        [15, 14,  8, 13, 19],\n",
       "        [ 0, 15, 15, 11,  4],\n",
       "        [18,  4, 21,  4, 13],\n",
       "        [18,  8, 23, 19, 24],\n",
       "        [19, 17, 20, 11, 24],\n",
       "        [22,  0, 19,  4, 17],\n",
       "        [11,  8,  6,  7, 19],\n",
       "        [ 1,  0, 18,  8, 18],\n",
       "        [22,  7,  4,  4, 11],\n",
       "        [ 1,  0, 18,  4, 18],\n",
       "        [15, 14, 20, 13,  3],\n",
       "        [ 4, 13,  9, 14, 24]]),\n",
       " array(['inner', 'frame', 'peace', 'clock', 'black', 'forty', 'world',\n",
       "        'vital', 'worth', 'shown'], dtype='<U5'))"
      ]
     },
     "execution_count": 408,
     "metadata": {},
     "output_type": "execute_result"
    }
   ],
   "source": [
    "allowed_seqs, allowed_seqs_letters[:10]"
   ]
  },
  {
   "cell_type": "code",
   "execution_count": 409,
   "metadata": {},
   "outputs": [
    {
     "data": {
      "text/plain": [
       "(array([ 0,  1,  2,  3,  4,  5,  6,  7,  8,  9, 10, 11, 12, 13, 14, 15, 17,\n",
       "        18, 19, 20, 21, 22, 23, 24]),\n",
       " array([17,  7,  8,  5, 28,  5,  6, 10, 17,  2,  8, 17,  3, 16, 18,  6, 16,\n",
       "        17, 15,  8,  6,  6,  1,  8]))"
      ]
     },
     "execution_count": 409,
     "metadata": {},
     "output_type": "execute_result"
    }
   ],
   "source": [
    "np.unique(allowed_seqs, return_counts=True)\n",
    "# TODO: Some letters appear very rarely in these words, gotta keep this in mind when training only on sequences. "
   ]
  },
  {
   "cell_type": "code",
   "execution_count": 410,
   "metadata": {
    "colab": {},
    "colab_type": "code",
    "id": "8woSGMdwlP4k",
    "scrolled": true
   },
   "outputs": [],
   "source": [
    "train_dataset, val_dataset, test_dataset = load_emnist()#load_mnist()\n",
    "noisy_test_dataset = load_noisy_emnist(scaling_factor=4)#load_noisy_mnist(scaling_factor=4)\n",
    "\n",
    "seq_train_dataset = ImageSequenceDataset(allowed_seqs, train_dataset, num_classes, num_samples=50000)\n",
    "seq_test_dataset = ImageSequenceDataset(allowed_seqs, test_dataset, num_classes, num_samples=10000)\n",
    "noisy_seq_test_dataset = ImageSequenceDataset(allowed_seqs, test_dataset, num_classes, num_samples=10000, noisy_image_dataset=noisy_test_dataset)\n",
    "\n",
    "kwargs = {'num_workers': 3, 'pin_memory': True} if use_cuda else {}\n",
    "seq_train_loader = torch.utils.data.DataLoader(seq_train_dataset, batch_size=params['batch_size'], shuffle=True, **kwargs)\n",
    "seq_test_loader = torch.utils.data.DataLoader(seq_test_dataset, batch_size=params['batch_size_eval'], shuffle=False, **kwargs)\n",
    "noisy_seq_test_loader = torch.utils.data.DataLoader(noisy_seq_test_dataset, batch_size=params['batch_size_eval'], shuffle=False, **kwargs)"
   ]
  },
  {
   "cell_type": "code",
   "execution_count": 411,
   "metadata": {
    "colab": {
     "base_uri": "https://localhost:8080/",
     "height": 140
    },
    "colab_type": "code",
    "id": "A_2w2yEJmCLH",
    "outputId": "31c8cab6-ef7a-46fc-b861-8af892c51763"
   },
   "outputs": [
    {
     "data": {
      "image/png": "[encoded data removed]",
      "text/plain": [
       "<Figure size 432x288 with 5 Axes>"
      ]
     },
     "metadata": {},
     "output_type": "display_data"
    },
    {
     "data": {
      "image/png": "[encoded data removed]",
      "text/plain": [
       "<Figure size 432x288 with 5 Axes>"
      ]
     },
     "metadata": {},
     "output_type": "display_data"
    },
    {
     "data": {
      "image/png": "[encoded data removed]",
      "text/plain": [
       "<Figure size 432x288 with 5 Axes>"
      ]
     },
     "metadata": {},
     "output_type": "display_data"
    },
    {
     "data": {
      "image/png": "[encoded data removed]",
      "text/plain": [
       "<Figure size 432x288 with 5 Axes>"
      ]
     },
     "metadata": {},
     "output_type": "display_data"
    },
    {
     "data": {
      "image/png": "[encoded data removed]",
      "text/plain": [
       "<Figure size 432x288 with 5 Axes>"
      ]
     },
     "metadata": {},
     "output_type": "display_data"
    }
   ],
   "source": [
    "for i in range(5):\n",
    "    plt.figure()\n",
    "    plot_image_sequence(*seq_test_dataset[i])"
   ]
  },
  {
   "cell_type": "code",
   "execution_count": 412,
   "metadata": {},
   "outputs": [
    {
     "data": {
      "image/png": "[encoded data removed]",
      "text/plain": [
       "<Figure size 432x288 with 5 Axes>"
      ]
     },
     "metadata": {},
     "output_type": "display_data"
    },
    {
     "data": {
      "image/png": "[encoded data removed]",
      "text/plain": [
       "<Figure size 432x288 with 5 Axes>"
      ]
     },
     "metadata": {},
     "output_type": "display_data"
    },
    {
     "data": {
      "image/png": "[encoded data removed]",
      "text/plain": [
       "<Figure size 432x288 with 5 Axes>"
      ]
     },
     "metadata": {},
     "output_type": "display_data"
    },
    {
     "data": {
      "image/png": "[encoded data removed]",
      "text/plain": [
       "<Figure size 432x288 with 5 Axes>"
      ]
     },
     "metadata": {},
     "output_type": "display_data"
    },
    {
     "data": {
      "image/png": "[encoded data removed]",
      "text/plain": [
       "<Figure size 432x288 with 5 Axes>"
      ]
     },
     "metadata": {},
     "output_type": "display_data"
    }
   ],
   "source": [
    "for i in range(5):\n",
    "    plt.figure()\n",
    "    plot_image_sequence(*noisy_seq_test_dataset[i])"
   ]
  },
  {
   "cell_type": "markdown",
   "metadata": {},
   "source": [
    "## Networks"
   ]
  },
  {
   "cell_type": "code",
   "execution_count": 14,
   "metadata": {},
   "outputs": [],
   "source": [
    "class SequentialLSTM(nn.Module):\n",
    "    def __init__(self, num_hidden=500):\n",
    "        super(SequentialLSTM, self).__init__()\n",
    "        # TODO: Maybe change everything to batch_second.\n",
    "        self.lstm1 = nn.LSTM(784, num_hidden, batch_first=True)\n",
    "        self.lstm2 = nn.LSTM(num_hidden, 10, batch_first=True)\n",
    "        \n",
    "    def forward(self, inp):\n",
    "        inp = inp.view(inp.shape[0], inp.shape[1], 784)\n",
    "        #print(inp.shape)\n",
    "        x, (hidden, cell) = self.lstm1(inp)\n",
    "        # TODO: Need to add a non-linearity here?\n",
    "        x, (hidden, cell) = self.lstm2(x)\n",
    "        #print(x.shape, hidden.shape, cell.shape)\n",
    "        #print(x.shape)\n",
    "        x = F.log_softmax(x, dim=2)\n",
    "        #print(x.sum(dim=(2)))\n",
    "        return x"
   ]
  },
  {
   "cell_type": "code",
   "execution_count": 393,
   "metadata": {},
   "outputs": [],
   "source": [
    "class SequentialFeedforwardNet(nn.Module):\n",
    "    def __init__(self, num_hidden=500, dropout=0.5):\n",
    "        super(SequentialFeedforwardNet, self).__init__()\n",
    "        self.forward1 = nn.Linear(784, num_hidden)\n",
    "        self.forward2 = nn.Linear(num_hidden, 26)\n",
    "        self.dropout = nn.Dropout(dropout)\n",
    "\n",
    "    def forward(self, inp):\n",
    "        outp = torch.zeros(inp.shape[0], inp.shape[1], 26)\n",
    "        \n",
    "        for i, x in enumerate(inp.transpose(0, 1)):\n",
    "            x = x.view(-1, 784)\n",
    "            x = F.relu(self.forward1(x))\n",
    "            x = self.dropout(x)\n",
    "            x = self.forward2(x)\n",
    "            # TODO: Maybe change to loss function that includes softmax. \n",
    "            x = F.log_softmax(x, dim=1)\n",
    "            outp[:, i] = x\n",
    "            \n",
    "        return outp"
   ]
  },
  {
   "cell_type": "code",
   "execution_count": 394,
   "metadata": {},
   "outputs": [],
   "source": [
    "class SequentialFeedbackNet(nn.Module):\n",
    "    def __init__(self, num_hidden=500, dropout=0.5, alpha=0.5):\n",
    "        super(SequentialFeedbackNet, self).__init__()\n",
    "        self.forward1 = nn.Linear(784, num_hidden)\n",
    "        self.forward2 = nn.Linear(num_hidden, 26)\n",
    "        self.dropout = nn.Dropout(dropout)\n",
    "        \n",
    "        self.feedback1 = nn.Linear(num_hidden, 784)\n",
    "        self.feedback2 = nn.Linear(26, num_hidden)\n",
    "        self.alpha = alpha\n",
    "        \n",
    "        self.dropout = nn.Dropout(dropout)\n",
    "        self.no_feedback = False\n",
    "        \n",
    "    def forward(self, inp):\n",
    "        outp = torch.zeros(inp.shape[0], inp.shape[1], 26)\n",
    "        \n",
    "        feedback_activation_1 = torch.zeros(inp.shape[0], self.forward1.weight.shape[1])\n",
    "        feedback_activation_2 = torch.zeros(inp.shape[0], self.forward2.weight.shape[1])\n",
    "        \n",
    "        for i, x in enumerate(inp.transpose(0, 1)):\n",
    "            x = x.view(-1, 784)\n",
    "            #print(feedback_activation_1.mean())\n",
    "            x = F.relu(self.forward1((1 - self.alpha) * x + self.alpha * feedback_activation_1))\n",
    "            # TODO: Is this retained across forward passes?\n",
    "            feedback_activation_1 = self.feedback1(x)  # for next forward pass\n",
    "            x = self.dropout(x)\n",
    "            x = self.forward2(x)\n",
    "            #x = self.forward2((1 - self.alpha) * x +  self.alpha * feedback_activation_2)\n",
    "            # TODO: Maybe change to loss function that includes softmax. \n",
    "            x = F.log_softmax(x, dim=1)\n",
    "            feedback_activation_2 = self.feedback2(x)  # for next forward pass\n",
    "            outp[:, i] = x\n",
    "            \n",
    "        return outp\n",
    "\n",
    "    def forward_old(self, inp):\n",
    "        # inp shape: batch_size, time_steps, 28, 28\n",
    "        # TODO: Maybe change to batch_second. \n",
    "        output = torch.zeros(inp.shape[0], inp.shape[1], 10)  # shape: batch_size, time_steps, 10\n",
    "        \n",
    "        for i, x in enumerate(inp.transpose(0, 1)):  # iterate over time dimension\n",
    "            #print(x.shape)\n",
    "            \n",
    "            x = x.view(-1, 784)  # shape: batch_size, 784\n",
    "            # TODO: Implement multiple feedback passes. \n",
    "            \n",
    "            if i == 0 or self.no_feedback:\n",
    "                x = self.forward1(x)\n",
    "            else:\n",
    "                print(feedback_activation_1.shape)\n",
    "                #plt.imshow(feedback_activation_1.detach()[0].view(28, 28))\n",
    "                x = self.forward1(x + self.alpha * feedback_activation_1)\n",
    "            x = F.relu(x)\n",
    "            if not self.no_feedback:\n",
    "                feedback_activation_1 = self.feedback1(x)\n",
    "\n",
    "            x = self.dropout(x)\n",
    "            if i == 0 or self.no_feedback:\n",
    "                x = self.forward2(x)\n",
    "            else:\n",
    "                x = self.forward2(x + self.alpha * feedback_activation_2)\n",
    "            x = F.log_softmax(x, dim=1)\n",
    "            if not self.no_feedback:\n",
    "                feedback_activation_2 = self.feedback2(x)\n",
    "\n",
    "            output[:, i] = x\n",
    "    \n",
    "        return output\n",
    "        "
   ]
  },
  {
   "cell_type": "code",
   "execution_count": 54,
   "metadata": {},
   "outputs": [
    {
     "ename": "NameError",
     "evalue": "name 'ff_model' is not defined",
     "output_type": "error",
     "traceback": [
      "\u001b[0;31m---------------------------------------------------------------------------\u001b[0m",
      "\u001b[0;31mNameError\u001b[0m                                 Traceback (most recent call last)",
      "\u001b[0;32m<ipython-input-54-7af4b45350b6>\u001b[0m in \u001b[0;36m<module>\u001b[0;34m()\u001b[0m\n\u001b[1;32m      1\u001b[0m \u001b[0mimgs\u001b[0m \u001b[0;34m=\u001b[0m \u001b[0mseq_train_dataset\u001b[0m\u001b[0;34m[\u001b[0m\u001b[0;36m0\u001b[0m\u001b[0;34m]\u001b[0m\u001b[0;34m[\u001b[0m\u001b[0;36m0\u001b[0m\u001b[0;34m]\u001b[0m\u001b[0;34m\u001b[0m\u001b[0m\n\u001b[1;32m      2\u001b[0m \u001b[0mmodel\u001b[0m \u001b[0;34m=\u001b[0m \u001b[0mSequentialFeedbackNet\u001b[0m\u001b[0;34m(\u001b[0m\u001b[0;34m)\u001b[0m\u001b[0;34m\u001b[0m\u001b[0m\n\u001b[0;32m----> 3\u001b[0;31m \u001b[0mmodel\u001b[0m\u001b[0;34m.\u001b[0m\u001b[0mforward1\u001b[0m\u001b[0;34m.\u001b[0m\u001b[0mweight\u001b[0m\u001b[0;34m.\u001b[0m\u001b[0mdata\u001b[0m \u001b[0;34m=\u001b[0m \u001b[0mff_model\u001b[0m\u001b[0;34m.\u001b[0m\u001b[0mforward1\u001b[0m\u001b[0;34m.\u001b[0m\u001b[0mweight\u001b[0m\u001b[0;34m.\u001b[0m\u001b[0mdata\u001b[0m\u001b[0;34m.\u001b[0m\u001b[0mclone\u001b[0m\u001b[0;34m(\u001b[0m\u001b[0;34m)\u001b[0m\u001b[0;34m\u001b[0m\u001b[0m\n\u001b[0m\u001b[1;32m      4\u001b[0m \u001b[0mmodel\u001b[0m\u001b[0;34m.\u001b[0m\u001b[0mforward1\u001b[0m\u001b[0;34m.\u001b[0m\u001b[0mbias\u001b[0m\u001b[0;34m.\u001b[0m\u001b[0mdata\u001b[0m \u001b[0;34m=\u001b[0m \u001b[0mff_model\u001b[0m\u001b[0;34m.\u001b[0m\u001b[0mforward1\u001b[0m\u001b[0;34m.\u001b[0m\u001b[0mbias\u001b[0m\u001b[0;34m.\u001b[0m\u001b[0mdata\u001b[0m\u001b[0;34m.\u001b[0m\u001b[0mclone\u001b[0m\u001b[0;34m(\u001b[0m\u001b[0;34m)\u001b[0m\u001b[0;34m\u001b[0m\u001b[0m\n\u001b[1;32m      5\u001b[0m \u001b[0mmodel\u001b[0m\u001b[0;34m.\u001b[0m\u001b[0mforward2\u001b[0m\u001b[0;34m.\u001b[0m\u001b[0mweight\u001b[0m\u001b[0;34m.\u001b[0m\u001b[0mdata\u001b[0m \u001b[0;34m=\u001b[0m \u001b[0mff_model\u001b[0m\u001b[0;34m.\u001b[0m\u001b[0mforward2\u001b[0m\u001b[0;34m.\u001b[0m\u001b[0mweight\u001b[0m\u001b[0;34m.\u001b[0m\u001b[0mdata\u001b[0m\u001b[0;34m.\u001b[0m\u001b[0mclone\u001b[0m\u001b[0;34m(\u001b[0m\u001b[0;34m)\u001b[0m\u001b[0;34m\u001b[0m\u001b[0m\n",
      "\u001b[0;31mNameError\u001b[0m: name 'ff_model' is not defined"
     ]
    }
   ],
   "source": [
    "imgs = seq_train_dataset[0][0]\n",
    "model = SequentialFeedbackNet()\n",
    "model.forward1.weight.data = ff_model.forward1.weight.data.clone()\n",
    "model.forward1.bias.data = ff_model.forward1.bias.data.clone()\n",
    "model.forward2.weight.data = ff_model.forward2.weight.data.clone()\n",
    "model.forward2.bias.data = ff_model.forward2.bias.data.clone()\n",
    "model(imgs[None], no_feedback=False)"
   ]
  },
  {
   "cell_type": "code",
   "execution_count": 172,
   "metadata": {},
   "outputs": [
    {
     "data": {
      "text/plain": [
       "<matplotlib.image.AxesImage at 0x125515400>"
      ]
     },
     "execution_count": 172,
     "metadata": {},
     "output_type": "execute_result"
    },
    {
     "data": {
      "image/png": "[encoded data removed]",
      "text/plain": [
       "<Figure size 432x288 with 1 Axes>"
      ]
     },
     "metadata": {},
     "output_type": "display_data"
    }
   ],
   "source": [
    "plt.imshow(imgs[0])"
   ]
  },
  {
   "cell_type": "markdown",
   "metadata": {},
   "source": [
    "## Training"
   ]
  },
  {
   "cell_type": "code",
   "execution_count": 63,
   "metadata": {},
   "outputs": [],
   "source": [
    "# Good template for hyperparameter optimization:\n",
    "#def run(train_dataset, val_dataset, device, params, history)\n",
    "#def "
   ]
  },
  {
   "cell_type": "code",
   "execution_count": 373,
   "metadata": {},
   "outputs": [],
   "source": [
    "# TODO: Debug properly.\n",
    "def train_sequential(model, device, train_loader, optimizer, epoch, params=None):\n",
    "    model.train()\n",
    "    for batch, (data, target) in enumerate(seq_train_loader):\n",
    "        data, target = data.to(device), target.to(device)\n",
    "\n",
    "        output = model(data)\n",
    "        #print(output.shape, target.shape)\n",
    "        \n",
    "        # TODO: According to https://pytorch.org/tutorials/beginner/nlp/sequence_models_tutorial.html\n",
    "        #       need to do model.zero_grad() and model.hidden = model.init_hidden() here. \n",
    "\n",
    "        loss = F.nll_loss(output.transpose(1, 2), target)  # loss function requires transpose\n",
    "        loss.backward()\n",
    "        optimizer.step()\n",
    "        if batch % 100 == 0:\n",
    "            print('Train Epoch: {} [{}/{} ({:.0f}%)]\\tLoss: {:.6f}'.format(\n",
    "                epoch, batch * len(data), len(train_loader.dataset),\n",
    "                100. * batch / len(train_loader), loss.item()))"
   ]
  },
  {
   "cell_type": "code",
   "execution_count": 447,
   "metadata": {},
   "outputs": [],
   "source": [
    "# TODO: Debug properly.\n",
    "def test_sequential(model, device, test_loader, per_position=False, params=None):\n",
    "    model.eval()\n",
    "    test_loss = 0\n",
    "    correct = 0\n",
    "    if per_position:\n",
    "        correct_per_position = torch.zeros(seq_len)\n",
    "    with torch.no_grad():\n",
    "        for data, target in test_loader:\n",
    "            data, target = data.to(device), target.to(device)\n",
    "            output = model(data)\n",
    "            test_loss += F.nll_loss(output.transpose(1, 2), target, reduction='sum').item() # sum up batch loss, loss function requires transpose\n",
    "            \n",
    "            pred = output.view(-1, output.shape[-1]).max(1, keepdim=True)[1].view_as(target) # get the index of the max log-probability\n",
    "            correct += (pred == target).sum().item()\n",
    "            if per_position:\n",
    "                correct_per_position += (pred == target).float().sum(0)\n",
    "\n",
    "    # TODO: Make this independent of seq_len (used twice!).\n",
    "    test_loss /= len(test_loader.dataset) * seq_len\n",
    "    print('Test set: Average loss: {:.4f}, Accuracy: {}/{} ({:.1f} %)'.format(\n",
    "        test_loss, correct, len(test_loader.dataset) * seq_len,\n",
    "        100. * correct / (len(test_loader.dataset) * seq_len)))\n",
    "    if per_position:\n",
    "        print('Accuracy per position:', ' | '.join(['{:.1f} %'.format(100. * corr.item() / len(test_loader.dataset)) for corr in correct_per_position]))"
   ]
  },
  {
   "cell_type": "code",
   "execution_count": 17,
   "metadata": {},
   "outputs": [
    {
     "ename": "NameError",
     "evalue": "name 'model' is not defined",
     "output_type": "error",
     "traceback": [
      "\u001b[0;31m---------------------------------------------------------------------------\u001b[0m",
      "\u001b[0;31mNameError\u001b[0m                                 Traceback (most recent call last)",
      "\u001b[0;32m<ipython-input-17-c975f60cfd64>\u001b[0m in \u001b[0;36m<module>\u001b[0;34m()\u001b[0m\n\u001b[0;32m----> 1\u001b[0;31m \u001b[0mlen\u001b[0m\u001b[0;34m(\u001b[0m\u001b[0;34m[\u001b[0m\u001b[0mp\u001b[0m \u001b[0;32mfor\u001b[0m \u001b[0mp\u001b[0m \u001b[0;32min\u001b[0m \u001b[0mmodel\u001b[0m\u001b[0;34m.\u001b[0m\u001b[0mparameters\u001b[0m\u001b[0;34m(\u001b[0m\u001b[0;34m)\u001b[0m \u001b[0;32mif\u001b[0m \u001b[0mp\u001b[0m\u001b[0;34m.\u001b[0m\u001b[0mrequires_grad\u001b[0m\u001b[0;34m]\u001b[0m\u001b[0;34m)\u001b[0m\u001b[0;34m\u001b[0m\u001b[0m\n\u001b[0m",
      "\u001b[0;31mNameError\u001b[0m: name 'model' is not defined"
     ]
    }
   ],
   "source": [
    "len([p for p in model.parameters() if p.requires_grad])"
   ]
  },
  {
   "cell_type": "code",
   "execution_count": 450,
   "metadata": {
    "scrolled": false
   },
   "outputs": [
    {
     "name": "stdout",
     "output_type": "stream",
     "text": [
      "Epoch 1/30\n",
      "Train Epoch: 1 [0/50000 (0%)]\tLoss: 3.280133\n",
      "Train Epoch: 1 [6400/50000 (13%)]\tLoss: 3.196204\n",
      "Train Epoch: 1 [12800/50000 (26%)]\tLoss: 2.972905\n",
      "Train Epoch: 1 [19200/50000 (38%)]\tLoss: 2.747561\n",
      "Train Epoch: 1 [25600/50000 (51%)]\tLoss: 2.592580\n",
      "Train Epoch: 1 [32000/50000 (64%)]\tLoss: 2.386707\n",
      "Train Epoch: 1 [38400/50000 (77%)]\tLoss: 2.225028\n",
      "Train Epoch: 1 [44800/50000 (90%)]\tLoss: 2.166148\n",
      "Took 16.692970037460327 seconds\n",
      "\n",
      "Test set: Average loss: 1.8673, Accuracy: 22048/50000 (44.1 %)\n",
      "Accuracy per position: 28.2 % | 53.9 % | 41.3 % | 49.1 % | 47.9 %\n",
      "\n",
      "Now testing on noisy dataset...\n",
      "Test set: Average loss: 2.2142, Accuracy: 16620/50000 (33.2 %)\n",
      "Accuracy per position: 28.6 % | 54.6 % | 41.8 % | 19.5 % | 21.8 %\n",
      "\n",
      "Epoch 2/30\n",
      "Train Epoch: 2 [0/50000 (0%)]\tLoss: 1.926338\n",
      "Train Epoch: 2 [6400/50000 (13%)]\tLoss: 1.741465\n",
      "Train Epoch: 2 [12800/50000 (26%)]\tLoss: 1.709211\n",
      "Train Epoch: 2 [19200/50000 (38%)]\tLoss: 1.566834\n",
      "Train Epoch: 2 [25600/50000 (51%)]\tLoss: 1.379108\n",
      "Train Epoch: 2 [32000/50000 (64%)]\tLoss: 1.358989\n",
      "Train Epoch: 2 [38400/50000 (77%)]\tLoss: 1.631289\n",
      "Train Epoch: 2 [44800/50000 (90%)]\tLoss: 1.620032\n",
      "Took 16.370304107666016 seconds\n",
      "\n",
      "Test set: Average loss: 1.3035, Accuracy: 31622/50000 (63.2 %)\n",
      "Accuracy per position: 63.9 % | 67.5 % | 65.0 % | 64.2 % | 55.7 %\n",
      "\n",
      "Now testing on noisy dataset...\n",
      "Test set: Average loss: 2.0038, Accuracy: 24742/50000 (49.5 %)\n",
      "Accuracy per position: 63.5 % | 66.3 % | 64.9 % | 29.2 % | 23.5 %\n",
      "\n",
      "Epoch 3/30\n",
      "Train Epoch: 3 [0/50000 (0%)]\tLoss: 1.253512\n",
      "Train Epoch: 3 [6400/50000 (13%)]\tLoss: 1.367517\n",
      "Train Epoch: 3 [12800/50000 (26%)]\tLoss: 1.452644\n",
      "Train Epoch: 3 [19200/50000 (38%)]\tLoss: 1.394185\n",
      "Train Epoch: 3 [25600/50000 (51%)]\tLoss: 1.467279\n",
      "Train Epoch: 3 [32000/50000 (64%)]\tLoss: 1.240543\n",
      "Train Epoch: 3 [38400/50000 (77%)]\tLoss: 0.989170\n",
      "Train Epoch: 3 [44800/50000 (90%)]\tLoss: 1.055385\n",
      "Took 17.669912099838257 seconds\n",
      "\n",
      "Test set: Average loss: 0.9465, Accuracy: 35951/50000 (71.9 %)\n",
      "Accuracy per position: 70.9 % | 75.8 % | 73.1 % | 73.2 % | 66.5 %\n",
      "\n",
      "Now testing on noisy dataset...\n",
      "Test set: Average loss: 2.2255, Accuracy: 26732/50000 (53.5 %)\n",
      "Accuracy per position: 70.9 % | 75.8 % | 72.6 % | 22.6 % | 25.4 %\n",
      "\n",
      "Epoch 4/30\n",
      "Train Epoch: 4 [0/50000 (0%)]\tLoss: 1.096145\n",
      "Train Epoch: 4 [6400/50000 (13%)]\tLoss: 1.128817\n",
      "Train Epoch: 4 [12800/50000 (26%)]\tLoss: 1.009625\n",
      "Train Epoch: 4 [19200/50000 (38%)]\tLoss: 1.045580\n",
      "Train Epoch: 4 [25600/50000 (51%)]\tLoss: 1.001922\n",
      "Train Epoch: 4 [32000/50000 (64%)]\tLoss: 1.096865\n",
      "Train Epoch: 4 [38400/50000 (77%)]\tLoss: 0.944872\n",
      "Train Epoch: 4 [44800/50000 (90%)]\tLoss: 0.965204\n",
      "Took 16.860300064086914 seconds\n",
      "\n",
      "Test set: Average loss: 0.7320, Accuracy: 39296/50000 (78.6 %)\n",
      "Accuracy per position: 78.4 % | 81.9 % | 76.2 % | 78.2 % | 78.2 %\n",
      "\n",
      "Now testing on noisy dataset...\n",
      "Test set: Average loss: 2.2669, Accuracy: 28316/50000 (56.6 %)\n",
      "Accuracy per position: 78.1 % | 81.6 % | 76.7 % | 22.6 % | 24.1 %\n",
      "\n",
      "Epoch 5/30\n",
      "Train Epoch: 5 [0/50000 (0%)]\tLoss: 0.913844\n",
      "Train Epoch: 5 [6400/50000 (13%)]\tLoss: 1.024614\n",
      "Train Epoch: 5 [12800/50000 (26%)]\tLoss: 0.832271\n",
      "Train Epoch: 5 [19200/50000 (38%)]\tLoss: 0.786048\n",
      "Train Epoch: 5 [25600/50000 (51%)]\tLoss: 0.895651\n",
      "Train Epoch: 5 [32000/50000 (64%)]\tLoss: 0.849543\n",
      "Train Epoch: 5 [38400/50000 (77%)]\tLoss: 0.896842\n",
      "Train Epoch: 5 [44800/50000 (90%)]\tLoss: 0.745772\n",
      "Took 17.117258071899414 seconds\n",
      "\n",
      "Test set: Average loss: 0.6357, Accuracy: 40965/50000 (81.9 %)\n",
      "Accuracy per position: 81.6 % | 83.9 % | 78.5 % | 83.2 % | 82.5 %\n",
      "\n",
      "Now testing on noisy dataset...\n",
      "Test set: Average loss: 2.7134, Accuracy: 28505/50000 (57.0 %)\n",
      "Accuracy per position: 81.1 % | 83.7 % | 78.2 % | 22.9 % | 19.0 %\n",
      "\n",
      "Epoch 6/30\n",
      "Train Epoch: 6 [0/50000 (0%)]\tLoss: 0.632118\n",
      "Train Epoch: 6 [6400/50000 (13%)]\tLoss: 0.858284\n",
      "Train Epoch: 6 [12800/50000 (26%)]\tLoss: 0.683500\n",
      "Train Epoch: 6 [19200/50000 (38%)]\tLoss: 0.606751\n",
      "Train Epoch: 6 [25600/50000 (51%)]\tLoss: 0.641244\n",
      "Train Epoch: 6 [32000/50000 (64%)]\tLoss: 0.978216\n",
      "Train Epoch: 6 [38400/50000 (77%)]\tLoss: 0.701027\n",
      "Train Epoch: 6 [44800/50000 (90%)]\tLoss: 0.828710\n",
      "Took 16.519425868988037 seconds\n",
      "\n",
      "Test set: Average loss: 0.5766, Accuracy: 41971/50000 (83.9 %)\n",
      "Accuracy per position: 83.3 % | 85.6 % | 82.6 % | 84.5 % | 83.8 %\n",
      "\n",
      "Now testing on noisy dataset...\n",
      "Test set: Average loss: 3.1247, Accuracy: 29625/50000 (59.2 %)\n",
      "Accuracy per position: 83.3 % | 85.0 % | 83.5 % | 21.7 % | 22.8 %\n",
      "\n",
      "Epoch 7/30\n",
      "Train Epoch: 7 [0/50000 (0%)]\tLoss: 0.763867\n",
      "Train Epoch: 7 [6400/50000 (13%)]\tLoss: 0.754846\n",
      "Train Epoch: 7 [12800/50000 (26%)]\tLoss: 0.732221\n",
      "Train Epoch: 7 [19200/50000 (38%)]\tLoss: 0.698430\n",
      "Train Epoch: 7 [25600/50000 (51%)]\tLoss: 0.743043\n",
      "Train Epoch: 7 [32000/50000 (64%)]\tLoss: 0.608256\n",
      "Train Epoch: 7 [38400/50000 (77%)]\tLoss: 0.787868\n",
      "Train Epoch: 7 [44800/50000 (90%)]\tLoss: 0.585152\n",
      "Took 17.606933116912842 seconds\n",
      "\n",
      "Test set: Average loss: 0.5073, Accuracy: 43363/50000 (86.7 %)\n",
      "Accuracy per position: 84.7 % | 88.6 % | 88.3 % | 86.8 % | 85.3 %\n",
      "\n",
      "Now testing on noisy dataset...\n",
      "Test set: Average loss: 3.5189, Accuracy: 30718/50000 (61.4 %)\n",
      "Accuracy per position: 85.5 % | 88.5 % | 88.0 % | 23.0 % | 22.1 %\n",
      "\n",
      "Epoch 8/30\n",
      "Train Epoch: 8 [0/50000 (0%)]\tLoss: 0.744490\n",
      "Train Epoch: 8 [6400/50000 (13%)]\tLoss: 0.811561\n",
      "Train Epoch: 8 [12800/50000 (26%)]\tLoss: 0.615539\n",
      "Train Epoch: 8 [19200/50000 (38%)]\tLoss: 0.708927\n",
      "Train Epoch: 8 [25600/50000 (51%)]\tLoss: 0.784890\n",
      "Train Epoch: 8 [32000/50000 (64%)]\tLoss: 0.578687\n",
      "Train Epoch: 8 [38400/50000 (77%)]\tLoss: 0.599265\n",
      "Train Epoch: 8 [44800/50000 (90%)]\tLoss: 0.736608\n",
      "Took 17.246002197265625 seconds\n",
      "\n",
      "Test set: Average loss: 0.4904, Accuracy: 43730/50000 (87.5 %)\n",
      "Accuracy per position: 85.6 % | 88.9 % | 87.4 % | 86.7 % | 88.8 %\n",
      "\n",
      "Now testing on noisy dataset...\n",
      "Test set: Average loss: 3.5068, Accuracy: 31162/50000 (62.3 %)\n",
      "Accuracy per position: 86.2 % | 89.6 % | 88.0 % | 27.7 % | 20.2 %\n",
      "\n",
      "Epoch 9/30\n",
      "Train Epoch: 9 [0/50000 (0%)]\tLoss: 0.728041\n",
      "Train Epoch: 9 [6400/50000 (13%)]\tLoss: 0.682110\n",
      "Train Epoch: 9 [12800/50000 (26%)]\tLoss: 0.609955\n",
      "Train Epoch: 9 [19200/50000 (38%)]\tLoss: 0.493881\n",
      "Train Epoch: 9 [25600/50000 (51%)]\tLoss: 0.601996\n",
      "Train Epoch: 9 [32000/50000 (64%)]\tLoss: 0.781968\n",
      "Train Epoch: 9 [38400/50000 (77%)]\tLoss: 0.764600\n",
      "Train Epoch: 9 [44800/50000 (90%)]\tLoss: 0.608856\n",
      "Took 15.917273044586182 seconds\n",
      "\n",
      "Test set: Average loss: 0.4361, Accuracy: 44566/50000 (89.1 %)\n",
      "Accuracy per position: 86.7 % | 90.1 % | 90.7 % | 88.8 % | 89.5 %\n",
      "\n",
      "Now testing on noisy dataset...\n",
      "Test set: Average loss: 4.0378, Accuracy: 31428/50000 (62.9 %)\n",
      "Accuracy per position: 86.5 % | 90.6 % | 90.5 % | 25.7 % | 21.0 %\n",
      "\n",
      "Epoch 10/30\n",
      "Train Epoch: 10 [0/50000 (0%)]\tLoss: 0.484272\n",
      "Train Epoch: 10 [6400/50000 (13%)]\tLoss: 0.556820\n",
      "Train Epoch: 10 [12800/50000 (26%)]\tLoss: 0.782441\n",
      "Train Epoch: 10 [19200/50000 (38%)]\tLoss: 0.736670\n",
      "Train Epoch: 10 [25600/50000 (51%)]\tLoss: 0.907595\n",
      "Train Epoch: 10 [32000/50000 (64%)]\tLoss: 0.858740\n",
      "Train Epoch: 10 [38400/50000 (77%)]\tLoss: 0.581473\n",
      "Train Epoch: 10 [44800/50000 (90%)]\tLoss: 0.783657\n",
      "Took 15.892035007476807 seconds\n",
      "\n",
      "Test set: Average loss: 0.4324, Accuracy: 44941/50000 (89.9 %)\n",
      "Accuracy per position: 86.9 % | 90.4 % | 90.8 % | 90.3 % | 91.1 %\n",
      "\n",
      "Now testing on noisy dataset...\n",
      "Test set: Average loss: 4.6054, Accuracy: 32199/50000 (64.4 %)\n",
      "Accuracy per position: 86.8 % | 90.4 % | 90.8 % | 28.2 % | 25.9 %\n",
      "\n",
      "Epoch 11/30\n",
      "Train Epoch: 11 [0/50000 (0%)]\tLoss: 0.749861\n",
      "Train Epoch: 11 [6400/50000 (13%)]\tLoss: 0.684928\n",
      "Train Epoch: 11 [12800/50000 (26%)]\tLoss: 0.684410\n",
      "Train Epoch: 11 [19200/50000 (38%)]\tLoss: 0.721023\n",
      "Train Epoch: 11 [25600/50000 (51%)]\tLoss: 0.902886\n",
      "Train Epoch: 11 [32000/50000 (64%)]\tLoss: 0.624294\n",
      "Train Epoch: 11 [38400/50000 (77%)]\tLoss: 0.634275\n",
      "Train Epoch: 11 [44800/50000 (90%)]\tLoss: 0.556924\n",
      "Took 16.036432027816772 seconds\n",
      "\n",
      "Test set: Average loss: 0.4313, Accuracy: 45026/50000 (90.1 %)\n",
      "Accuracy per position: 87.1 % | 90.3 % | 91.1 % | 90.6 % | 91.1 %\n",
      "\n",
      "Now testing on noisy dataset...\n",
      "Test set: Average loss: 5.1634, Accuracy: 32745/50000 (65.5 %)\n",
      "Accuracy per position: 86.7 % | 90.3 % | 91.3 % | 34.8 % | 24.3 %\n",
      "\n",
      "Epoch 12/30\n",
      "Train Epoch: 12 [0/50000 (0%)]\tLoss: 0.621923\n",
      "Train Epoch: 12 [6400/50000 (13%)]\tLoss: 0.678817\n",
      "Train Epoch: 12 [12800/50000 (26%)]\tLoss: 0.711171\n"
     ]
    },
    {
     "name": "stdout",
     "output_type": "stream",
     "text": [
      "Train Epoch: 12 [19200/50000 (38%)]\tLoss: 0.602999\n",
      "Train Epoch: 12 [25600/50000 (51%)]\tLoss: 0.662686\n",
      "Train Epoch: 12 [32000/50000 (64%)]\tLoss: 0.933930\n",
      "Train Epoch: 12 [38400/50000 (77%)]\tLoss: 0.678953\n",
      "Train Epoch: 12 [44800/50000 (90%)]\tLoss: 0.834900\n",
      "Took 16.62908411026001 seconds\n",
      "\n",
      "Test set: Average loss: 0.4102, Accuracy: 45339/50000 (90.7 %)\n",
      "Accuracy per position: 86.9 % | 90.5 % | 92.4 % | 91.4 % | 92.2 %\n",
      "\n",
      "Now testing on noisy dataset...\n",
      "Test set: Average loss: 6.2288, Accuracy: 32735/50000 (65.5 %)\n",
      "Accuracy per position: 87.9 % | 90.8 % | 92.6 % | 34.1 % | 21.9 %\n",
      "\n",
      "Epoch 13/30\n",
      "Train Epoch: 13 [0/50000 (0%)]\tLoss: 0.620214\n",
      "Train Epoch: 13 [6400/50000 (13%)]\tLoss: 0.584404\n",
      "Train Epoch: 13 [12800/50000 (26%)]\tLoss: 0.697539\n",
      "Train Epoch: 13 [19200/50000 (38%)]\tLoss: 0.796592\n",
      "Train Epoch: 13 [25600/50000 (51%)]\tLoss: 0.901122\n",
      "Train Epoch: 13 [32000/50000 (64%)]\tLoss: 0.932906\n",
      "Train Epoch: 13 [38400/50000 (77%)]\tLoss: 0.864395\n",
      "Train Epoch: 13 [44800/50000 (90%)]\tLoss: 0.730523\n",
      "Took 17.275532245635986 seconds\n",
      "\n",
      "Test set: Average loss: 0.3845, Accuracy: 45437/50000 (90.9 %)\n",
      "Accuracy per position: 87.9 % | 90.3 % | 92.0 % | 91.5 % | 92.5 %\n",
      "\n",
      "Now testing on noisy dataset...\n",
      "Test set: Average loss: 6.6724, Accuracy: 32862/50000 (65.7 %)\n",
      "Accuracy per position: 87.4 % | 90.7 % | 92.0 % | 34.7 % | 23.8 %\n",
      "\n",
      "Epoch 14/30\n",
      "Train Epoch: 14 [0/50000 (0%)]\tLoss: 0.640577\n",
      "Train Epoch: 14 [6400/50000 (13%)]\tLoss: 0.640002\n",
      "Train Epoch: 14 [12800/50000 (26%)]\tLoss: 0.722119\n",
      "Train Epoch: 14 [19200/50000 (38%)]\tLoss: 0.516842\n",
      "Train Epoch: 14 [25600/50000 (51%)]\tLoss: 0.850393\n",
      "Train Epoch: 14 [32000/50000 (64%)]\tLoss: 0.516648\n",
      "Train Epoch: 14 [38400/50000 (77%)]\tLoss: 0.526800\n",
      "Train Epoch: 14 [44800/50000 (90%)]\tLoss: 0.841668\n",
      "Took 19.116143941879272 seconds\n",
      "\n",
      "Test set: Average loss: 0.4016, Accuracy: 45311/50000 (90.6 %)\n",
      "Accuracy per position: 87.8 % | 89.4 % | 91.3 % | 91.5 % | 93.1 %\n",
      "\n",
      "Now testing on noisy dataset...\n",
      "Test set: Average loss: 6.5906, Accuracy: 32786/50000 (65.6 %)\n",
      "Accuracy per position: 87.5 % | 90.0 % | 91.4 % | 35.7 % | 23.3 %\n",
      "\n",
      "Epoch 15/30\n",
      "Train Epoch: 15 [0/50000 (0%)]\tLoss: 0.794652\n",
      "Train Epoch: 15 [6400/50000 (13%)]\tLoss: 0.702825\n",
      "Train Epoch: 15 [12800/50000 (26%)]\tLoss: 0.656407\n",
      "Train Epoch: 15 [19200/50000 (38%)]\tLoss: 0.705890\n",
      "Train Epoch: 15 [25600/50000 (51%)]\tLoss: 0.686320\n",
      "Train Epoch: 15 [32000/50000 (64%)]\tLoss: 0.543469\n",
      "Train Epoch: 15 [38400/50000 (77%)]\tLoss: 0.500384\n",
      "Train Epoch: 15 [44800/50000 (90%)]\tLoss: 0.574515\n",
      "Took 17.417125940322876 seconds\n",
      "\n",
      "Test set: Average loss: 0.3904, Accuracy: 45412/50000 (90.8 %)\n",
      "Accuracy per position: 87.3 % | 90.1 % | 92.0 % | 91.6 % | 93.2 %\n",
      "\n",
      "Now testing on noisy dataset...\n",
      "Test set: Average loss: 6.3804, Accuracy: 33771/50000 (67.5 %)\n",
      "Accuracy per position: 87.8 % | 90.6 % | 91.9 % | 39.4 % | 28.0 %\n",
      "\n",
      "Epoch 16/30\n",
      "Train Epoch: 16 [0/50000 (0%)]\tLoss: 0.482144\n",
      "Train Epoch: 16 [6400/50000 (13%)]\tLoss: 0.678057\n",
      "Train Epoch: 16 [12800/50000 (26%)]\tLoss: 0.742773\n",
      "Train Epoch: 16 [19200/50000 (38%)]\tLoss: 0.793020\n",
      "Train Epoch: 16 [25600/50000 (51%)]\tLoss: 0.746033\n",
      "Train Epoch: 16 [32000/50000 (64%)]\tLoss: 1.337991\n",
      "Train Epoch: 16 [38400/50000 (77%)]\tLoss: 0.804828\n",
      "Train Epoch: 16 [44800/50000 (90%)]\tLoss: 0.537327\n",
      "Took 18.173956871032715 seconds\n",
      "\n",
      "Test set: Average loss: 0.4033, Accuracy: 45388/50000 (90.8 %)\n",
      "Accuracy per position: 87.7 % | 90.0 % | 91.5 % | 91.2 % | 93.5 %\n",
      "\n",
      "Now testing on noisy dataset...\n",
      "Test set: Average loss: 7.3106, Accuracy: 33581/50000 (67.2 %)\n",
      "Accuracy per position: 87.5 % | 89.4 % | 92.5 % | 38.6 % | 27.7 %\n",
      "\n",
      "Epoch 17/30\n",
      "Train Epoch: 17 [0/50000 (0%)]\tLoss: 0.831940\n",
      "Train Epoch: 17 [6400/50000 (13%)]\tLoss: 0.504531\n",
      "Train Epoch: 17 [12800/50000 (26%)]\tLoss: 0.576066\n",
      "Train Epoch: 17 [19200/50000 (38%)]\tLoss: 0.592807\n",
      "Train Epoch: 17 [25600/50000 (51%)]\tLoss: 0.696991\n",
      "Train Epoch: 17 [32000/50000 (64%)]\tLoss: 0.759242\n",
      "Train Epoch: 17 [38400/50000 (77%)]\tLoss: 0.579906\n",
      "Train Epoch: 17 [44800/50000 (90%)]\tLoss: 0.639497\n",
      "Took 18.315853118896484 seconds\n",
      "\n",
      "Test set: Average loss: 0.3953, Accuracy: 45305/50000 (90.6 %)\n",
      "Accuracy per position: 87.8 % | 88.8 % | 91.9 % | 91.5 % | 93.0 %\n",
      "\n",
      "Now testing on noisy dataset...\n",
      "Test set: Average loss: 7.2661, Accuracy: 34076/50000 (68.2 %)\n",
      "Accuracy per position: 87.8 % | 88.7 % | 92.2 % | 40.1 % | 32.0 %\n",
      "\n",
      "Epoch 18/30\n",
      "Train Epoch: 18 [0/50000 (0%)]\tLoss: 0.775203\n",
      "Train Epoch: 18 [6400/50000 (13%)]\tLoss: 0.670137\n",
      "Train Epoch: 18 [12800/50000 (26%)]\tLoss: 0.504267\n",
      "Train Epoch: 18 [19200/50000 (38%)]\tLoss: 0.690031\n",
      "Train Epoch: 18 [25600/50000 (51%)]\tLoss: 0.561892\n",
      "Train Epoch: 18 [32000/50000 (64%)]\tLoss: 0.521441\n",
      "Train Epoch: 18 [38400/50000 (77%)]\tLoss: 0.706940\n",
      "Train Epoch: 18 [44800/50000 (90%)]\tLoss: 0.607098\n",
      "Took 17.797198057174683 seconds\n",
      "\n",
      "Test set: Average loss: 0.3897, Accuracy: 45373/50000 (90.7 %)\n",
      "Accuracy per position: 87.3 % | 89.3 % | 92.3 % | 91.3 % | 93.4 %\n",
      "\n",
      "Now testing on noisy dataset...\n",
      "Test set: Average loss: 8.2862, Accuracy: 33767/50000 (67.5 %)\n",
      "Accuracy per position: 86.7 % | 89.4 % | 91.6 % | 39.7 % | 30.3 %\n",
      "\n",
      "Epoch 19/30\n",
      "Train Epoch: 19 [0/50000 (0%)]\tLoss: 0.581114\n",
      "Train Epoch: 19 [6400/50000 (13%)]\tLoss: 1.119230\n",
      "Train Epoch: 19 [12800/50000 (26%)]\tLoss: 0.613388\n",
      "Train Epoch: 19 [19200/50000 (38%)]\tLoss: 0.888713\n",
      "Train Epoch: 19 [25600/50000 (51%)]\tLoss: 0.837656\n",
      "Train Epoch: 19 [32000/50000 (64%)]\tLoss: 0.593302\n",
      "Train Epoch: 19 [38400/50000 (77%)]\tLoss: 0.608310\n",
      "Train Epoch: 19 [44800/50000 (90%)]\tLoss: 0.616644\n",
      "Took 17.78874111175537 seconds\n",
      "\n",
      "Test set: Average loss: 0.3970, Accuracy: 45291/50000 (90.6 %)\n",
      "Accuracy per position: 87.0 % | 88.9 % | 92.0 % | 91.5 % | 93.7 %\n",
      "\n",
      "Now testing on noisy dataset...\n",
      "Test set: Average loss: 8.2970, Accuracy: 34256/50000 (68.5 %)\n",
      "Accuracy per position: 86.6 % | 88.6 % | 92.1 % | 42.2 % | 33.1 %\n",
      "\n",
      "Epoch 20/30\n",
      "Train Epoch: 20 [0/50000 (0%)]\tLoss: 0.538676\n",
      "Train Epoch: 20 [6400/50000 (13%)]\tLoss: 0.591542\n",
      "Train Epoch: 20 [12800/50000 (26%)]\tLoss: 0.623708\n",
      "Train Epoch: 20 [19200/50000 (38%)]\tLoss: 0.742196\n",
      "Train Epoch: 20 [25600/50000 (51%)]\tLoss: 0.710491\n",
      "Train Epoch: 20 [32000/50000 (64%)]\tLoss: 0.799792\n",
      "Train Epoch: 20 [38400/50000 (77%)]\tLoss: 0.639345\n",
      "Train Epoch: 20 [44800/50000 (90%)]\tLoss: 0.840069\n",
      "Took 18.6438307762146 seconds\n",
      "\n",
      "Test set: Average loss: 0.4163, Accuracy: 45069/50000 (90.1 %)\n",
      "Accuracy per position: 86.0 % | 88.8 % | 91.8 % | 91.2 % | 92.8 %\n",
      "\n",
      "Now testing on noisy dataset...\n",
      "Test set: Average loss: 8.0431, Accuracy: 34735/50000 (69.5 %)\n",
      "Accuracy per position: 86.6 % | 88.9 % | 91.7 % | 45.7 % | 34.5 %\n",
      "\n",
      "Epoch 21/30\n",
      "Train Epoch: 21 [0/50000 (0%)]\tLoss: 0.593879\n",
      "Train Epoch: 21 [6400/50000 (13%)]\tLoss: 0.687004\n",
      "Train Epoch: 21 [12800/50000 (26%)]\tLoss: 0.763424\n",
      "Train Epoch: 21 [19200/50000 (38%)]\tLoss: 0.613439\n",
      "Train Epoch: 21 [25600/50000 (51%)]\tLoss: 0.948933\n",
      "Train Epoch: 21 [32000/50000 (64%)]\tLoss: 0.754063\n",
      "Train Epoch: 21 [38400/50000 (77%)]\tLoss: 0.590556\n",
      "Train Epoch: 21 [44800/50000 (90%)]\tLoss: 0.556775\n",
      "Took 18.47207808494568 seconds\n",
      "\n",
      "Test set: Average loss: 0.4059, Accuracy: 45203/50000 (90.4 %)\n",
      "Accuracy per position: 86.8 % | 88.5 % | 91.7 % | 91.8 % | 93.2 %\n",
      "\n",
      "Now testing on noisy dataset...\n",
      "Test set: Average loss: 6.9919, Accuracy: 35528/50000 (71.1 %)\n",
      "Accuracy per position: 86.9 % | 87.3 % | 91.8 % | 47.2 % | 42.0 %\n",
      "\n",
      "Epoch 22/30\n",
      "Train Epoch: 22 [0/50000 (0%)]\tLoss: 0.731100\n",
      "Train Epoch: 22 [6400/50000 (13%)]\tLoss: 0.808918\n",
      "Train Epoch: 22 [12800/50000 (26%)]\tLoss: 0.607894\n",
      "Train Epoch: 22 [19200/50000 (38%)]\tLoss: 0.621824\n",
      "Train Epoch: 22 [25600/50000 (51%)]\tLoss: 0.931621\n",
      "Train Epoch: 22 [32000/50000 (64%)]\tLoss: 0.804338\n",
      "Train Epoch: 22 [38400/50000 (77%)]\tLoss: 0.444082\n",
      "Train Epoch: 22 [44800/50000 (90%)]\tLoss: 0.943355\n",
      "Took 18.436108112335205 seconds\n",
      "\n",
      "Test set: Average loss: 0.4353, Accuracy: 44821/50000 (89.6 %)\n",
      "Accuracy per position: 86.0 % | 86.0 % | 91.3 % | 92.2 % | 92.7 %\n",
      "\n",
      "Now testing on noisy dataset...\n",
      "Test set: Average loss: 6.0837, Accuracy: 36239/50000 (72.5 %)\n",
      "Accuracy per position: 85.9 % | 86.6 % | 91.5 % | 52.1 % | 46.3 %\n",
      "\n",
      "Epoch 23/30\n",
      "Train Epoch: 23 [0/50000 (0%)]\tLoss: 0.628560\n",
      "Train Epoch: 23 [6400/50000 (13%)]\tLoss: 0.753976\n",
      "Train Epoch: 23 [12800/50000 (26%)]\tLoss: 0.695305\n",
      "Train Epoch: 23 [19200/50000 (38%)]\tLoss: 0.538214\n",
      "Train Epoch: 23 [25600/50000 (51%)]\tLoss: 0.778957\n"
     ]
    },
    {
     "name": "stdout",
     "output_type": "stream",
     "text": [
      "Train Epoch: 23 [32000/50000 (64%)]\tLoss: 1.048646\n",
      "Train Epoch: 23 [38400/50000 (77%)]\tLoss: 0.739134\n",
      "Train Epoch: 23 [44800/50000 (90%)]\tLoss: 0.826697\n",
      "Took 18.60768699645996 seconds\n",
      "\n",
      "Test set: Average loss: 0.4661, Accuracy: 44616/50000 (89.2 %)\n",
      "Accuracy per position: 85.5 % | 86.7 % | 91.0 % | 90.9 % | 92.1 %\n",
      "\n",
      "Now testing on noisy dataset...\n",
      "Test set: Average loss: 6.1964, Accuracy: 36095/50000 (72.2 %)\n",
      "Accuracy per position: 85.5 % | 86.5 % | 91.0 % | 52.0 % | 46.0 %\n",
      "\n",
      "Epoch 24/30\n",
      "Train Epoch: 24 [0/50000 (0%)]\tLoss: 0.826610\n",
      "Train Epoch: 24 [6400/50000 (13%)]\tLoss: 0.760214\n",
      "Train Epoch: 24 [12800/50000 (26%)]\tLoss: 1.150544\n",
      "Train Epoch: 24 [19200/50000 (38%)]\tLoss: 0.720771\n",
      "Train Epoch: 24 [25600/50000 (51%)]\tLoss: 0.810287\n",
      "Train Epoch: 24 [32000/50000 (64%)]\tLoss: 0.911890\n",
      "Train Epoch: 24 [38400/50000 (77%)]\tLoss: 1.345959\n",
      "Train Epoch: 24 [44800/50000 (90%)]\tLoss: 0.785696\n",
      "Took 19.51077103614807 seconds\n",
      "\n",
      "Test set: Average loss: 0.4924, Accuracy: 44533/50000 (89.1 %)\n",
      "Accuracy per position: 85.3 % | 85.6 % | 91.0 % | 91.7 % | 91.9 %\n",
      "\n",
      "Now testing on noisy dataset...\n",
      "Test set: Average loss: 6.3271, Accuracy: 36199/50000 (72.4 %)\n",
      "Accuracy per position: 85.1 % | 85.8 % | 91.0 % | 54.8 % | 45.4 %\n",
      "\n",
      "Epoch 25/30\n",
      "Train Epoch: 25 [0/50000 (0%)]\tLoss: 0.793682\n",
      "Train Epoch: 25 [6400/50000 (13%)]\tLoss: 0.710017\n",
      "Train Epoch: 25 [12800/50000 (26%)]\tLoss: 0.772376\n",
      "Train Epoch: 25 [19200/50000 (38%)]\tLoss: 0.706732\n",
      "Train Epoch: 25 [25600/50000 (51%)]\tLoss: 0.773042\n",
      "Train Epoch: 25 [32000/50000 (64%)]\tLoss: 0.727585\n",
      "Train Epoch: 25 [38400/50000 (77%)]\tLoss: 0.756584\n",
      "Train Epoch: 25 [44800/50000 (90%)]\tLoss: 0.928734\n",
      "Took 18.455891847610474 seconds\n",
      "\n",
      "Test set: Average loss: 0.5017, Accuracy: 44287/50000 (88.6 %)\n",
      "Accuracy per position: 84.6 % | 85.2 % | 90.3 % | 90.2 % | 92.6 %\n",
      "\n",
      "Now testing on noisy dataset...\n",
      "Test set: Average loss: 6.2855, Accuracy: 36412/50000 (72.8 %)\n",
      "Accuracy per position: 85.7 % | 85.6 % | 90.4 % | 54.8 % | 47.6 %\n",
      "\n",
      "Epoch 26/30\n",
      "Train Epoch: 26 [0/50000 (0%)]\tLoss: 0.802074\n",
      "Train Epoch: 26 [6400/50000 (13%)]\tLoss: 1.023410\n",
      "Train Epoch: 26 [12800/50000 (26%)]\tLoss: 0.532592\n",
      "Train Epoch: 26 [19200/50000 (38%)]\tLoss: 0.803029\n",
      "Train Epoch: 26 [25600/50000 (51%)]\tLoss: 0.740430\n",
      "Train Epoch: 26 [32000/50000 (64%)]\tLoss: 0.675291\n",
      "Train Epoch: 26 [38400/50000 (77%)]\tLoss: 0.828172\n",
      "Train Epoch: 26 [44800/50000 (90%)]\tLoss: 0.763336\n",
      "Took 20.117284059524536 seconds\n",
      "\n",
      "Test set: Average loss: 0.5266, Accuracy: 43602/50000 (87.2 %)\n",
      "Accuracy per position: 84.1 % | 82.5 % | 89.3 % | 89.4 % | 90.7 %\n",
      "\n",
      "Now testing on noisy dataset...\n",
      "Test set: Average loss: 7.4252, Accuracy: 34983/50000 (70.0 %)\n",
      "Accuracy per position: 83.8 % | 82.8 % | 88.8 % | 52.1 % | 42.4 %\n",
      "\n",
      "Epoch 27/30\n",
      "Train Epoch: 27 [0/50000 (0%)]\tLoss: 0.851202\n",
      "Train Epoch: 27 [6400/50000 (13%)]\tLoss: 0.906158\n",
      "Train Epoch: 27 [12800/50000 (26%)]\tLoss: 0.936086\n",
      "Train Epoch: 27 [19200/50000 (38%)]\tLoss: 0.978684\n",
      "Train Epoch: 27 [25600/50000 (51%)]\tLoss: 0.774689\n",
      "Train Epoch: 27 [32000/50000 (64%)]\tLoss: 0.782785\n",
      "Train Epoch: 27 [38400/50000 (77%)]\tLoss: 1.413987\n",
      "Train Epoch: 27 [44800/50000 (90%)]\tLoss: 0.856804\n",
      "Took 18.736003875732422 seconds\n",
      "\n",
      "Test set: Average loss: 0.5403, Accuracy: 43663/50000 (87.3 %)\n",
      "Accuracy per position: 84.0 % | 85.7 % | 89.5 % | 88.7 % | 88.7 %\n",
      "\n",
      "Now testing on noisy dataset...\n",
      "Test set: Average loss: 7.4893, Accuracy: 35869/50000 (71.7 %)\n",
      "Accuracy per position: 84.2 % | 85.8 % | 89.7 % | 55.1 % | 43.9 %\n",
      "\n",
      "Epoch 28/30\n",
      "Train Epoch: 28 [0/50000 (0%)]\tLoss: 0.978123\n",
      "Train Epoch: 28 [6400/50000 (13%)]\tLoss: 0.850627\n",
      "Train Epoch: 28 [12800/50000 (26%)]\tLoss: 1.203123\n",
      "Train Epoch: 28 [19200/50000 (38%)]\tLoss: 1.039462\n",
      "Train Epoch: 28 [25600/50000 (51%)]\tLoss: 1.080163\n",
      "Train Epoch: 28 [32000/50000 (64%)]\tLoss: 0.973746\n",
      "Train Epoch: 28 [38400/50000 (77%)]\tLoss: 0.704861\n",
      "Train Epoch: 28 [44800/50000 (90%)]\tLoss: 1.046580\n",
      "Took 17.62216091156006 seconds\n",
      "\n",
      "Test set: Average loss: 0.5764, Accuracy: 43028/50000 (86.1 %)\n",
      "Accuracy per position: 83.9 % | 83.1 % | 88.2 % | 86.6 % | 88.5 %\n",
      "\n",
      "Now testing on noisy dataset...\n",
      "Test set: Average loss: 6.8959, Accuracy: 34893/50000 (69.8 %)\n",
      "Accuracy per position: 83.5 % | 83.1 % | 88.1 % | 54.2 % | 40.0 %\n",
      "\n",
      "Epoch 29/30\n",
      "Train Epoch: 29 [0/50000 (0%)]\tLoss: 0.833873\n",
      "Train Epoch: 29 [6400/50000 (13%)]\tLoss: 0.902433\n",
      "Train Epoch: 29 [12800/50000 (26%)]\tLoss: 0.849496\n",
      "Train Epoch: 29 [19200/50000 (38%)]\tLoss: 1.007723\n",
      "Train Epoch: 29 [25600/50000 (51%)]\tLoss: 1.086311\n",
      "Train Epoch: 29 [32000/50000 (64%)]\tLoss: 0.865699\n",
      "Train Epoch: 29 [38400/50000 (77%)]\tLoss: 1.170085\n",
      "Train Epoch: 29 [44800/50000 (90%)]\tLoss: 0.981235\n"
     ]
    },
    {
     "ename": "KeyboardInterrupt",
     "evalue": "",
     "output_type": "error",
     "traceback": [
      "\u001b[0;31m---------------------------------------------------------------------------\u001b[0m",
      "\u001b[0;31mKeyboardInterrupt\u001b[0m                         Traceback (most recent call last)",
      "\u001b[0;32m<ipython-input-450-53f4a3e9aaaf>\u001b[0m in \u001b[0;36m<module>\u001b[0;34m()\u001b[0m\n\u001b[1;32m     10\u001b[0m     \u001b[0mprint\u001b[0m\u001b[0;34m(\u001b[0m\u001b[0;34m'Epoch {}/{}'\u001b[0m\u001b[0;34m.\u001b[0m\u001b[0mformat\u001b[0m\u001b[0;34m(\u001b[0m\u001b[0mepoch\u001b[0m\u001b[0;34m+\u001b[0m\u001b[0;36m1\u001b[0m\u001b[0;34m,\u001b[0m \u001b[0mparams\u001b[0m\u001b[0;34m[\u001b[0m\u001b[0;34m'num_epochs'\u001b[0m\u001b[0;34m]\u001b[0m\u001b[0;34m)\u001b[0m\u001b[0;34m)\u001b[0m\u001b[0;34m\u001b[0m\u001b[0m\n\u001b[1;32m     11\u001b[0m     \u001b[0mstart_time\u001b[0m \u001b[0;34m=\u001b[0m \u001b[0mtime\u001b[0m\u001b[0;34m.\u001b[0m\u001b[0mtime\u001b[0m\u001b[0;34m(\u001b[0m\u001b[0;34m)\u001b[0m\u001b[0;34m\u001b[0m\u001b[0m\n\u001b[0;32m---> 12\u001b[0;31m     \u001b[0mtrain_sequential\u001b[0m\u001b[0;34m(\u001b[0m\u001b[0mmodel\u001b[0m\u001b[0;34m,\u001b[0m \u001b[0mdevice\u001b[0m\u001b[0;34m,\u001b[0m \u001b[0mseq_train_loader\u001b[0m\u001b[0;34m,\u001b[0m \u001b[0moptimizer\u001b[0m\u001b[0;34m,\u001b[0m \u001b[0mepoch\u001b[0m\u001b[0;34m+\u001b[0m\u001b[0;36m1\u001b[0m\u001b[0;34m)\u001b[0m\u001b[0;34m\u001b[0m\u001b[0m\n\u001b[0m\u001b[1;32m     13\u001b[0m     \u001b[0mprint\u001b[0m\u001b[0;34m(\u001b[0m\u001b[0;34m'Took'\u001b[0m\u001b[0;34m,\u001b[0m \u001b[0mtime\u001b[0m\u001b[0;34m.\u001b[0m\u001b[0mtime\u001b[0m\u001b[0;34m(\u001b[0m\u001b[0;34m)\u001b[0m\u001b[0;34m-\u001b[0m\u001b[0mstart_time\u001b[0m\u001b[0;34m,\u001b[0m \u001b[0;34m'seconds'\u001b[0m\u001b[0;34m)\u001b[0m\u001b[0;34m\u001b[0m\u001b[0m\n\u001b[1;32m     14\u001b[0m \u001b[0;34m\u001b[0m\u001b[0m\n",
      "\u001b[0;32m<ipython-input-373-956be035b106>\u001b[0m in \u001b[0;36mtrain_sequential\u001b[0;34m(model, device, train_loader, optimizer, epoch, params)\u001b[0m\n\u001b[1;32m      2\u001b[0m \u001b[0;32mdef\u001b[0m \u001b[0mtrain_sequential\u001b[0m\u001b[0;34m(\u001b[0m\u001b[0mmodel\u001b[0m\u001b[0;34m,\u001b[0m \u001b[0mdevice\u001b[0m\u001b[0;34m,\u001b[0m \u001b[0mtrain_loader\u001b[0m\u001b[0;34m,\u001b[0m \u001b[0moptimizer\u001b[0m\u001b[0;34m,\u001b[0m \u001b[0mepoch\u001b[0m\u001b[0;34m,\u001b[0m \u001b[0mparams\u001b[0m\u001b[0;34m=\u001b[0m\u001b[0;32mNone\u001b[0m\u001b[0;34m)\u001b[0m\u001b[0;34m:\u001b[0m\u001b[0;34m\u001b[0m\u001b[0m\n\u001b[1;32m      3\u001b[0m     \u001b[0mmodel\u001b[0m\u001b[0;34m.\u001b[0m\u001b[0mtrain\u001b[0m\u001b[0;34m(\u001b[0m\u001b[0;34m)\u001b[0m\u001b[0;34m\u001b[0m\u001b[0m\n\u001b[0;32m----> 4\u001b[0;31m     \u001b[0;32mfor\u001b[0m \u001b[0mbatch\u001b[0m\u001b[0;34m,\u001b[0m \u001b[0;34m(\u001b[0m\u001b[0mdata\u001b[0m\u001b[0;34m,\u001b[0m \u001b[0mtarget\u001b[0m\u001b[0;34m)\u001b[0m \u001b[0;32min\u001b[0m \u001b[0menumerate\u001b[0m\u001b[0;34m(\u001b[0m\u001b[0mseq_train_loader\u001b[0m\u001b[0;34m)\u001b[0m\u001b[0;34m:\u001b[0m\u001b[0;34m\u001b[0m\u001b[0m\n\u001b[0m\u001b[1;32m      5\u001b[0m         \u001b[0mdata\u001b[0m\u001b[0;34m,\u001b[0m \u001b[0mtarget\u001b[0m \u001b[0;34m=\u001b[0m \u001b[0mdata\u001b[0m\u001b[0;34m.\u001b[0m\u001b[0mto\u001b[0m\u001b[0;34m(\u001b[0m\u001b[0mdevice\u001b[0m\u001b[0;34m)\u001b[0m\u001b[0;34m,\u001b[0m \u001b[0mtarget\u001b[0m\u001b[0;34m.\u001b[0m\u001b[0mto\u001b[0m\u001b[0;34m(\u001b[0m\u001b[0mdevice\u001b[0m\u001b[0;34m)\u001b[0m\u001b[0;34m\u001b[0m\u001b[0m\n\u001b[1;32m      6\u001b[0m \u001b[0;34m\u001b[0m\u001b[0m\n",
      "\u001b[0;32m~/anaconda2/envs/py3/lib/python3.6/site-packages/torch/utils/data/dataloader.py\u001b[0m in \u001b[0;36m__next__\u001b[0;34m(self)\u001b[0m\n\u001b[1;32m    613\u001b[0m         \u001b[0;32mif\u001b[0m \u001b[0mself\u001b[0m\u001b[0;34m.\u001b[0m\u001b[0mnum_workers\u001b[0m \u001b[0;34m==\u001b[0m \u001b[0;36m0\u001b[0m\u001b[0;34m:\u001b[0m  \u001b[0;31m# same-process loading\u001b[0m\u001b[0;34m\u001b[0m\u001b[0m\n\u001b[1;32m    614\u001b[0m             \u001b[0mindices\u001b[0m \u001b[0;34m=\u001b[0m \u001b[0mnext\u001b[0m\u001b[0;34m(\u001b[0m\u001b[0mself\u001b[0m\u001b[0;34m.\u001b[0m\u001b[0msample_iter\u001b[0m\u001b[0;34m)\u001b[0m  \u001b[0;31m# may raise StopIteration\u001b[0m\u001b[0;34m\u001b[0m\u001b[0m\n\u001b[0;32m--> 615\u001b[0;31m             \u001b[0mbatch\u001b[0m \u001b[0;34m=\u001b[0m \u001b[0mself\u001b[0m\u001b[0;34m.\u001b[0m\u001b[0mcollate_fn\u001b[0m\u001b[0;34m(\u001b[0m\u001b[0;34m[\u001b[0m\u001b[0mself\u001b[0m\u001b[0;34m.\u001b[0m\u001b[0mdataset\u001b[0m\u001b[0;34m[\u001b[0m\u001b[0mi\u001b[0m\u001b[0;34m]\u001b[0m \u001b[0;32mfor\u001b[0m \u001b[0mi\u001b[0m \u001b[0;32min\u001b[0m \u001b[0mindices\u001b[0m\u001b[0;34m]\u001b[0m\u001b[0;34m)\u001b[0m\u001b[0;34m\u001b[0m\u001b[0m\n\u001b[0m\u001b[1;32m    616\u001b[0m             \u001b[0;32mif\u001b[0m \u001b[0mself\u001b[0m\u001b[0;34m.\u001b[0m\u001b[0mpin_memory\u001b[0m\u001b[0;34m:\u001b[0m\u001b[0;34m\u001b[0m\u001b[0m\n\u001b[1;32m    617\u001b[0m                 \u001b[0mbatch\u001b[0m \u001b[0;34m=\u001b[0m \u001b[0mpin_memory_batch\u001b[0m\u001b[0;34m(\u001b[0m\u001b[0mbatch\u001b[0m\u001b[0;34m)\u001b[0m\u001b[0;34m\u001b[0m\u001b[0m\n",
      "\u001b[0;32m~/anaconda2/envs/py3/lib/python3.6/site-packages/torch/utils/data/dataloader.py\u001b[0m in \u001b[0;36m<listcomp>\u001b[0;34m(.0)\u001b[0m\n\u001b[1;32m    613\u001b[0m         \u001b[0;32mif\u001b[0m \u001b[0mself\u001b[0m\u001b[0;34m.\u001b[0m\u001b[0mnum_workers\u001b[0m \u001b[0;34m==\u001b[0m \u001b[0;36m0\u001b[0m\u001b[0;34m:\u001b[0m  \u001b[0;31m# same-process loading\u001b[0m\u001b[0;34m\u001b[0m\u001b[0m\n\u001b[1;32m    614\u001b[0m             \u001b[0mindices\u001b[0m \u001b[0;34m=\u001b[0m \u001b[0mnext\u001b[0m\u001b[0;34m(\u001b[0m\u001b[0mself\u001b[0m\u001b[0;34m.\u001b[0m\u001b[0msample_iter\u001b[0m\u001b[0;34m)\u001b[0m  \u001b[0;31m# may raise StopIteration\u001b[0m\u001b[0;34m\u001b[0m\u001b[0m\n\u001b[0;32m--> 615\u001b[0;31m             \u001b[0mbatch\u001b[0m \u001b[0;34m=\u001b[0m \u001b[0mself\u001b[0m\u001b[0;34m.\u001b[0m\u001b[0mcollate_fn\u001b[0m\u001b[0;34m(\u001b[0m\u001b[0;34m[\u001b[0m\u001b[0mself\u001b[0m\u001b[0;34m.\u001b[0m\u001b[0mdataset\u001b[0m\u001b[0;34m[\u001b[0m\u001b[0mi\u001b[0m\u001b[0;34m]\u001b[0m \u001b[0;32mfor\u001b[0m \u001b[0mi\u001b[0m \u001b[0;32min\u001b[0m \u001b[0mindices\u001b[0m\u001b[0;34m]\u001b[0m\u001b[0;34m)\u001b[0m\u001b[0;34m\u001b[0m\u001b[0m\n\u001b[0m\u001b[1;32m    616\u001b[0m             \u001b[0;32mif\u001b[0m \u001b[0mself\u001b[0m\u001b[0;34m.\u001b[0m\u001b[0mpin_memory\u001b[0m\u001b[0;34m:\u001b[0m\u001b[0;34m\u001b[0m\u001b[0m\n\u001b[1;32m    617\u001b[0m                 \u001b[0mbatch\u001b[0m \u001b[0;34m=\u001b[0m \u001b[0mpin_memory_batch\u001b[0m\u001b[0;34m(\u001b[0m\u001b[0mbatch\u001b[0m\u001b[0;34m)\u001b[0m\u001b[0;34m\u001b[0m\u001b[0m\n",
      "\u001b[0;32m<ipython-input-377-6b89f492fa14>\u001b[0m in \u001b[0;36m__getitem__\u001b[0;34m(self, i)\u001b[0m\n\u001b[1;32m     21\u001b[0m         \u001b[0;32mreturn\u001b[0m \u001b[0mself\u001b[0m\u001b[0;34m.\u001b[0m\u001b[0mnum_samples\u001b[0m\u001b[0;34m\u001b[0m\u001b[0m\n\u001b[1;32m     22\u001b[0m \u001b[0;34m\u001b[0m\u001b[0m\n\u001b[0;32m---> 23\u001b[0;31m     \u001b[0;32mdef\u001b[0m \u001b[0m__getitem__\u001b[0m\u001b[0;34m(\u001b[0m\u001b[0mself\u001b[0m\u001b[0;34m,\u001b[0m \u001b[0mi\u001b[0m\u001b[0;34m)\u001b[0m\u001b[0;34m:\u001b[0m\u001b[0;34m\u001b[0m\u001b[0m\n\u001b[0m\u001b[1;32m     24\u001b[0m         \u001b[0mseq\u001b[0m \u001b[0;34m=\u001b[0m \u001b[0mself\u001b[0m\u001b[0;34m.\u001b[0m\u001b[0mallowed_seqs\u001b[0m\u001b[0;34m[\u001b[0m\u001b[0mi\u001b[0m \u001b[0;34m%\u001b[0m \u001b[0mlen\u001b[0m\u001b[0;34m(\u001b[0m\u001b[0mself\u001b[0m\u001b[0;34m.\u001b[0m\u001b[0mallowed_seqs\u001b[0m\u001b[0;34m)\u001b[0m\u001b[0;34m]\u001b[0m\u001b[0;34m\u001b[0m\u001b[0m\n\u001b[1;32m     25\u001b[0m         \u001b[0;32mif\u001b[0m \u001b[0mself\u001b[0m\u001b[0;34m.\u001b[0m\u001b[0madd_noise\u001b[0m\u001b[0;34m:\u001b[0m\u001b[0;34m\u001b[0m\u001b[0m\n",
      "\u001b[0;31mKeyboardInterrupt\u001b[0m: "
     ]
    }
   ],
   "source": [
    "#model = SequentialFeedforwardNet().to(device)\n",
    "#model = SequentialLSTM().to(device)\n",
    "model = SequentialFeedbackNet(dropout=0.5, alpha=0.5).to(device)\n",
    "# TODO: Use rmsprop or another optimizer which is good for LSTMs.\n",
    "#optimizer = optim.SGD([p for p in model.parameters() if p.requires_grad], lr=0.0001, momentum=params['momentum'])\n",
    "#optimizer = optim.Adam(model.parameters(), lr=0.0001)\n",
    "optimizer = optim.SGD(model.parameters(), lr=0.00001, momentum=params['momentum'])\n",
    "\n",
    "for epoch in range(params['num_epochs']):\n",
    "    print('Epoch {}/{}'.format(epoch+1, params['num_epochs']))\n",
    "    start_time = time.time()\n",
    "    train_sequential(model, device, seq_train_loader, optimizer, epoch+1)\n",
    "    print('Took', time.time()-start_time, 'seconds')\n",
    "    \n",
    "    print()\n",
    "    test_sequential(model, device, seq_test_loader, per_position=True)\n",
    "    print()\n",
    "    print('Now testing on noisy dataset...')\n",
    "    test_sequential(model, device, noisy_seq_test_loader, per_position=True)\n",
    "    print()"
   ]
  },
  {
   "cell_type": "code",
   "execution_count": null,
   "metadata": {},
   "outputs": [],
   "source": []
  },
  {
   "cell_type": "code",
   "execution_count": 376,
   "metadata": {},
   "outputs": [
    {
     "name": "stdout",
     "output_type": "stream",
     "text": [
      "> \u001b[0;32m<ipython-input-332-6b89f492fa14>\u001b[0m(28)\u001b[0;36m<listcomp>\u001b[0;34m()\u001b[0m\n",
      "\u001b[0;32m     25 \u001b[0;31m        \u001b[0;32mif\u001b[0m \u001b[0mself\u001b[0m\u001b[0;34m.\u001b[0m\u001b[0madd_noise\u001b[0m\u001b[0;34m:\u001b[0m\u001b[0;34m\u001b[0m\u001b[0m\n",
      "\u001b[0m\u001b[0;32m     26 \u001b[0;31m            \u001b[0mimages\u001b[0m \u001b[0;34m=\u001b[0m \u001b[0;34m[\u001b[0m\u001b[0mrandom\u001b[0m\u001b[0;34m.\u001b[0m\u001b[0mchoice\u001b[0m\u001b[0;34m(\u001b[0m\u001b[0mself\u001b[0m\u001b[0;34m.\u001b[0m\u001b[0mimages_per_class\u001b[0m\u001b[0;34m[\u001b[0m\u001b[0mclass_\u001b[0m\u001b[0;34m]\u001b[0m\u001b[0;34m)\u001b[0m \u001b[0;32mfor\u001b[0m \u001b[0mclass_\u001b[0m \u001b[0;32min\u001b[0m \u001b[0mseq\u001b[0m\u001b[0;34m[\u001b[0m\u001b[0;34m:\u001b[0m\u001b[0;36m3\u001b[0m\u001b[0;34m]\u001b[0m\u001b[0;34m]\u001b[0m \u001b[0;34m+\u001b[0m \u001b[0;34m[\u001b[0m\u001b[0mrandom\u001b[0m\u001b[0;34m.\u001b[0m\u001b[0mchoice\u001b[0m\u001b[0;34m(\u001b[0m\u001b[0mself\u001b[0m\u001b[0;34m.\u001b[0m\u001b[0mnoisy_images_per_class\u001b[0m\u001b[0;34m[\u001b[0m\u001b[0mclass_\u001b[0m\u001b[0;34m]\u001b[0m\u001b[0;34m)\u001b[0m \u001b[0;32mfor\u001b[0m \u001b[0mclass_\u001b[0m \u001b[0;32min\u001b[0m \u001b[0mseq\u001b[0m\u001b[0;34m[\u001b[0m\u001b[0;36m3\u001b[0m\u001b[0;34m:\u001b[0m\u001b[0;34m]\u001b[0m\u001b[0;34m]\u001b[0m\u001b[0;34m\u001b[0m\u001b[0m\n",
      "\u001b[0m\u001b[0;32m     27 \u001b[0;31m        \u001b[0;32melse\u001b[0m\u001b[0;34m:\u001b[0m\u001b[0;34m\u001b[0m\u001b[0m\n",
      "\u001b[0m\u001b[0;32m---> 28 \u001b[0;31m            \u001b[0mimages\u001b[0m \u001b[0;34m=\u001b[0m \u001b[0;34m[\u001b[0m\u001b[0mrandom\u001b[0m\u001b[0;34m.\u001b[0m\u001b[0mchoice\u001b[0m\u001b[0;34m(\u001b[0m\u001b[0mself\u001b[0m\u001b[0;34m.\u001b[0m\u001b[0mimages_per_class\u001b[0m\u001b[0;34m[\u001b[0m\u001b[0mclass_\u001b[0m\u001b[0;34m]\u001b[0m\u001b[0;34m)\u001b[0m \u001b[0;32mfor\u001b[0m \u001b[0mclass_\u001b[0m \u001b[0;32min\u001b[0m \u001b[0mseq\u001b[0m\u001b[0;34m]\u001b[0m\u001b[0;34m\u001b[0m\u001b[0m\n",
      "\u001b[0m\u001b[0;32m     29 \u001b[0;31m        \u001b[0;32mreturn\u001b[0m \u001b[0mtorch\u001b[0m\u001b[0;34m.\u001b[0m\u001b[0mcat\u001b[0m\u001b[0;34m(\u001b[0m\u001b[0mimages\u001b[0m\u001b[0;34m)\u001b[0m\u001b[0;34m,\u001b[0m \u001b[0mseq\u001b[0m\u001b[0;34m\u001b[0m\u001b[0m\n",
      "\u001b[0m\n",
      "ipdb> class_\n",
      "-32\n",
      "ipdb> q\n"
     ]
    }
   ],
   "source": [
    "%debug"
   ]
  },
  {
   "cell_type": "code",
   "execution_count": 236,
   "metadata": {},
   "outputs": [],
   "source": [
    "model = SequentialFeedbackNet(dropout=0, alpha=0.5).to(device)"
   ]
  },
  {
   "cell_type": "code",
   "execution_count": 237,
   "metadata": {},
   "outputs": [],
   "source": [
    "model.forward1.weight.data = ff_model.forward1.weight.data.clone()\n",
    "model.forward1.bias.data = ff_model.forward1.bias.data.clone()\n",
    "model.forward2.weight.data = ff_model.forward2.weight.data.clone()\n",
    "model.forward2.bias.data = ff_model.forward2.bias.data.clone()"
   ]
  },
  {
   "cell_type": "code",
   "execution_count": 242,
   "metadata": {},
   "outputs": [
    {
     "name": "stdout",
     "output_type": "stream",
     "text": [
      "\n",
      "Test set: Average loss: 0.5467, Accuracy: 46727/10000 (93%)\n",
      "\n"
     ]
    }
   ],
   "source": [
    "test_sequential(model, device, seq_test_loader, params)"
   ]
  },
  {
   "cell_type": "code",
   "execution_count": 126,
   "metadata": {},
   "outputs": [],
   "source": [
    "model.forward1.weight.requires_grad = False\n",
    "model.forward1.bias.requires_grad = False\n",
    "model.forward2.weight.requires_grad = False\n",
    "model.forward2.bias.requires_grad = False"
   ]
  },
  {
   "cell_type": "code",
   "execution_count": 233,
   "metadata": {},
   "outputs": [
    {
     "name": "stdout",
     "output_type": "stream",
     "text": [
      "\n",
      "Test set: Average loss: 0.5414, Accuracy: 46792/10000 (94%)\n",
      "\n"
     ]
    }
   ],
   "source": []
  },
  {
   "cell_type": "code",
   "execution_count": 86,
   "metadata": {},
   "outputs": [],
   "source": [
    "#ff_model = model"
   ]
  },
  {
   "cell_type": "code",
   "execution_count": 239,
   "metadata": {},
   "outputs": [
    {
     "name": "stdout",
     "output_type": "stream",
     "text": [
      "\n",
      "Test set: Average loss: 0.1806, Accuracy: 9459/10000 (95%)\n",
      "\n"
     ]
    }
   ],
   "source": [
    "test(ff_model, device, test_loader, params)"
   ]
  },
  {
   "cell_type": "code",
   "execution_count": null,
   "metadata": {},
   "outputs": [],
   "source": []
  }
 ],
 "metadata": {
  "accelerator": "GPU",
  "colab": {
   "name": "feedback-connections.ipynb",
   "provenance": [],
   "version": "0.3.2"
  },
  "kernelspec": {
   "display_name": "Python 3",
   "language": "python",
   "name": "python3"
  },
  "language_info": {
   "codemirror_mode": {
    "name": "ipython",
    "version": 3
   },
   "file_extension": ".py",
   "mimetype": "text/x-python",
   "name": "python",
   "nbconvert_exporter": "python",
   "pygments_lexer": "ipython3",
   "version": "3.6.4"
  }
 },
 "nbformat": 4,
 "nbformat_minor": 1
}
