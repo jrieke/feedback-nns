{
 "cells": [
  {
   "cell_type": "code",
   "execution_count": 1,
   "metadata": {
    "colab": {
     "base_uri": "https://localhost:8080/",
     "height": 326
    },
    "colab_type": "code",
    "id": "dNbPZoPRMtZG",
    "outputId": "55a99027-ed5d-4c07-e18a-8c9a7cb6a3d0"
   },
   "outputs": [
    {
     "name": "stdout",
     "output_type": "stream",
     "text": [
      "Requirement already satisfied: torch in /Users/jrieke/anaconda2/envs/py3/lib/python3.6/site-packages\n",
      "Requirement already satisfied: torchvision in /Users/jrieke/anaconda2/envs/py3/lib/python3.6/site-packages/torchvision-0.2.1-py3.6.egg\n",
      "Requirement already satisfied: numpy in /Users/jrieke/anaconda2/envs/py3/lib/python3.6/site-packages (from torchvision)\n",
      "Requirement already satisfied: pillow>=4.1.1 in /Users/jrieke/anaconda2/envs/py3/lib/python3.6/site-packages (from torchvision)\n",
      "Requirement already satisfied: six in /Users/jrieke/anaconda2/envs/py3/lib/python3.6/site-packages (from torchvision)\n",
      "\u001b[33mYou are using pip version 9.0.1, however version 18.1 is available.\n",
      "You should consider upgrading via the 'pip install --upgrade pip' command.\u001b[0m\n"
     ]
    }
   ],
   "source": [
    "!pip install torch torchvision"
   ]
  },
  {
   "cell_type": "code",
   "execution_count": 1,
   "metadata": {
    "ExecuteTime": {
     "end_time": "2019-01-11T01:05:47.478270Z",
     "start_time": "2019-01-11T01:05:47.449639Z"
    }
   },
   "outputs": [],
   "source": [
    "%load_ext autoreload\n",
    "%autoreload 2"
   ]
  },
  {
   "cell_type": "code",
   "execution_count": 32,
   "metadata": {
    "ExecuteTime": {
     "end_time": "2019-01-11T02:22:40.605656Z",
     "start_time": "2019-01-11T02:22:40.500696Z"
    },
    "colab": {},
    "colab_type": "code",
    "id": "TZ-uzulsNlAZ"
   },
   "outputs": [],
   "source": [
    "import numpy as np\n",
    "import matplotlib.pyplot as plt\n",
    "import time\n",
    "\n",
    "import torch\n",
    "from torch import nn, optim\n",
    "import torch.nn.functional as F\n",
    "import torchvision\n",
    "\n",
    "import datasets, utils"
   ]
  },
  {
   "cell_type": "code",
   "execution_count": 3,
   "metadata": {
    "ExecuteTime": {
     "end_time": "2019-01-11T01:05:49.162941Z",
     "start_time": "2019-01-11T01:05:49.124081Z"
    },
    "colab": {},
    "colab_type": "code",
    "id": "ilv5sT0SMvlc"
   },
   "outputs": [],
   "source": [
    "use_cuda = False\n",
    "device = torch.device('cuda' if use_cuda else 'cpu')"
   ]
  },
  {
   "cell_type": "markdown",
   "metadata": {
    "heading_collapsed": true
   },
   "source": [
    "# Experiment 1: Image Classification"
   ]
  },
  {
   "cell_type": "code",
   "execution_count": 67,
   "metadata": {
    "colab": {},
    "colab_type": "code",
    "hidden": true,
    "id": "egQMPeiIW3yw"
   },
   "outputs": [],
   "source": [
    "# Default parameters from the PyTorch MNIST example (https://github.com/pytorch/examples/blob/master/mnist/main.py\n",
    "params = dict(batch_size=64, batch_size_eval=1000, num_epochs=30, learning_rate=0.01, momentum=0.5)"
   ]
  },
  {
   "cell_type": "markdown",
   "metadata": {
    "hidden": true
   },
   "source": [
    "## Load MNIST data and make a noisy variant"
   ]
  },
  {
   "cell_type": "code",
   "execution_count": 224,
   "metadata": {
    "colab": {
     "base_uri": "https://localhost:8080/",
     "height": 119
    },
    "colab_type": "code",
    "hidden": true,
    "id": "s-oXQ8R-NeLO",
    "outputId": "4c98b3b1-4b2e-4bd1-a4ed-8c43310c383c"
   },
   "outputs": [],
   "source": [
    "train_dataset, val_dataset, test_dataset = datasets.load_mnist()"
   ]
  },
  {
   "cell_type": "code",
   "execution_count": 327,
   "metadata": {
    "hidden": true
   },
   "outputs": [],
   "source": [
    "train_dataset, val_dataset, test_dataset = datasets.load_emnist()"
   ]
  },
  {
   "cell_type": "code",
   "execution_count": 330,
   "metadata": {
    "hidden": true
   },
   "outputs": [],
   "source": [
    "kwargs = {'num_workers': 3, 'pin_memory': True} if use_cuda else {}\n",
    "train_loader = torch.utils.data.DataLoader(train_dataset, batch_size=params['batch_size'], shuffle=True, **kwargs)\n",
    "val_loader = torch.utils.data.DataLoader(val_dataset, batch_size=params['batch_size_eval'], shuffle=True, **kwargs)\n",
    "test_loader = torch.utils.data.DataLoader(test_dataset, batch_size=params['batch_size_eval'], shuffle=False, **kwargs)"
   ]
  },
  {
   "cell_type": "code",
   "execution_count": 255,
   "metadata": {
    "hidden": true
   },
   "outputs": [],
   "source": [
    "noisy_test_dataset = datasets.load_noisy_mnist(scaling_factor=2)\n",
    "noisy_test_loader = torch.utils.data.DataLoader(noisy_test_dataset, batch_size=params['batch_size_eval'], shuffle=False, **kwargs)"
   ]
  },
  {
   "cell_type": "code",
   "execution_count": 331,
   "metadata": {
    "hidden": true
   },
   "outputs": [],
   "source": [
    "noisy_test_dataset = datasets.load_noisy_emnist(scaling_factor=2)\n",
    "noisy_test_loader = torch.utils.data.DataLoader(noisy_test_dataset, batch_size=params['batch_size_eval'], shuffle=False, **kwargs)"
   ]
  },
  {
   "cell_type": "markdown",
   "metadata": {
    "hidden": true
   },
   "source": [
    "## Networks"
   ]
  },
  {
   "cell_type": "code",
   "execution_count": 230,
   "metadata": {
    "colab": {},
    "colab_type": "code",
    "hidden": true,
    "id": "76ldQAc_ZC-R"
   },
   "outputs": [],
   "source": [
    "class FeedforwardNet(nn.Module):\n",
    "    # TODO: Add ability to easily add more hidden layers. \n",
    "    def __init__(self, num_hidden=500, dropout=0.5):\n",
    "        super(FeedforwardNet, self).__init__()\n",
    "        self.forward1 = nn.Linear(784, num_hidden)\n",
    "        self.forward2 = nn.Linear(num_hidden, 26)\n",
    "        self.dropout = nn.Dropout(dropout)\n",
    "\n",
    "    def forward(self, x):\n",
    "        x = x.view(-1, 784)\n",
    "        x = F.relu(self.forward1(x))\n",
    "        x = self.dropout(x)\n",
    "        x = self.forward2(x)\n",
    "        # TODO: Maybe change to loss function that includes softmax. \n",
    "        return F.log_softmax(x, dim=1)"
   ]
  },
  {
   "cell_type": "code",
   "execution_count": 73,
   "metadata": {
    "colab": {},
    "colab_type": "code",
    "hidden": true,
    "id": "zU42_5arflnv"
   },
   "outputs": [],
   "source": [
    "class FeedbackNet(nn.Module):\n",
    "    def __init__(self, num_hidden=500, dropout=0.5):\n",
    "        super(FeedbackNet, self).__init__()\n",
    "        self.forward1 = nn.Linear(784, num_hidden)\n",
    "        self.forward2 = nn.Linear(num_hidden, 10)\n",
    "        self.dropout = nn.Dropout(dropout)\n",
    "        \n",
    "        self.feedback1 = nn.Linear(num_hidden, 784)\n",
    "        self.feedback2 = nn.Linear(10, num_hidden)\n",
    "        \n",
    "        self.dropout = nn.Dropout(dropout)\n",
    "\n",
    "    def forward(self, inp):\n",
    "        inp = inp.view(-1, 784)\n",
    "        \n",
    "        x = F.relu(self.forward1(inp))\n",
    "        feedback_activation_1 = self.feedback1(x)\n",
    "        \n",
    "        x = self.dropout(x)\n",
    "        x = F.log_softmax(self.forward2(x), dim=1)\n",
    "        feedback_activation_2 = self.feedback2(x)\n",
    "        # TODO: Maybe change to loss function that includes softmax. \n",
    "        \n",
    "        #print(feedback_activation_1.shape, feedback_activation_2.shape)\n",
    "        \n",
    "        # 2nd forward pass, this time with added feedback\n",
    "        x = F.relu(self.forward1(inp + feedback_activation_1))\n",
    "        # TODO: Do dropout again here or only on the first pass?\n",
    "        #x = F.dropout(x, training=self.training)\n",
    "        x = F.log_softmax(self.forward2(x + feedback_activation_2), dim=1)\n",
    "        \n",
    "        return x\n",
    "        "
   ]
  },
  {
   "cell_type": "code",
   "execution_count": 74,
   "metadata": {
    "colab": {},
    "colab_type": "code",
    "hidden": true,
    "id": "dUF21w7MTB8g"
   },
   "outputs": [],
   "source": [
    "class ConvNet(nn.Module):\n",
    "    \"\"\"ConvNet from the official PyTorch tutorial, achieves around 98 % accuracy on test set (https://github.com/pytorch/examples/blob/master/mnist/main.py).\"\"\"\n",
    "    def __init__(self):\n",
    "        super(ConvNet, self).__init__()\n",
    "        self.conv1 = nn.Conv2d(1, 10, kernel_size=5)\n",
    "        self.conv2 = nn.Conv2d(10, 20, kernel_size=5)\n",
    "        self.conv2_drop = nn.Dropout2d()\n",
    "        self.fc1 = nn.Linear(320, 50)\n",
    "        self.fc2 = nn.Linear(50, 10)\n",
    "\n",
    "    def forward(self, x):\n",
    "        x = F.relu(F.max_pool2d(self.conv1(x), 2))\n",
    "        x = F.relu(F.max_pool2d(self.conv2_drop(self.conv2(x)), 2))\n",
    "        x = x.view(-1, 320)\n",
    "        x = F.relu(self.fc1(x))\n",
    "        x = F.dropout(x, training=self.training)\n",
    "        x = self.fc2(x)\n",
    "        return F.log_softmax(x, dim=1)"
   ]
  },
  {
   "cell_type": "markdown",
   "metadata": {
    "hidden": true
   },
   "source": [
    "## Training"
   ]
  },
  {
   "cell_type": "code",
   "execution_count": 231,
   "metadata": {
    "colab": {},
    "colab_type": "code",
    "hidden": true,
    "id": "dwwmjtpAaEEN"
   },
   "outputs": [],
   "source": [
    "def train(model, device, train_loader, optimizer, epoch, params=None):\n",
    "    model.train()\n",
    "    for batch, (data, target) in enumerate(train_loader):\n",
    "        data, target = data.to(device), target.to(device)\n",
    "        optimizer.zero_grad()\n",
    "        output = model(data)\n",
    "        # TODO: Change to loss_function = ..., loss_function(output, target)\n",
    "        #print(output.shape, target.shape)\n",
    "        loss = F.nll_loss(output, target)\n",
    "        loss.backward()\n",
    "        optimizer.step()\n",
    "        if batch % 100 == 0:\n",
    "            print('Train Epoch: {} [{}/{} ({:.0f}%)]\\tLoss: {:.6f}'.format(\n",
    "                epoch, batch * len(data), len(train_loader.dataset),\n",
    "                100. * batch / len(train_loader), loss.item()))"
   ]
  },
  {
   "cell_type": "code",
   "execution_count": 232,
   "metadata": {
    "colab": {},
    "colab_type": "code",
    "hidden": true,
    "id": "GR8Tp0QwaFpj"
   },
   "outputs": [],
   "source": [
    "def test(model, device, test_loader, params=None):\n",
    "    model.eval()\n",
    "    test_loss = 0\n",
    "    correct = 0\n",
    "    with torch.no_grad():\n",
    "        for data, target in test_loader:\n",
    "            data, target = data.to(device), target.to(device)\n",
    "            output = model(data)\n",
    "            # TODO: Change to loss_function = ..., loss_function(output, target)\n",
    "            test_loss += F.nll_loss(output, target, reduction='sum').item() # sum up batch loss\n",
    "            pred = output.max(1, keepdim=True)[1] # get the index of the max log-probability\n",
    "            correct += pred.eq(target.view_as(pred)).sum().item()\n",
    "\n",
    "    test_loss /= len(test_loader.dataset)\n",
    "    print('\\nTest set: Average loss: {:.4f}, Accuracy: {}/{} ({:.0f}%)\\n'.format(\n",
    "        test_loss, correct, len(test_loader.dataset),\n",
    "        100. * correct / len(test_loader.dataset)))"
   ]
  },
  {
   "cell_type": "code",
   "execution_count": 235,
   "metadata": {
    "hidden": true
   },
   "outputs": [],
   "source": [
    "def count_parameters(model):\n",
    "    return sum(p.numel() for p in filter(lambda p: p.requires_grad, model.parameters()) if p.requires_grad)"
   ]
  },
  {
   "cell_type": "code",
   "execution_count": 250,
   "metadata": {
    "colab": {
     "base_uri": "https://localhost:8080/",
     "height": 878
    },
    "colab_type": "code",
    "hidden": true,
    "id": "ClDIIE_wRaa0",
    "outputId": "f62ac75f-be70-4b6d-de99-b0f7d9a86d9a",
    "scrolled": true
   },
   "outputs": [
    {
     "name": "stdout",
     "output_type": "stream",
     "text": [
      "Model has 405526 trainable parameters\n",
      "Epoch 1/30\n",
      "Train Epoch: 1 [0/114800 (0%)]\tLoss: 3.364546\n",
      "Train Epoch: 1 [6400/114800 (6%)]\tLoss: 1.883056\n",
      "Train Epoch: 1 [12800/114800 (11%)]\tLoss: 1.774883\n",
      "Train Epoch: 1 [19200/114800 (17%)]\tLoss: 1.521679\n",
      "Train Epoch: 1 [25600/114800 (22%)]\tLoss: 1.308522\n",
      "Train Epoch: 1 [32000/114800 (28%)]\tLoss: 1.216146\n",
      "Train Epoch: 1 [38400/114800 (33%)]\tLoss: 0.981548\n",
      "Train Epoch: 1 [44800/114800 (39%)]\tLoss: 1.251293\n",
      "Train Epoch: 1 [51200/114800 (45%)]\tLoss: 1.232695\n",
      "Train Epoch: 1 [57600/114800 (50%)]\tLoss: 1.112284\n",
      "Train Epoch: 1 [64000/114800 (56%)]\tLoss: 0.856672\n",
      "Train Epoch: 1 [70400/114800 (61%)]\tLoss: 0.995457\n",
      "Train Epoch: 1 [76800/114800 (67%)]\tLoss: 1.025760\n",
      "Train Epoch: 1 [83200/114800 (72%)]\tLoss: 0.955970\n",
      "Train Epoch: 1 [89600/114800 (78%)]\tLoss: 0.967802\n",
      "Train Epoch: 1 [96000/114800 (84%)]\tLoss: 0.763317\n",
      "Train Epoch: 1 [102400/114800 (89%)]\tLoss: 0.982318\n",
      "Train Epoch: 1 [108800/114800 (95%)]\tLoss: 0.898482\n",
      "Took 18.13324499130249 seconds\n",
      "\n",
      "Test set: Average loss: 0.7348, Accuracy: 16374/20800 (79%)\n",
      "\n",
      "Now testing on noisy dataset...\n",
      "\n",
      "Test set: Average loss: 4.5922, Accuracy: 635/10000 (6%)\n",
      "\n",
      "Epoch 2/30\n",
      "Train Epoch: 2 [0/114800 (0%)]\tLoss: 0.651671\n",
      "Train Epoch: 2 [6400/114800 (6%)]\tLoss: 0.791133\n",
      "Train Epoch: 2 [12800/114800 (11%)]\tLoss: 0.767368\n",
      "Train Epoch: 2 [19200/114800 (17%)]\tLoss: 0.591018\n",
      "Train Epoch: 2 [25600/114800 (22%)]\tLoss: 0.880704\n",
      "Train Epoch: 2 [32000/114800 (28%)]\tLoss: 0.671835\n",
      "Train Epoch: 2 [38400/114800 (33%)]\tLoss: 0.730108\n",
      "Train Epoch: 2 [44800/114800 (39%)]\tLoss: 0.726254\n",
      "Train Epoch: 2 [51200/114800 (45%)]\tLoss: 0.826303\n",
      "Train Epoch: 2 [57600/114800 (50%)]\tLoss: 1.020556\n",
      "Train Epoch: 2 [64000/114800 (56%)]\tLoss: 0.830447\n",
      "Train Epoch: 2 [70400/114800 (61%)]\tLoss: 0.855981\n",
      "Train Epoch: 2 [76800/114800 (67%)]\tLoss: 0.742680\n",
      "Train Epoch: 2 [83200/114800 (72%)]\tLoss: 0.846350\n",
      "Train Epoch: 2 [89600/114800 (78%)]\tLoss: 0.574083\n",
      "Train Epoch: 2 [96000/114800 (84%)]\tLoss: 0.913514\n",
      "Train Epoch: 2 [102400/114800 (89%)]\tLoss: 0.507336\n",
      "Train Epoch: 2 [108800/114800 (95%)]\tLoss: 0.671907\n",
      "Took 19.149008750915527 seconds\n",
      "\n",
      "Test set: Average loss: 0.5607, Accuracy: 17421/20800 (84%)\n",
      "\n",
      "Now testing on noisy dataset...\n",
      "\n",
      "Test set: Average loss: 4.7719, Accuracy: 510/10000 (5%)\n",
      "\n",
      "Epoch 3/30\n",
      "Train Epoch: 3 [0/114800 (0%)]\tLoss: 0.534443\n",
      "Train Epoch: 3 [6400/114800 (6%)]\tLoss: 0.588092\n",
      "Train Epoch: 3 [12800/114800 (11%)]\tLoss: 0.593261\n",
      "Train Epoch: 3 [19200/114800 (17%)]\tLoss: 0.505255\n",
      "Train Epoch: 3 [25600/114800 (22%)]\tLoss: 0.526665\n",
      "Train Epoch: 3 [32000/114800 (28%)]\tLoss: 0.797446\n",
      "Train Epoch: 3 [38400/114800 (33%)]\tLoss: 0.531490\n",
      "Train Epoch: 3 [44800/114800 (39%)]\tLoss: 0.587165\n",
      "Train Epoch: 3 [51200/114800 (45%)]\tLoss: 0.822023\n",
      "Train Epoch: 3 [57600/114800 (50%)]\tLoss: 0.595089\n",
      "Train Epoch: 3 [64000/114800 (56%)]\tLoss: 0.514614\n",
      "Train Epoch: 3 [70400/114800 (61%)]\tLoss: 0.490363\n",
      "Train Epoch: 3 [76800/114800 (67%)]\tLoss: 0.682351\n",
      "Train Epoch: 3 [83200/114800 (72%)]\tLoss: 0.748621\n",
      "Train Epoch: 3 [89600/114800 (78%)]\tLoss: 0.815717\n",
      "Train Epoch: 3 [96000/114800 (84%)]\tLoss: 0.689211\n",
      "Train Epoch: 3 [102400/114800 (89%)]\tLoss: 0.610178\n",
      "Train Epoch: 3 [108800/114800 (95%)]\tLoss: 0.522711\n",
      "Took 20.24797487258911 seconds\n",
      "\n",
      "Test set: Average loss: 0.4825, Accuracy: 17835/20800 (86%)\n",
      "\n",
      "Now testing on noisy dataset...\n",
      "\n",
      "Test set: Average loss: 4.9530, Accuracy: 504/10000 (5%)\n",
      "\n",
      "Epoch 4/30\n",
      "Train Epoch: 4 [0/114800 (0%)]\tLoss: 0.564839\n",
      "Train Epoch: 4 [6400/114800 (6%)]\tLoss: 0.647342\n",
      "Train Epoch: 4 [12800/114800 (11%)]\tLoss: 0.510840\n",
      "Train Epoch: 4 [19200/114800 (17%)]\tLoss: 0.526466\n",
      "Train Epoch: 4 [25600/114800 (22%)]\tLoss: 0.642418\n",
      "Train Epoch: 4 [32000/114800 (28%)]\tLoss: 0.450884\n",
      "Train Epoch: 4 [38400/114800 (33%)]\tLoss: 0.409763\n"
     ]
    },
    {
     "name": "stderr",
     "output_type": "stream",
     "text": [
      "Exception ignored in: <bound method Image.__del__ of <PIL.Image.Image image mode=L size=28x28 at 0x11B654390>>\n",
      "Traceback (most recent call last):\n",
      "  File \"/Users/jrieke/anaconda2/envs/py3/lib/python3.6/site-packages/PIL/Image.py\", line 587, in __del__\n",
      "    if (hasattr(self, 'fp') and hasattr(self, '_exclusive_fp')\n",
      "KeyboardInterrupt\n"
     ]
    },
    {
     "name": "stdout",
     "output_type": "stream",
     "text": [
      "Train Epoch: 4 [44800/114800 (39%)]\tLoss: 0.494759\n",
      "Train Epoch: 4 [51200/114800 (45%)]\tLoss: 0.500844\n",
      "Train Epoch: 4 [57600/114800 (50%)]\tLoss: 0.732430\n",
      "Train Epoch: 4 [64000/114800 (56%)]\tLoss: 0.646362\n",
      "Train Epoch: 4 [70400/114800 (61%)]\tLoss: 0.496812\n",
      "Train Epoch: 4 [76800/114800 (67%)]\tLoss: 0.557956\n",
      "Train Epoch: 4 [83200/114800 (72%)]\tLoss: 0.721928\n",
      "Train Epoch: 4 [89600/114800 (78%)]\tLoss: 0.537880\n",
      "Train Epoch: 4 [96000/114800 (84%)]\tLoss: 0.474111\n",
      "Train Epoch: 4 [102400/114800 (89%)]\tLoss: 0.480194\n",
      "Train Epoch: 4 [108800/114800 (95%)]\tLoss: 0.340640\n",
      "Took 20.938366413116455 seconds\n",
      "\n",
      "Test set: Average loss: 0.4398, Accuracy: 18040/20800 (87%)\n",
      "\n",
      "Now testing on noisy dataset...\n",
      "\n",
      "Test set: Average loss: 5.2038, Accuracy: 465/10000 (5%)\n",
      "\n",
      "Epoch 5/30\n",
      "Train Epoch: 5 [0/114800 (0%)]\tLoss: 0.623673\n",
      "Train Epoch: 5 [6400/114800 (6%)]\tLoss: 0.547669\n",
      "Train Epoch: 5 [12800/114800 (11%)]\tLoss: 0.555407\n",
      "Train Epoch: 5 [19200/114800 (17%)]\tLoss: 0.599290\n",
      "Train Epoch: 5 [25600/114800 (22%)]\tLoss: 0.330663\n",
      "Train Epoch: 5 [32000/114800 (28%)]\tLoss: 0.606660\n",
      "Train Epoch: 5 [38400/114800 (33%)]\tLoss: 0.328434\n",
      "Train Epoch: 5 [44800/114800 (39%)]\tLoss: 0.310148\n",
      "Train Epoch: 5 [51200/114800 (45%)]\tLoss: 0.662019\n",
      "Train Epoch: 5 [57600/114800 (50%)]\tLoss: 0.473591\n",
      "Train Epoch: 5 [64000/114800 (56%)]\tLoss: 0.420948\n",
      "Train Epoch: 5 [70400/114800 (61%)]\tLoss: 0.571643\n",
      "Train Epoch: 5 [76800/114800 (67%)]\tLoss: 0.698385\n",
      "Train Epoch: 5 [83200/114800 (72%)]\tLoss: 0.502724\n",
      "Train Epoch: 5 [89600/114800 (78%)]\tLoss: 0.427980\n",
      "Train Epoch: 5 [96000/114800 (84%)]\tLoss: 0.356012\n",
      "Train Epoch: 5 [102400/114800 (89%)]\tLoss: 0.487444\n",
      "Train Epoch: 5 [108800/114800 (95%)]\tLoss: 0.434791\n",
      "Took 18.840280055999756 seconds\n",
      "\n",
      "Test set: Average loss: 0.4100, Accuracy: 18271/20800 (88%)\n",
      "\n",
      "Now testing on noisy dataset...\n",
      "\n",
      "Test set: Average loss: 5.4213, Accuracy: 450/10000 (4%)\n",
      "\n",
      "Epoch 6/30\n",
      "Train Epoch: 6 [0/114800 (0%)]\tLoss: 0.445766\n",
      "Train Epoch: 6 [6400/114800 (6%)]\tLoss: 0.426121\n",
      "Train Epoch: 6 [12800/114800 (11%)]\tLoss: 0.481721\n",
      "Train Epoch: 6 [19200/114800 (17%)]\tLoss: 0.656287\n",
      "Train Epoch: 6 [25600/114800 (22%)]\tLoss: 0.406442\n"
     ]
    },
    {
     "ename": "KeyboardInterrupt",
     "evalue": "",
     "output_type": "error",
     "traceback": [
      "\u001b[0;31m---------------------------------------------------------------------------\u001b[0m",
      "\u001b[0;31mKeyboardInterrupt\u001b[0m                         Traceback (most recent call last)",
      "\u001b[0;32m<ipython-input-250-7ca265bdd378>\u001b[0m in \u001b[0;36m<module>\u001b[0;34m()\u001b[0m\n\u001b[1;32m     11\u001b[0m     \u001b[0mprint\u001b[0m\u001b[0;34m(\u001b[0m\u001b[0;34m'Epoch {}/{}'\u001b[0m\u001b[0;34m.\u001b[0m\u001b[0mformat\u001b[0m\u001b[0;34m(\u001b[0m\u001b[0mepoch\u001b[0m\u001b[0;34m+\u001b[0m\u001b[0;36m1\u001b[0m\u001b[0;34m,\u001b[0m \u001b[0mparams\u001b[0m\u001b[0;34m[\u001b[0m\u001b[0;34m'num_epochs'\u001b[0m\u001b[0;34m]\u001b[0m\u001b[0;34m)\u001b[0m\u001b[0;34m)\u001b[0m\u001b[0;34m\u001b[0m\u001b[0m\n\u001b[1;32m     12\u001b[0m     \u001b[0mstart_time\u001b[0m \u001b[0;34m=\u001b[0m \u001b[0mtime\u001b[0m\u001b[0;34m.\u001b[0m\u001b[0mtime\u001b[0m\u001b[0;34m(\u001b[0m\u001b[0;34m)\u001b[0m\u001b[0;34m\u001b[0m\u001b[0m\n\u001b[0;32m---> 13\u001b[0;31m     \u001b[0mtrain\u001b[0m\u001b[0;34m(\u001b[0m\u001b[0mmodel\u001b[0m\u001b[0;34m,\u001b[0m \u001b[0mdevice\u001b[0m\u001b[0;34m,\u001b[0m \u001b[0mtrain_loader\u001b[0m\u001b[0;34m,\u001b[0m \u001b[0moptimizer\u001b[0m\u001b[0;34m,\u001b[0m \u001b[0mepoch\u001b[0m\u001b[0;34m+\u001b[0m\u001b[0;36m1\u001b[0m\u001b[0;34m)\u001b[0m\u001b[0;34m\u001b[0m\u001b[0m\n\u001b[0m\u001b[1;32m     14\u001b[0m     \u001b[0mprint\u001b[0m\u001b[0;34m(\u001b[0m\u001b[0;34m'Took'\u001b[0m\u001b[0;34m,\u001b[0m \u001b[0mtime\u001b[0m\u001b[0;34m.\u001b[0m\u001b[0mtime\u001b[0m\u001b[0;34m(\u001b[0m\u001b[0;34m)\u001b[0m\u001b[0;34m-\u001b[0m\u001b[0mstart_time\u001b[0m\u001b[0;34m,\u001b[0m \u001b[0;34m'seconds'\u001b[0m\u001b[0;34m)\u001b[0m\u001b[0;34m\u001b[0m\u001b[0m\n\u001b[1;32m     15\u001b[0m     \u001b[0mtest\u001b[0m\u001b[0;34m(\u001b[0m\u001b[0mmodel\u001b[0m\u001b[0;34m,\u001b[0m \u001b[0mdevice\u001b[0m\u001b[0;34m,\u001b[0m \u001b[0mtest_loader\u001b[0m\u001b[0;34m)\u001b[0m\u001b[0;34m\u001b[0m\u001b[0m\n",
      "\u001b[0;32m<ipython-input-231-bf5789005fce>\u001b[0m in \u001b[0;36mtrain\u001b[0;34m(model, device, train_loader, optimizer, epoch, params)\u001b[0m\n\u001b[1;32m      1\u001b[0m \u001b[0;32mdef\u001b[0m \u001b[0mtrain\u001b[0m\u001b[0;34m(\u001b[0m\u001b[0mmodel\u001b[0m\u001b[0;34m,\u001b[0m \u001b[0mdevice\u001b[0m\u001b[0;34m,\u001b[0m \u001b[0mtrain_loader\u001b[0m\u001b[0;34m,\u001b[0m \u001b[0moptimizer\u001b[0m\u001b[0;34m,\u001b[0m \u001b[0mepoch\u001b[0m\u001b[0;34m,\u001b[0m \u001b[0mparams\u001b[0m\u001b[0;34m=\u001b[0m\u001b[0;32mNone\u001b[0m\u001b[0;34m)\u001b[0m\u001b[0;34m:\u001b[0m\u001b[0;34m\u001b[0m\u001b[0m\n\u001b[1;32m      2\u001b[0m     \u001b[0mmodel\u001b[0m\u001b[0;34m.\u001b[0m\u001b[0mtrain\u001b[0m\u001b[0;34m(\u001b[0m\u001b[0;34m)\u001b[0m\u001b[0;34m\u001b[0m\u001b[0m\n\u001b[0;32m----> 3\u001b[0;31m     \u001b[0;32mfor\u001b[0m \u001b[0mbatch\u001b[0m\u001b[0;34m,\u001b[0m \u001b[0;34m(\u001b[0m\u001b[0mdata\u001b[0m\u001b[0;34m,\u001b[0m \u001b[0mtarget\u001b[0m\u001b[0;34m)\u001b[0m \u001b[0;32min\u001b[0m \u001b[0menumerate\u001b[0m\u001b[0;34m(\u001b[0m\u001b[0mtrain_loader\u001b[0m\u001b[0;34m)\u001b[0m\u001b[0;34m:\u001b[0m\u001b[0;34m\u001b[0m\u001b[0m\n\u001b[0m\u001b[1;32m      4\u001b[0m         \u001b[0mdata\u001b[0m\u001b[0;34m,\u001b[0m \u001b[0mtarget\u001b[0m \u001b[0;34m=\u001b[0m \u001b[0mdata\u001b[0m\u001b[0;34m.\u001b[0m\u001b[0mto\u001b[0m\u001b[0;34m(\u001b[0m\u001b[0mdevice\u001b[0m\u001b[0;34m)\u001b[0m\u001b[0;34m,\u001b[0m \u001b[0mtarget\u001b[0m\u001b[0;34m.\u001b[0m\u001b[0mto\u001b[0m\u001b[0;34m(\u001b[0m\u001b[0mdevice\u001b[0m\u001b[0;34m)\u001b[0m\u001b[0;34m\u001b[0m\u001b[0m\n\u001b[1;32m      5\u001b[0m         \u001b[0moptimizer\u001b[0m\u001b[0;34m.\u001b[0m\u001b[0mzero_grad\u001b[0m\u001b[0;34m(\u001b[0m\u001b[0;34m)\u001b[0m\u001b[0;34m\u001b[0m\u001b[0m\n",
      "\u001b[0;32m~/anaconda2/envs/py3/lib/python3.6/site-packages/torch/utils/data/dataloader.py\u001b[0m in \u001b[0;36m__next__\u001b[0;34m(self)\u001b[0m\n\u001b[1;32m    613\u001b[0m         \u001b[0;32mif\u001b[0m \u001b[0mself\u001b[0m\u001b[0;34m.\u001b[0m\u001b[0mnum_workers\u001b[0m \u001b[0;34m==\u001b[0m \u001b[0;36m0\u001b[0m\u001b[0;34m:\u001b[0m  \u001b[0;31m# same-process loading\u001b[0m\u001b[0;34m\u001b[0m\u001b[0m\n\u001b[1;32m    614\u001b[0m             \u001b[0mindices\u001b[0m \u001b[0;34m=\u001b[0m \u001b[0mnext\u001b[0m\u001b[0;34m(\u001b[0m\u001b[0mself\u001b[0m\u001b[0;34m.\u001b[0m\u001b[0msample_iter\u001b[0m\u001b[0;34m)\u001b[0m  \u001b[0;31m# may raise StopIteration\u001b[0m\u001b[0;34m\u001b[0m\u001b[0m\n\u001b[0;32m--> 615\u001b[0;31m             \u001b[0mbatch\u001b[0m \u001b[0;34m=\u001b[0m \u001b[0mself\u001b[0m\u001b[0;34m.\u001b[0m\u001b[0mcollate_fn\u001b[0m\u001b[0;34m(\u001b[0m\u001b[0;34m[\u001b[0m\u001b[0mself\u001b[0m\u001b[0;34m.\u001b[0m\u001b[0mdataset\u001b[0m\u001b[0;34m[\u001b[0m\u001b[0mi\u001b[0m\u001b[0;34m]\u001b[0m \u001b[0;32mfor\u001b[0m \u001b[0mi\u001b[0m \u001b[0;32min\u001b[0m \u001b[0mindices\u001b[0m\u001b[0;34m]\u001b[0m\u001b[0;34m)\u001b[0m\u001b[0;34m\u001b[0m\u001b[0m\n\u001b[0m\u001b[1;32m    616\u001b[0m             \u001b[0;32mif\u001b[0m \u001b[0mself\u001b[0m\u001b[0;34m.\u001b[0m\u001b[0mpin_memory\u001b[0m\u001b[0;34m:\u001b[0m\u001b[0;34m\u001b[0m\u001b[0m\n\u001b[1;32m    617\u001b[0m                 \u001b[0mbatch\u001b[0m \u001b[0;34m=\u001b[0m \u001b[0mpin_memory_batch\u001b[0m\u001b[0;34m(\u001b[0m\u001b[0mbatch\u001b[0m\u001b[0;34m)\u001b[0m\u001b[0;34m\u001b[0m\u001b[0m\n",
      "\u001b[0;32m~/anaconda2/envs/py3/lib/python3.6/site-packages/torch/utils/data/dataloader.py\u001b[0m in \u001b[0;36m<listcomp>\u001b[0;34m(.0)\u001b[0m\n\u001b[1;32m    613\u001b[0m         \u001b[0;32mif\u001b[0m \u001b[0mself\u001b[0m\u001b[0;34m.\u001b[0m\u001b[0mnum_workers\u001b[0m \u001b[0;34m==\u001b[0m \u001b[0;36m0\u001b[0m\u001b[0;34m:\u001b[0m  \u001b[0;31m# same-process loading\u001b[0m\u001b[0;34m\u001b[0m\u001b[0m\n\u001b[1;32m    614\u001b[0m             \u001b[0mindices\u001b[0m \u001b[0;34m=\u001b[0m \u001b[0mnext\u001b[0m\u001b[0;34m(\u001b[0m\u001b[0mself\u001b[0m\u001b[0;34m.\u001b[0m\u001b[0msample_iter\u001b[0m\u001b[0;34m)\u001b[0m  \u001b[0;31m# may raise StopIteration\u001b[0m\u001b[0;34m\u001b[0m\u001b[0m\n\u001b[0;32m--> 615\u001b[0;31m             \u001b[0mbatch\u001b[0m \u001b[0;34m=\u001b[0m \u001b[0mself\u001b[0m\u001b[0;34m.\u001b[0m\u001b[0mcollate_fn\u001b[0m\u001b[0;34m(\u001b[0m\u001b[0;34m[\u001b[0m\u001b[0mself\u001b[0m\u001b[0;34m.\u001b[0m\u001b[0mdataset\u001b[0m\u001b[0;34m[\u001b[0m\u001b[0mi\u001b[0m\u001b[0;34m]\u001b[0m \u001b[0;32mfor\u001b[0m \u001b[0mi\u001b[0m \u001b[0;32min\u001b[0m \u001b[0mindices\u001b[0m\u001b[0;34m]\u001b[0m\u001b[0;34m)\u001b[0m\u001b[0;34m\u001b[0m\u001b[0m\n\u001b[0m\u001b[1;32m    616\u001b[0m             \u001b[0;32mif\u001b[0m \u001b[0mself\u001b[0m\u001b[0;34m.\u001b[0m\u001b[0mpin_memory\u001b[0m\u001b[0;34m:\u001b[0m\u001b[0;34m\u001b[0m\u001b[0m\n\u001b[1;32m    617\u001b[0m                 \u001b[0mbatch\u001b[0m \u001b[0;34m=\u001b[0m \u001b[0mpin_memory_batch\u001b[0m\u001b[0;34m(\u001b[0m\u001b[0mbatch\u001b[0m\u001b[0;34m)\u001b[0m\u001b[0;34m\u001b[0m\u001b[0m\n",
      "\u001b[0;32m~/anaconda2/envs/py3/lib/python3.6/site-packages/torch/utils/data/dataset.py\u001b[0m in \u001b[0;36m__getitem__\u001b[0;34m(self, idx)\u001b[0m\n\u001b[1;32m    101\u001b[0m \u001b[0;34m\u001b[0m\u001b[0m\n\u001b[1;32m    102\u001b[0m     \u001b[0;32mdef\u001b[0m \u001b[0m__getitem__\u001b[0m\u001b[0;34m(\u001b[0m\u001b[0mself\u001b[0m\u001b[0;34m,\u001b[0m \u001b[0midx\u001b[0m\u001b[0;34m)\u001b[0m\u001b[0;34m:\u001b[0m\u001b[0;34m\u001b[0m\u001b[0m\n\u001b[0;32m--> 103\u001b[0;31m         \u001b[0;32mreturn\u001b[0m \u001b[0mself\u001b[0m\u001b[0;34m.\u001b[0m\u001b[0mdataset\u001b[0m\u001b[0;34m[\u001b[0m\u001b[0mself\u001b[0m\u001b[0;34m.\u001b[0m\u001b[0mindices\u001b[0m\u001b[0;34m[\u001b[0m\u001b[0midx\u001b[0m\u001b[0;34m]\u001b[0m\u001b[0;34m]\u001b[0m\u001b[0;34m\u001b[0m\u001b[0m\n\u001b[0m\u001b[1;32m    104\u001b[0m \u001b[0;34m\u001b[0m\u001b[0m\n\u001b[1;32m    105\u001b[0m     \u001b[0;32mdef\u001b[0m \u001b[0m__len__\u001b[0m\u001b[0;34m(\u001b[0m\u001b[0mself\u001b[0m\u001b[0;34m)\u001b[0m\u001b[0;34m:\u001b[0m\u001b[0;34m\u001b[0m\u001b[0m\n",
      "\u001b[0;32m~/anaconda2/envs/py3/lib/python3.6/site-packages/torchvision/datasets/mnist.py\u001b[0m in \u001b[0;36m__getitem__\u001b[0;34m(self, index)\u001b[0m\n\u001b[1;32m     75\u001b[0m \u001b[0;34m\u001b[0m\u001b[0m\n\u001b[1;32m     76\u001b[0m         \u001b[0;32mif\u001b[0m \u001b[0mself\u001b[0m\u001b[0;34m.\u001b[0m\u001b[0mtransform\u001b[0m \u001b[0;32mis\u001b[0m \u001b[0;32mnot\u001b[0m \u001b[0;32mNone\u001b[0m\u001b[0;34m:\u001b[0m\u001b[0;34m\u001b[0m\u001b[0m\n\u001b[0;32m---> 77\u001b[0;31m             \u001b[0mimg\u001b[0m \u001b[0;34m=\u001b[0m \u001b[0mself\u001b[0m\u001b[0;34m.\u001b[0m\u001b[0mtransform\u001b[0m\u001b[0;34m(\u001b[0m\u001b[0mimg\u001b[0m\u001b[0;34m)\u001b[0m\u001b[0;34m\u001b[0m\u001b[0m\n\u001b[0m\u001b[1;32m     78\u001b[0m \u001b[0;34m\u001b[0m\u001b[0m\n\u001b[1;32m     79\u001b[0m         \u001b[0;32mif\u001b[0m \u001b[0mself\u001b[0m\u001b[0;34m.\u001b[0m\u001b[0mtarget_transform\u001b[0m \u001b[0;32mis\u001b[0m \u001b[0;32mnot\u001b[0m \u001b[0;32mNone\u001b[0m\u001b[0;34m:\u001b[0m\u001b[0;34m\u001b[0m\u001b[0m\n",
      "\u001b[0;32m~/anaconda2/envs/py3/lib/python3.6/site-packages/torchvision/transforms/transforms.py\u001b[0m in \u001b[0;36m__call__\u001b[0;34m(self, img)\u001b[0m\n\u001b[1;32m     47\u001b[0m     \u001b[0;32mdef\u001b[0m \u001b[0m__call__\u001b[0m\u001b[0;34m(\u001b[0m\u001b[0mself\u001b[0m\u001b[0;34m,\u001b[0m \u001b[0mimg\u001b[0m\u001b[0;34m)\u001b[0m\u001b[0;34m:\u001b[0m\u001b[0;34m\u001b[0m\u001b[0m\n\u001b[1;32m     48\u001b[0m         \u001b[0;32mfor\u001b[0m \u001b[0mt\u001b[0m \u001b[0;32min\u001b[0m \u001b[0mself\u001b[0m\u001b[0;34m.\u001b[0m\u001b[0mtransforms\u001b[0m\u001b[0;34m:\u001b[0m\u001b[0;34m\u001b[0m\u001b[0m\n\u001b[0;32m---> 49\u001b[0;31m             \u001b[0mimg\u001b[0m \u001b[0;34m=\u001b[0m \u001b[0mt\u001b[0m\u001b[0;34m(\u001b[0m\u001b[0mimg\u001b[0m\u001b[0;34m)\u001b[0m\u001b[0;34m\u001b[0m\u001b[0m\n\u001b[0m\u001b[1;32m     50\u001b[0m         \u001b[0;32mreturn\u001b[0m \u001b[0mimg\u001b[0m\u001b[0;34m\u001b[0m\u001b[0m\n\u001b[1;32m     51\u001b[0m \u001b[0;34m\u001b[0m\u001b[0m\n",
      "\u001b[0;32m~/anaconda2/envs/py3/lib/python3.6/site-packages/torchvision/transforms/transforms.py\u001b[0m in \u001b[0;36m__call__\u001b[0;34m(self, pic)\u001b[0m\n\u001b[1;32m     74\u001b[0m             \u001b[0mTensor\u001b[0m\u001b[0;34m:\u001b[0m \u001b[0mConverted\u001b[0m \u001b[0mimage\u001b[0m\u001b[0;34m.\u001b[0m\u001b[0;34m\u001b[0m\u001b[0m\n\u001b[1;32m     75\u001b[0m         \"\"\"\n\u001b[0;32m---> 76\u001b[0;31m         \u001b[0;32mreturn\u001b[0m \u001b[0mF\u001b[0m\u001b[0;34m.\u001b[0m\u001b[0mto_tensor\u001b[0m\u001b[0;34m(\u001b[0m\u001b[0mpic\u001b[0m\u001b[0;34m)\u001b[0m\u001b[0;34m\u001b[0m\u001b[0m\n\u001b[0m\u001b[1;32m     77\u001b[0m \u001b[0;34m\u001b[0m\u001b[0m\n\u001b[1;32m     78\u001b[0m     \u001b[0;32mdef\u001b[0m \u001b[0m__repr__\u001b[0m\u001b[0;34m(\u001b[0m\u001b[0mself\u001b[0m\u001b[0;34m)\u001b[0m\u001b[0;34m:\u001b[0m\u001b[0;34m\u001b[0m\u001b[0m\n",
      "\u001b[0;32m~/anaconda2/envs/py3/lib/python3.6/site-packages/torchvision/transforms/functional.py\u001b[0m in \u001b[0;36mto_tensor\u001b[0;34m(pic)\u001b[0m\n\u001b[1;32m     76\u001b[0m     \u001b[0;32melse\u001b[0m\u001b[0;34m:\u001b[0m\u001b[0;34m\u001b[0m\u001b[0m\n\u001b[1;32m     77\u001b[0m         \u001b[0mnchannel\u001b[0m \u001b[0;34m=\u001b[0m \u001b[0mlen\u001b[0m\u001b[0;34m(\u001b[0m\u001b[0mpic\u001b[0m\u001b[0;34m.\u001b[0m\u001b[0mmode\u001b[0m\u001b[0;34m)\u001b[0m\u001b[0;34m\u001b[0m\u001b[0m\n\u001b[0;32m---> 78\u001b[0;31m     \u001b[0mimg\u001b[0m \u001b[0;34m=\u001b[0m \u001b[0mimg\u001b[0m\u001b[0;34m.\u001b[0m\u001b[0mview\u001b[0m\u001b[0;34m(\u001b[0m\u001b[0mpic\u001b[0m\u001b[0;34m.\u001b[0m\u001b[0msize\u001b[0m\u001b[0;34m[\u001b[0m\u001b[0;36m1\u001b[0m\u001b[0;34m]\u001b[0m\u001b[0;34m,\u001b[0m \u001b[0mpic\u001b[0m\u001b[0;34m.\u001b[0m\u001b[0msize\u001b[0m\u001b[0;34m[\u001b[0m\u001b[0;36m0\u001b[0m\u001b[0;34m]\u001b[0m\u001b[0;34m,\u001b[0m \u001b[0mnchannel\u001b[0m\u001b[0;34m)\u001b[0m\u001b[0;34m\u001b[0m\u001b[0m\n\u001b[0m\u001b[1;32m     79\u001b[0m     \u001b[0;31m# put it from HWC to CHW format\u001b[0m\u001b[0;34m\u001b[0m\u001b[0;34m\u001b[0m\u001b[0m\n\u001b[1;32m     80\u001b[0m     \u001b[0;31m# yikes, this transpose takes 80% of the loading time/CPU\u001b[0m\u001b[0;34m\u001b[0m\u001b[0;34m\u001b[0m\u001b[0m\n",
      "\u001b[0;31mKeyboardInterrupt\u001b[0m: "
     ]
    }
   ],
   "source": [
    "import time\n",
    "\n",
    "model = FeedforwardNet(num_hidden=500).to(device)\n",
    "#model = FeedbackNet().to(device)\n",
    "print('Model has', count_parameters(model), 'trainable parameters')\n",
    "\n",
    "# TODO: Maybe use Adam or Adadelta instead. \n",
    "optimizer = optim.SGD(model.parameters(), lr=params['learning_rate'], momentum=params['momentum'])\n",
    "\n",
    "for epoch in range(params['num_epochs']):\n",
    "    print('Epoch {}/{}'.format(epoch+1, params['num_epochs']))\n",
    "    start_time = time.time()\n",
    "    train(model, device, train_loader, optimizer, epoch+1)\n",
    "    print('Took', time.time()-start_time, 'seconds')\n",
    "    test(model, device, test_loader)\n",
    "    print('Now testing on noisy dataset...')\n",
    "    test(model, device, noisy_test_loader)"
   ]
  },
  {
   "cell_type": "markdown",
   "metadata": {},
   "source": [
    "# Experiment 2: Sequential Image Classification"
   ]
  },
  {
   "cell_type": "code",
   "execution_count": 4,
   "metadata": {
    "ExecuteTime": {
     "end_time": "2019-01-11T01:05:52.628229Z",
     "start_time": "2019-01-11T01:05:52.598609Z"
    }
   },
   "outputs": [],
   "source": [
    "params = dict(batch_size=64, batch_size_eval=1000, num_epochs=30, learning_rate=0.01, momentum=0.5)"
   ]
  },
  {
   "cell_type": "markdown",
   "metadata": {},
   "source": [
    "## Make sequential dataset from EMNIST"
   ]
  },
  {
   "cell_type": "code",
   "execution_count": 5,
   "metadata": {
    "ExecuteTime": {
     "end_time": "2019-01-11T01:05:53.451551Z",
     "start_time": "2019-01-11T01:05:53.420517Z"
    }
   },
   "outputs": [],
   "source": [
    "def to_letter(index):\n",
    "    return 'abcdefghijklmnopqrstuvwxyz'[index]\n",
    "\n",
    "def to_index(letter):\n",
    "    return ord(letter) - 97"
   ]
  },
  {
   "cell_type": "code",
   "execution_count": 6,
   "metadata": {
    "ExecuteTime": {
     "end_time": "2019-01-11T01:05:54.366774Z",
     "start_time": "2019-01-11T01:05:54.336682Z"
    }
   },
   "outputs": [],
   "source": [
    "num_allowed_seqs = 10\n",
    "seq_len = 5\n",
    "num_classes = 26  # mnist: 10, emnist: 26\n",
    "\n",
    "#allowed_seqs = np.random.randint(0, num_classes, (num_allowed_seqs, seq_len))"
   ]
  },
  {
   "cell_type": "code",
   "execution_count": 36,
   "metadata": {
    "ExecuteTime": {
     "end_time": "2019-01-11T02:24:17.682440Z",
     "start_time": "2019-01-11T02:24:17.644472Z"
    }
   },
   "outputs": [],
   "source": [
    "allowed_seqs_letters = np.loadtxt('data/5-letter-words.txt', dtype=str)\n",
    "np.random.seed(0)  # seed here so we choose the same words in each run\n",
    "allowed_seqs_letters = np.random.choice(allowed_seqs_letters, 50)\n",
    "allowed_seqs = np.array([list(map(to_index, word)) for word in allowed_seqs_letters])"
   ]
  },
  {
   "cell_type": "code",
   "execution_count": 37,
   "metadata": {
    "ExecuteTime": {
     "end_time": "2019-01-11T02:24:18.068198Z",
     "start_time": "2019-01-11T02:24:18.030599Z"
    }
   },
   "outputs": [
    {
     "data": {
      "text/plain": [
       "(array([[ 5, 14, 17, 20, 12],\n",
       "        [ 1,  4,  6,  8, 13],\n",
       "        [ 3,  0, 19,  4,  3],\n",
       "        [ 6, 17,  4,  0, 19],\n",
       "        [17,  0,  8, 18,  4],\n",
       "        [12,  0, 17,  8,  0],\n",
       "        [ 6, 17, 14, 20, 15],\n",
       "        [18,  7, 14, 17, 19],\n",
       "        [ 0,  6,  0,  8, 13],\n",
       "        [ 8,  3,  4,  0, 11]]),\n",
       " array(['forum', 'begin', 'dated', 'great', 'raise', 'maria', 'group',\n",
       "        'short', 'again', 'ideal'], dtype='<U5'))"
      ]
     },
     "execution_count": 37,
     "metadata": {},
     "output_type": "execute_result"
    }
   ],
   "source": [
    "allowed_seqs[:10], allowed_seqs_letters[:10]"
   ]
  },
  {
   "cell_type": "code",
   "execution_count": 38,
   "metadata": {
    "ExecuteTime": {
     "end_time": "2019-01-11T02:24:24.127800Z",
     "start_time": "2019-01-11T02:24:24.096883Z"
    }
   },
   "outputs": [
    {
     "data": {
      "text/plain": [
       "(array([ 0,  1,  2,  3,  4,  5,  6,  7,  8, 10, 11, 12, 13, 14, 15, 17, 18,\n",
       "        19, 20, 21, 22, 24, 25]),\n",
       " array([20,  4,  8,  8, 32,  6,  7,  9, 18,  2,  8,  6, 11, 22,  6, 34, 14,\n",
       "        19,  6,  2,  5,  2,  1]))"
      ]
     },
     "execution_count": 38,
     "metadata": {},
     "output_type": "execute_result"
    }
   ],
   "source": [
    "np.unique(allowed_seqs, return_counts=True)\n",
    "# TODO: Some letters appear very rarely in these words, gotta keep this in mind when training only on sequences. "
   ]
  },
  {
   "cell_type": "code",
   "execution_count": 39,
   "metadata": {
    "ExecuteTime": {
     "end_time": "2019-01-11T02:24:53.422720Z",
     "start_time": "2019-01-11T02:24:26.066943Z"
    },
    "colab": {},
    "colab_type": "code",
    "id": "8woSGMdwlP4k",
    "scrolled": true
   },
   "outputs": [],
   "source": [
    "train_dataset, val_dataset, test_dataset = datasets.load_emnist()\n",
    "noisy_test_dataset = datasets.load_noisy_emnist(scaling_factor=4)\n",
    "\n",
    "seq_train_dataset = datasets.ImageSequenceDataset(allowed_seqs, train_dataset, num_classes, num_samples=50000)\n",
    "seq_test_dataset = datasets.ImageSequenceDataset(allowed_seqs, test_dataset, num_classes, num_samples=10000)\n",
    "noisy_seq_test_dataset = datasets.ImageSequenceDataset(allowed_seqs, test_dataset, num_classes, num_samples=10000, noisy_image_dataset=noisy_test_dataset)\n",
    "\n",
    "kwargs = {'num_workers': 3, 'pin_memory': True} if use_cuda else {}\n",
    "seq_train_loader = torch.utils.data.DataLoader(seq_train_dataset, batch_size=params['batch_size'], shuffle=True, **kwargs)\n",
    "seq_test_loader = torch.utils.data.DataLoader(seq_test_dataset, batch_size=params['batch_size_eval'], shuffle=False, **kwargs)\n",
    "noisy_seq_test_loader = torch.utils.data.DataLoader(noisy_seq_test_dataset, batch_size=params['batch_size_eval'], shuffle=False, **kwargs)"
   ]
  },
  {
   "cell_type": "code",
   "execution_count": 40,
   "metadata": {
    "ExecuteTime": {
     "end_time": "2019-01-11T02:24:54.102610Z",
     "start_time": "2019-01-11T02:24:53.425215Z"
    },
    "colab": {
     "base_uri": "https://localhost:8080/",
     "height": 140
    },
    "colab_type": "code",
    "id": "A_2w2yEJmCLH",
    "outputId": "31c8cab6-ef7a-46fc-b861-8af892c51763"
   },
   "outputs": [
    {
     "data": {
      "image/png": "[encoded data removed]",
      "text/plain": [
       "<Figure size 432x288 with 5 Axes>"
      ]
     },
     "metadata": {},
     "output_type": "display_data"
    },
    {
     "data": {
      "image/png": "[encoded data removed]",
      "text/plain": [
       "<Figure size 432x288 with 5 Axes>"
      ]
     },
     "metadata": {},
     "output_type": "display_data"
    },
    {
     "data": {
      "image/png": "[encoded data removed]",
      "text/plain": [
       "<Figure size 432x288 with 5 Axes>"
      ]
     },
     "metadata": {},
     "output_type": "display_data"
    },
    {
     "data": {
      "image/png": "[encoded data removed]",
      "text/plain": [
       "<Figure size 432x288 with 5 Axes>"
      ]
     },
     "metadata": {},
     "output_type": "display_data"
    },
    {
     "data": {
      "image/png": "[encoded data removed]",
      "text/plain": [
       "<Figure size 432x288 with 5 Axes>"
      ]
     },
     "metadata": {},
     "output_type": "display_data"
    }
   ],
   "source": [
    "for i in range(5):\n",
    "    plt.figure()\n",
    "    datasets.plot_sequence(*seq_test_dataset[i], target_transform=to_letter)"
   ]
  },
  {
   "cell_type": "code",
   "execution_count": 41,
   "metadata": {
    "ExecuteTime": {
     "end_time": "2019-01-11T02:24:54.782422Z",
     "start_time": "2019-01-11T02:24:54.104467Z"
    }
   },
   "outputs": [
    {
     "data": {
      "image/png": "[encoded data removed]",
      "text/plain": [
       "<Figure size 432x288 with 5 Axes>"
      ]
     },
     "metadata": {},
     "output_type": "display_data"
    },
    {
     "data": {
      "image/png": "[encoded data removed]",
      "text/plain": [
       "<Figure size 432x288 with 5 Axes>"
      ]
     },
     "metadata": {},
     "output_type": "display_data"
    },
    {
     "data": {
      "image/png": "[encoded data removed]",
      "text/plain": [
       "<Figure size 432x288 with 5 Axes>"
      ]
     },
     "metadata": {},
     "output_type": "display_data"
    },
    {
     "data": {
      "image/png": "[encoded data removed]",
      "text/plain": [
       "<Figure size 432x288 with 5 Axes>"
      ]
     },
     "metadata": {},
     "output_type": "display_data"
    },
    {
     "data": {
      "image/png": "[encoded data removed]",
      "text/plain": [
       "<Figure size 432x288 with 5 Axes>"
      ]
     },
     "metadata": {},
     "output_type": "display_data"
    }
   ],
   "source": [
    "for i in range(5):\n",
    "    plt.figure()\n",
    "    datasets.plot_sequence(*noisy_seq_test_dataset[i], target_transform=to_letter)"
   ]
  },
  {
   "cell_type": "markdown",
   "metadata": {},
   "source": [
    "## Networks"
   ]
  },
  {
   "cell_type": "code",
   "execution_count": 42,
   "metadata": {
    "ExecuteTime": {
     "end_time": "2019-01-11T02:25:09.902422Z",
     "start_time": "2019-01-11T02:25:09.869787Z"
    }
   },
   "outputs": [],
   "source": [
    "class SequentialLSTM(nn.Module):\n",
    "    def __init__(self, num_hidden=500):\n",
    "        super(SequentialLSTM, self).__init__()\n",
    "        # TODO: Maybe change everything to batch_second.\n",
    "        self.lstm1 = nn.LSTM(784, num_hidden, batch_first=True)\n",
    "        self.lstm2 = nn.LSTM(num_hidden, 10, batch_first=True)\n",
    "        \n",
    "    def forward(self, inp):\n",
    "        inp = inp.view(inp.shape[0], inp.shape[1], 784)\n",
    "        #print(inp.shape)\n",
    "        x, (hidden, cell) = self.lstm1(inp)\n",
    "        # TODO: Need to add a non-linearity here?\n",
    "        x, (hidden, cell) = self.lstm2(x)\n",
    "        #print(x.shape, hidden.shape, cell.shape)\n",
    "        #print(x.shape)\n",
    "        x = F.log_softmax(x, dim=2)\n",
    "        #print(x.sum(dim=(2)))\n",
    "        return x"
   ]
  },
  {
   "cell_type": "code",
   "execution_count": 43,
   "metadata": {
    "ExecuteTime": {
     "end_time": "2019-01-11T02:25:10.226680Z",
     "start_time": "2019-01-11T02:25:10.193826Z"
    }
   },
   "outputs": [],
   "source": [
    "class SequentialFeedforwardNet(nn.Module):\n",
    "    def __init__(self, num_hidden=500, dropout=0.5):\n",
    "        super(SequentialFeedforwardNet, self).__init__()\n",
    "        self.forward1 = nn.Linear(784, num_hidden)\n",
    "        self.forward2 = nn.Linear(num_hidden, 26)\n",
    "        self.dropout = nn.Dropout(dropout)\n",
    "\n",
    "    def forward(self, inp):\n",
    "        outp = torch.zeros(inp.shape[0], inp.shape[1], 26)\n",
    "        \n",
    "        for i, x in enumerate(inp.transpose(0, 1)):\n",
    "            x = x.view(-1, 784)\n",
    "            x = F.relu(self.forward1(x))\n",
    "            x = self.dropout(x)\n",
    "            x = self.forward2(x)\n",
    "            # TODO: Maybe change to loss function that includes softmax. \n",
    "            x = F.log_softmax(x, dim=1)\n",
    "            outp[:, i] = x\n",
    "            \n",
    "        return outp"
   ]
  },
  {
   "cell_type": "code",
   "execution_count": 44,
   "metadata": {
    "ExecuteTime": {
     "end_time": "2019-01-11T02:25:10.512576Z",
     "start_time": "2019-01-11T02:25:10.479729Z"
    }
   },
   "outputs": [],
   "source": [
    "class SequentialFeedbackNet(nn.Module):\n",
    "    def __init__(self, num_hidden=500, dropout=0.5, alpha=0.5):\n",
    "        super(SequentialFeedbackNet, self).__init__()\n",
    "        self.forward1 = nn.Linear(784, num_hidden)\n",
    "        self.forward2 = nn.Linear(num_hidden, 26)\n",
    "        self.dropout = nn.Dropout(dropout)\n",
    "        \n",
    "        self.feedback1 = nn.Linear(num_hidden, 784)\n",
    "        self.feedback2 = nn.Linear(26, num_hidden)\n",
    "        self.alpha = alpha\n",
    "        \n",
    "        self.dropout = nn.Dropout(dropout)\n",
    "        self.no_feedback = False\n",
    "        \n",
    "    def forward(self, inp):\n",
    "        outp = torch.zeros(inp.shape[0], inp.shape[1], 26)\n",
    "        \n",
    "        feedback_activation_1 = torch.zeros(inp.shape[0], self.forward1.weight.shape[1])\n",
    "        feedback_activation_2 = torch.zeros(inp.shape[0], self.forward2.weight.shape[1])\n",
    "        \n",
    "        for i, x in enumerate(inp.transpose(0, 1)):\n",
    "            x = x.view(-1, 784)\n",
    "            #print(feedback_activation_1.mean())\n",
    "            x = F.relu(self.forward1((1 - self.alpha) * x + self.alpha * feedback_activation_1))\n",
    "            # TODO: Is this retained across forward passes?\n",
    "            feedback_activation_1 = self.feedback1(x)  # for next forward pass\n",
    "            x = self.dropout(x)\n",
    "            x = self.forward2(x)\n",
    "            #x = self.forward2((1 - self.alpha) * x +  self.alpha * feedback_activation_2)\n",
    "            # TODO: Maybe change to loss function that includes softmax. \n",
    "            x = F.log_softmax(x, dim=1)\n",
    "            feedback_activation_2 = self.feedback2(x)  # for next forward pass\n",
    "            outp[:, i] = x\n",
    "            \n",
    "        return outp"
   ]
  },
  {
   "cell_type": "code",
   "execution_count": 54,
   "metadata": {},
   "outputs": [
    {
     "ename": "NameError",
     "evalue": "name 'ff_model' is not defined",
     "output_type": "error",
     "traceback": [
      "\u001b[0;31m---------------------------------------------------------------------------\u001b[0m",
      "\u001b[0;31mNameError\u001b[0m                                 Traceback (most recent call last)",
      "\u001b[0;32m<ipython-input-54-7af4b45350b6>\u001b[0m in \u001b[0;36m<module>\u001b[0;34m()\u001b[0m\n\u001b[1;32m      1\u001b[0m \u001b[0mimgs\u001b[0m \u001b[0;34m=\u001b[0m \u001b[0mseq_train_dataset\u001b[0m\u001b[0;34m[\u001b[0m\u001b[0;36m0\u001b[0m\u001b[0;34m]\u001b[0m\u001b[0;34m[\u001b[0m\u001b[0;36m0\u001b[0m\u001b[0;34m]\u001b[0m\u001b[0;34m\u001b[0m\u001b[0m\n\u001b[1;32m      2\u001b[0m \u001b[0mmodel\u001b[0m \u001b[0;34m=\u001b[0m \u001b[0mSequentialFeedbackNet\u001b[0m\u001b[0;34m(\u001b[0m\u001b[0;34m)\u001b[0m\u001b[0;34m\u001b[0m\u001b[0m\n\u001b[0;32m----> 3\u001b[0;31m \u001b[0mmodel\u001b[0m\u001b[0;34m.\u001b[0m\u001b[0mforward1\u001b[0m\u001b[0;34m.\u001b[0m\u001b[0mweight\u001b[0m\u001b[0;34m.\u001b[0m\u001b[0mdata\u001b[0m \u001b[0;34m=\u001b[0m \u001b[0mff_model\u001b[0m\u001b[0;34m.\u001b[0m\u001b[0mforward1\u001b[0m\u001b[0;34m.\u001b[0m\u001b[0mweight\u001b[0m\u001b[0;34m.\u001b[0m\u001b[0mdata\u001b[0m\u001b[0;34m.\u001b[0m\u001b[0mclone\u001b[0m\u001b[0;34m(\u001b[0m\u001b[0;34m)\u001b[0m\u001b[0;34m\u001b[0m\u001b[0m\n\u001b[0m\u001b[1;32m      4\u001b[0m \u001b[0mmodel\u001b[0m\u001b[0;34m.\u001b[0m\u001b[0mforward1\u001b[0m\u001b[0;34m.\u001b[0m\u001b[0mbias\u001b[0m\u001b[0;34m.\u001b[0m\u001b[0mdata\u001b[0m \u001b[0;34m=\u001b[0m \u001b[0mff_model\u001b[0m\u001b[0;34m.\u001b[0m\u001b[0mforward1\u001b[0m\u001b[0;34m.\u001b[0m\u001b[0mbias\u001b[0m\u001b[0;34m.\u001b[0m\u001b[0mdata\u001b[0m\u001b[0;34m.\u001b[0m\u001b[0mclone\u001b[0m\u001b[0;34m(\u001b[0m\u001b[0;34m)\u001b[0m\u001b[0;34m\u001b[0m\u001b[0m\n\u001b[1;32m      5\u001b[0m \u001b[0mmodel\u001b[0m\u001b[0;34m.\u001b[0m\u001b[0mforward2\u001b[0m\u001b[0;34m.\u001b[0m\u001b[0mweight\u001b[0m\u001b[0;34m.\u001b[0m\u001b[0mdata\u001b[0m \u001b[0;34m=\u001b[0m \u001b[0mff_model\u001b[0m\u001b[0;34m.\u001b[0m\u001b[0mforward2\u001b[0m\u001b[0;34m.\u001b[0m\u001b[0mweight\u001b[0m\u001b[0;34m.\u001b[0m\u001b[0mdata\u001b[0m\u001b[0;34m.\u001b[0m\u001b[0mclone\u001b[0m\u001b[0;34m(\u001b[0m\u001b[0;34m)\u001b[0m\u001b[0;34m\u001b[0m\u001b[0m\n",
      "\u001b[0;31mNameError\u001b[0m: name 'ff_model' is not defined"
     ]
    }
   ],
   "source": [
    "imgs = seq_train_dataset[0][0]\n",
    "model = SequentialFeedbackNet()\n",
    "model.forward1.weight.data = ff_model.forward1.weight.data.clone()\n",
    "model.forward1.bias.data = ff_model.forward1.bias.data.clone()\n",
    "model.forward2.weight.data = ff_model.forward2.weight.data.clone()\n",
    "model.forward2.bias.data = ff_model.forward2.bias.data.clone()\n",
    "model(imgs[None], no_feedback=False)"
   ]
  },
  {
   "cell_type": "markdown",
   "metadata": {},
   "source": [
    "## Training"
   ]
  },
  {
   "cell_type": "code",
   "execution_count": 63,
   "metadata": {},
   "outputs": [],
   "source": [
    "# Good template for hyperparameter optimization:\n",
    "#def run(train_dataset, val_dataset, device, params, history)\n",
    "#def "
   ]
  },
  {
   "cell_type": "code",
   "execution_count": 45,
   "metadata": {
    "ExecuteTime": {
     "end_time": "2019-01-11T02:25:14.672633Z",
     "start_time": "2019-01-11T02:25:14.640141Z"
    }
   },
   "outputs": [],
   "source": [
    "# TODO: Debug properly.\n",
    "def train_sequential(model, device, train_loader, optimizer, epoch, params=None):\n",
    "    model.train()\n",
    "    for batch, (data, target) in enumerate(seq_train_loader):\n",
    "        data, target = data.to(device), target.to(device)\n",
    "\n",
    "        output = model(data)\n",
    "        #print(output.shape, target.shape)\n",
    "        \n",
    "        # TODO: According to https://pytorch.org/tutorials/beginner/nlp/sequence_models_tutorial.html\n",
    "        #       need to do model.zero_grad() and model.hidden = model.init_hidden() here. \n",
    "\n",
    "        loss = F.nll_loss(output.transpose(1, 2), target)  # loss function requires transpose\n",
    "        loss.backward()\n",
    "        optimizer.step()\n",
    "        if batch % 100 == 0:\n",
    "            print('Train Epoch: {} [{}/{} ({:.0f}%)]\\tLoss: {:.6f}'.format(\n",
    "                epoch, batch * len(data), len(train_loader.dataset),\n",
    "                100. * batch / len(train_loader), loss.item()))"
   ]
  },
  {
   "cell_type": "code",
   "execution_count": 46,
   "metadata": {
    "ExecuteTime": {
     "end_time": "2019-01-11T02:25:15.281311Z",
     "start_time": "2019-01-11T02:25:15.243563Z"
    }
   },
   "outputs": [],
   "source": [
    "# TODO: Debug properly.\n",
    "def test_sequential(model, device, test_loader, per_position=False, params=None):\n",
    "    model.eval()\n",
    "    test_loss = 0\n",
    "    correct = 0\n",
    "    if per_position:\n",
    "        correct_per_position = torch.zeros(seq_len)\n",
    "    with torch.no_grad():\n",
    "        for data, target in test_loader:\n",
    "            data, target = data.to(device), target.to(device)\n",
    "            output = model(data)\n",
    "            test_loss += F.nll_loss(output.transpose(1, 2), target, reduction='sum').item() # sum up batch loss, loss function requires transpose\n",
    "            \n",
    "            pred = output.view(-1, output.shape[-1]).max(1, keepdim=True)[1].view_as(target) # get the index of the max log-probability\n",
    "            correct += (pred == target).sum().item()\n",
    "            if per_position:\n",
    "                correct_per_position += (pred == target).float().sum(0)\n",
    "\n",
    "    # TODO: Make this independent of seq_len (used twice!).\n",
    "    test_loss /= len(test_loader.dataset) * seq_len\n",
    "    print('Test set: Average loss: {:.4f}, Accuracy: {}/{} ({:.1f} %)'.format(\n",
    "        test_loss, correct, len(test_loader.dataset) * seq_len,\n",
    "        100. * correct / (len(test_loader.dataset) * seq_len)))\n",
    "    if per_position:\n",
    "        print('Accuracy per position:', ' | '.join(['{:.1f} %'.format(100. * corr.item() / len(test_loader.dataset)) for corr in correct_per_position]))"
   ]
  },
  {
   "cell_type": "code",
   "execution_count": 17,
   "metadata": {},
   "outputs": [
    {
     "ename": "NameError",
     "evalue": "name 'model' is not defined",
     "output_type": "error",
     "traceback": [
      "\u001b[0;31m---------------------------------------------------------------------------\u001b[0m",
      "\u001b[0;31mNameError\u001b[0m                                 Traceback (most recent call last)",
      "\u001b[0;32m<ipython-input-17-c975f60cfd64>\u001b[0m in \u001b[0;36m<module>\u001b[0;34m()\u001b[0m\n\u001b[0;32m----> 1\u001b[0;31m \u001b[0mlen\u001b[0m\u001b[0;34m(\u001b[0m\u001b[0;34m[\u001b[0m\u001b[0mp\u001b[0m \u001b[0;32mfor\u001b[0m \u001b[0mp\u001b[0m \u001b[0;32min\u001b[0m \u001b[0mmodel\u001b[0m\u001b[0;34m.\u001b[0m\u001b[0mparameters\u001b[0m\u001b[0;34m(\u001b[0m\u001b[0;34m)\u001b[0m \u001b[0;32mif\u001b[0m \u001b[0mp\u001b[0m\u001b[0;34m.\u001b[0m\u001b[0mrequires_grad\u001b[0m\u001b[0;34m]\u001b[0m\u001b[0;34m)\u001b[0m\u001b[0;34m\u001b[0m\u001b[0m\n\u001b[0m",
      "\u001b[0;31mNameError\u001b[0m: name 'model' is not defined"
     ]
    }
   ],
   "source": [
    "len([p for p in model.parameters() if p.requires_grad])"
   ]
  },
  {
   "cell_type": "code",
   "execution_count": 49,
   "metadata": {
    "ExecuteTime": {
     "end_time": "2019-01-11T02:50:21.828352Z",
     "start_time": "2019-01-11T02:41:15.932236Z"
    },
    "scrolled": false
   },
   "outputs": [
    {
     "name": "stdout",
     "output_type": "stream",
     "text": [
      "Epoch 1/30\n",
      "Train Epoch: 1 [0/50000 (0%)]\tLoss: 3.274099\n",
      "Train Epoch: 1 [6400/50000 (13%)]\tLoss: 3.132168\n",
      "Train Epoch: 1 [12800/50000 (26%)]\tLoss: 2.769689\n",
      "Train Epoch: 1 [19200/50000 (38%)]\tLoss: 2.652400\n",
      "Train Epoch: 1 [25600/50000 (51%)]\tLoss: 2.547929\n",
      "Train Epoch: 1 [32000/50000 (64%)]\tLoss: 2.235792\n",
      "Train Epoch: 1 [38400/50000 (77%)]\tLoss: 2.235313\n",
      "Train Epoch: 1 [44800/50000 (90%)]\tLoss: 1.755176\n",
      "Took 19.119191646575928 seconds\n",
      "\n",
      "Test set: Average loss: 1.7102, Accuracy: 25492/50000 (51.0 %)\n",
      "Accuracy per position: 29.1 % | 56.1 % | 62.1 % | 59.8 % | 47.8 %\n",
      "\n",
      "Now testing on noisy dataset...\n",
      "Test set: Average loss: 2.0406, Accuracy: 20364/50000 (40.7 %)\n",
      "Accuracy per position: 28.4 % | 56.1 % | 62.3 % | 29.9 % | 27.0 %\n",
      "\n",
      "Epoch 2/30\n",
      "Train Epoch: 2 [0/50000 (0%)]\tLoss: 1.778965\n",
      "Train Epoch: 2 [6400/50000 (13%)]\tLoss: 1.486948\n",
      "Train Epoch: 2 [12800/50000 (26%)]\tLoss: 1.700558\n",
      "Train Epoch: 2 [19200/50000 (38%)]\tLoss: 1.573084\n",
      "Train Epoch: 2 [25600/50000 (51%)]\tLoss: 1.399392\n",
      "Train Epoch: 2 [32000/50000 (64%)]\tLoss: 1.493359\n",
      "Train Epoch: 2 [38400/50000 (77%)]\tLoss: 1.573274\n",
      "Train Epoch: 2 [44800/50000 (90%)]\tLoss: 1.277593\n",
      "Took 21.83460283279419 seconds\n",
      "\n",
      "Test set: Average loss: 1.1418, Accuracy: 33625/50000 (67.2 %)\n",
      "Accuracy per position: 58.2 % | 72.0 % | 75.3 % | 71.8 % | 59.0 %\n",
      "\n",
      "Now testing on noisy dataset...\n",
      "Test set: Average loss: 1.7282, Accuracy: 27235/50000 (54.5 %)\n",
      "Accuracy per position: 57.6 % | 72.2 % | 75.3 % | 37.2 % | 30.1 %\n",
      "\n",
      "Epoch 3/30\n",
      "Train Epoch: 3 [0/50000 (0%)]\tLoss: 1.016919\n",
      "Train Epoch: 3 [6400/50000 (13%)]\tLoss: 1.324758\n",
      "Train Epoch: 3 [12800/50000 (26%)]\tLoss: 1.430731\n",
      "Train Epoch: 3 [19200/50000 (38%)]\tLoss: 1.150695\n",
      "Train Epoch: 3 [25600/50000 (51%)]\tLoss: 1.178864\n",
      "Train Epoch: 3 [32000/50000 (64%)]\tLoss: 1.130609\n",
      "Train Epoch: 3 [38400/50000 (77%)]\tLoss: 1.038829\n",
      "Train Epoch: 3 [44800/50000 (90%)]\tLoss: 1.174493\n",
      "Took 20.045456171035767 seconds\n",
      "\n",
      "Test set: Average loss: 0.9077, Accuracy: 37234/50000 (74.5 %)\n",
      "Accuracy per position: 67.5 % | 75.3 % | 81.0 % | 78.0 % | 70.4 %\n",
      "\n",
      "Now testing on noisy dataset...\n",
      "Test set: Average loss: 1.7592, Accuracy: 27924/50000 (55.8 %)\n",
      "Accuracy per position: 67.2 % | 75.8 % | 81.1 % | 30.1 % | 25.0 %\n",
      "\n",
      "Epoch 4/30\n",
      "Train Epoch: 4 [0/50000 (0%)]\tLoss: 1.050956\n",
      "Train Epoch: 4 [6400/50000 (13%)]\tLoss: 0.879802\n",
      "Train Epoch: 4 [12800/50000 (26%)]\tLoss: 1.050302\n",
      "Train Epoch: 4 [19200/50000 (38%)]\tLoss: 1.106083\n",
      "Train Epoch: 4 [25600/50000 (51%)]\tLoss: 0.928677\n",
      "Train Epoch: 4 [32000/50000 (64%)]\tLoss: 1.009650\n",
      "Train Epoch: 4 [38400/50000 (77%)]\tLoss: 0.820556\n",
      "Train Epoch: 4 [44800/50000 (90%)]\tLoss: 0.790935\n",
      "Took 19.506669759750366 seconds\n",
      "\n",
      "Test set: Average loss: 0.7445, Accuracy: 39401/50000 (78.8 %)\n",
      "Accuracy per position: 72.0 % | 81.2 % | 85.6 % | 82.3 % | 72.8 %\n",
      "\n",
      "Now testing on noisy dataset...\n",
      "Test set: Average loss: 2.0016, Accuracy: 30245/50000 (60.5 %)\n",
      "Accuracy per position: 72.9 % | 81.1 % | 86.0 % | 35.5 % | 27.0 %\n",
      "\n",
      "Epoch 5/30\n",
      "Train Epoch: 5 [0/50000 (0%)]\tLoss: 0.949994\n",
      "Train Epoch: 5 [6400/50000 (13%)]\tLoss: 1.028183\n",
      "Train Epoch: 5 [12800/50000 (26%)]\tLoss: 0.801743\n",
      "Train Epoch: 5 [19200/50000 (38%)]\tLoss: 0.768528\n",
      "Train Epoch: 5 [25600/50000 (51%)]\tLoss: 0.745712\n",
      "Train Epoch: 5 [32000/50000 (64%)]\tLoss: 0.825889\n",
      "Train Epoch: 5 [38400/50000 (77%)]\tLoss: 0.789595\n",
      "Train Epoch: 5 [44800/50000 (90%)]\tLoss: 0.823013\n",
      "Took 17.118605852127075 seconds\n",
      "\n",
      "Test set: Average loss: 0.6240, Accuracy: 41293/50000 (82.6 %)\n",
      "Accuracy per position: 79.2 % | 84.2 % | 87.1 % | 85.5 % | 76.9 %\n",
      "\n",
      "Now testing on noisy dataset...\n",
      "Test set: Average loss: 2.7960, Accuracy: 30279/50000 (60.6 %)\n",
      "Accuracy per position: 79.4 % | 83.3 % | 87.5 % | 32.6 % | 20.1 %\n",
      "\n",
      "Epoch 6/30\n",
      "Train Epoch: 6 [0/50000 (0%)]\tLoss: 0.750404\n",
      "Train Epoch: 6 [6400/50000 (13%)]\tLoss: 0.684423\n",
      "Train Epoch: 6 [12800/50000 (26%)]\tLoss: 0.741158\n",
      "Train Epoch: 6 [19200/50000 (38%)]\tLoss: 0.767747\n",
      "Train Epoch: 6 [25600/50000 (51%)]\tLoss: 0.645882\n",
      "Train Epoch: 6 [32000/50000 (64%)]\tLoss: 0.823719\n",
      "Train Epoch: 6 [38400/50000 (77%)]\tLoss: 0.748075\n",
      "Train Epoch: 6 [44800/50000 (90%)]\tLoss: 0.771634\n",
      "Took 19.48758292198181 seconds\n",
      "\n",
      "Test set: Average loss: 0.5515, Accuracy: 42504/50000 (85.0 %)\n",
      "Accuracy per position: 81.5 % | 87.4 % | 89.6 % | 87.7 % | 78.7 %\n",
      "\n",
      "Now testing on noisy dataset...\n",
      "Test set: Average loss: 3.4684, Accuracy: 31406/50000 (62.8 %)\n",
      "Accuracy per position: 81.5 % | 87.5 % | 90.2 % | 31.2 % | 23.7 %\n",
      "\n",
      "Epoch 7/30\n",
      "Train Epoch: 7 [0/50000 (0%)]\tLoss: 0.630444\n",
      "Train Epoch: 7 [6400/50000 (13%)]\tLoss: 0.567841\n",
      "Train Epoch: 7 [12800/50000 (26%)]\tLoss: 0.669765\n",
      "Train Epoch: 7 [19200/50000 (38%)]\tLoss: 0.670000\n",
      "Train Epoch: 7 [25600/50000 (51%)]\tLoss: 0.739313\n",
      "Train Epoch: 7 [32000/50000 (64%)]\tLoss: 0.747790\n",
      "Train Epoch: 7 [38400/50000 (77%)]\tLoss: 0.676318\n",
      "Train Epoch: 7 [44800/50000 (90%)]\tLoss: 0.755277\n",
      "Took 18.77966022491455 seconds\n",
      "\n",
      "Test set: Average loss: 0.5140, Accuracy: 43225/50000 (86.5 %)\n",
      "Accuracy per position: 83.2 % | 87.8 % | 90.9 % | 87.4 % | 83.0 %\n",
      "\n",
      "Now testing on noisy dataset...\n",
      "Test set: Average loss: 3.9504, Accuracy: 32183/50000 (64.4 %)\n",
      "Accuracy per position: 83.2 % | 88.3 % | 90.4 % | 33.7 % | 26.2 %\n",
      "\n",
      "Epoch 8/30\n",
      "Train Epoch: 8 [0/50000 (0%)]\tLoss: 0.881350\n",
      "Train Epoch: 8 [6400/50000 (13%)]\tLoss: 0.876832\n",
      "Train Epoch: 8 [12800/50000 (26%)]\tLoss: 0.767893\n",
      "Train Epoch: 8 [19200/50000 (38%)]\tLoss: 0.600535\n",
      "Train Epoch: 8 [25600/50000 (51%)]\tLoss: 0.794525\n",
      "Train Epoch: 8 [32000/50000 (64%)]\tLoss: 0.646645\n",
      "Train Epoch: 8 [38400/50000 (77%)]\tLoss: 0.765323\n",
      "Train Epoch: 8 [44800/50000 (90%)]\tLoss: 0.605323\n",
      "Took 21.20320200920105 seconds\n",
      "\n",
      "Test set: Average loss: 0.4839, Accuracy: 43857/50000 (87.7 %)\n",
      "Accuracy per position: 84.4 % | 89.7 % | 91.9 % | 88.5 % | 84.1 %\n",
      "\n",
      "Now testing on noisy dataset...\n",
      "Test set: Average loss: 4.8697, Accuracy: 32427/50000 (64.9 %)\n",
      "Accuracy per position: 84.4 % | 89.8 % | 91.6 % | 33.6 % | 24.9 %\n",
      "\n",
      "Epoch 9/30\n",
      "Train Epoch: 9 [0/50000 (0%)]\tLoss: 0.665976\n",
      "Train Epoch: 9 [6400/50000 (13%)]\tLoss: 0.804872\n",
      "Train Epoch: 9 [12800/50000 (26%)]\tLoss: 0.688744\n",
      "Train Epoch: 9 [19200/50000 (38%)]\tLoss: 0.625530\n",
      "Train Epoch: 9 [25600/50000 (51%)]\tLoss: 0.635805\n",
      "Train Epoch: 9 [32000/50000 (64%)]\tLoss: 0.696824\n",
      "Train Epoch: 9 [38400/50000 (77%)]\tLoss: 0.753491\n",
      "Train Epoch: 9 [44800/50000 (90%)]\tLoss: 0.766886\n",
      "Took 23.692952871322632 seconds\n",
      "\n",
      "Test set: Average loss: 0.4613, Accuracy: 44195/50000 (88.4 %)\n",
      "Accuracy per position: 84.7 % | 90.5 % | 91.9 % | 89.4 % | 85.5 %\n",
      "\n",
      "Now testing on noisy dataset...\n",
      "Test set: Average loss: 5.8803, Accuracy: 32743/50000 (65.5 %)\n",
      "Accuracy per position: 84.6 % | 90.9 % | 92.1 % | 33.9 % | 25.9 %\n",
      "\n",
      "Epoch 10/30\n",
      "Train Epoch: 10 [0/50000 (0%)]\tLoss: 0.736942\n",
      "Train Epoch: 10 [6400/50000 (13%)]\tLoss: 0.541052\n",
      "Train Epoch: 10 [12800/50000 (26%)]\tLoss: 0.830284\n",
      "Train Epoch: 10 [19200/50000 (38%)]\tLoss: 0.705542\n",
      "Train Epoch: 10 [25600/50000 (51%)]\tLoss: 0.572732\n",
      "Train Epoch: 10 [32000/50000 (64%)]\tLoss: 0.679159\n",
      "Train Epoch: 10 [38400/50000 (77%)]\tLoss: 0.851797\n",
      "Train Epoch: 10 [44800/50000 (90%)]\tLoss: 0.661056\n",
      "Took 19.239871978759766 seconds\n",
      "\n",
      "Test set: Average loss: 0.4418, Accuracy: 44471/50000 (88.9 %)\n",
      "Accuracy per position: 85.8 % | 89.7 % | 91.8 % | 90.5 % | 87.0 %\n",
      "\n",
      "Now testing on noisy dataset...\n",
      "Test set: Average loss: 6.5489, Accuracy: 32905/50000 (65.8 %)\n",
      "Accuracy per position: 85.5 % | 89.7 % | 92.2 % | 35.1 % | 26.6 %\n",
      "\n",
      "Epoch 11/30\n",
      "Train Epoch: 11 [0/50000 (0%)]\tLoss: 0.893680\n",
      "Train Epoch: 11 [6400/50000 (13%)]\tLoss: 0.770078\n",
      "Train Epoch: 11 [12800/50000 (26%)]\tLoss: 0.715891\n",
      "Train Epoch: 11 [19200/50000 (38%)]\tLoss: 0.820532\n",
      "Train Epoch: 11 [25600/50000 (51%)]\tLoss: 0.943719\n",
      "Train Epoch: 11 [32000/50000 (64%)]\tLoss: 0.743825\n",
      "Train Epoch: 11 [38400/50000 (77%)]\tLoss: 0.690649\n",
      "Train Epoch: 11 [44800/50000 (90%)]\tLoss: 0.706569\n",
      "Took 16.752436876296997 seconds\n",
      "\n",
      "Test set: Average loss: 0.4331, Accuracy: 44619/50000 (89.2 %)\n",
      "Accuracy per position: 86.6 % | 90.4 % | 92.0 % | 89.6 % | 87.5 %\n",
      "\n",
      "Now testing on noisy dataset...\n",
      "Test set: Average loss: 6.9505, Accuracy: 33310/50000 (66.6 %)\n",
      "Accuracy per position: 85.6 % | 89.9 % | 92.5 % | 37.4 % | 27.7 %\n",
      "\n",
      "Epoch 12/30\n",
      "Train Epoch: 12 [0/50000 (0%)]\tLoss: 0.642017\n",
      "Train Epoch: 12 [6400/50000 (13%)]\tLoss: 0.828341\n",
      "Train Epoch: 12 [12800/50000 (26%)]\tLoss: 0.650749\n"
     ]
    },
    {
     "name": "stdout",
     "output_type": "stream",
     "text": [
      "Train Epoch: 12 [19200/50000 (38%)]\tLoss: 0.689905\n",
      "Train Epoch: 12 [25600/50000 (51%)]\tLoss: 0.707539\n",
      "Train Epoch: 12 [32000/50000 (64%)]\tLoss: 0.652598\n",
      "Train Epoch: 12 [38400/50000 (77%)]\tLoss: 0.717686\n",
      "Train Epoch: 12 [44800/50000 (90%)]\tLoss: 1.084810\n",
      "Took 21.200844049453735 seconds\n",
      "\n",
      "Test set: Average loss: 0.4230, Accuracy: 44826/50000 (89.7 %)\n",
      "Accuracy per position: 87.1 % | 89.4 % | 92.1 % | 91.2 % | 88.5 %\n",
      "\n",
      "Now testing on noisy dataset...\n",
      "Test set: Average loss: 7.0388, Accuracy: 33865/50000 (67.7 %)\n",
      "Accuracy per position: 86.1 % | 89.7 % | 92.2 % | 39.7 % | 31.0 %\n",
      "\n",
      "Epoch 13/30\n",
      "Train Epoch: 13 [0/50000 (0%)]\tLoss: 0.630265\n",
      "Train Epoch: 13 [6400/50000 (13%)]\tLoss: 0.643347\n",
      "Train Epoch: 13 [12800/50000 (26%)]\tLoss: 0.968658\n",
      "Train Epoch: 13 [19200/50000 (38%)]\tLoss: 0.937916\n",
      "Train Epoch: 13 [25600/50000 (51%)]\tLoss: 0.594801\n",
      "Train Epoch: 13 [32000/50000 (64%)]\tLoss: 0.563405\n",
      "Train Epoch: 13 [38400/50000 (77%)]\tLoss: 0.685325\n",
      "Train Epoch: 13 [44800/50000 (90%)]\tLoss: 0.757670\n",
      "Took 21.54843807220459 seconds\n",
      "\n",
      "Test set: Average loss: 0.4212, Accuracy: 44868/50000 (89.7 %)\n",
      "Accuracy per position: 86.8 % | 90.2 % | 91.9 % | 90.4 % | 89.4 %\n",
      "\n",
      "Now testing on noisy dataset...\n",
      "Test set: Average loss: 6.0994, Accuracy: 34384/50000 (68.8 %)\n",
      "Accuracy per position: 86.6 % | 90.4 % | 91.6 % | 41.8 % | 33.5 %\n",
      "\n",
      "Epoch 14/30\n",
      "Train Epoch: 14 [0/50000 (0%)]\tLoss: 0.768075\n",
      "Train Epoch: 14 [6400/50000 (13%)]\tLoss: 0.659331\n",
      "Train Epoch: 14 [12800/50000 (26%)]\tLoss: 0.597630\n",
      "Train Epoch: 14 [19200/50000 (38%)]\tLoss: 0.567031\n",
      "Train Epoch: 14 [25600/50000 (51%)]\tLoss: 0.829510\n",
      "Train Epoch: 14 [32000/50000 (64%)]\tLoss: 0.570251\n",
      "Train Epoch: 14 [38400/50000 (77%)]\tLoss: 0.832281\n",
      "Train Epoch: 14 [44800/50000 (90%)]\tLoss: 0.457549\n",
      "Took 20.080052852630615 seconds\n",
      "\n",
      "Test set: Average loss: 0.4299, Accuracy: 44864/50000 (89.7 %)\n",
      "Accuracy per position: 85.3 % | 90.0 % | 92.6 % | 91.7 % | 89.1 %\n",
      "\n",
      "Now testing on noisy dataset...\n",
      "Test set: Average loss: 6.5931, Accuracy: 34436/50000 (68.9 %)\n",
      "Accuracy per position: 85.3 % | 91.0 % | 92.1 % | 42.0 % | 33.9 %\n",
      "\n",
      "Epoch 15/30\n",
      "Train Epoch: 15 [0/50000 (0%)]\tLoss: 0.649034\n",
      "Train Epoch: 15 [6400/50000 (13%)]\tLoss: 0.898673\n",
      "Train Epoch: 15 [12800/50000 (26%)]\tLoss: 0.619686\n",
      "Train Epoch: 15 [19200/50000 (38%)]\tLoss: 0.734903\n",
      "Train Epoch: 15 [25600/50000 (51%)]\tLoss: 0.765213\n",
      "Train Epoch: 15 [32000/50000 (64%)]\tLoss: 0.476157\n",
      "Train Epoch: 15 [38400/50000 (77%)]\tLoss: 0.800495\n",
      "Train Epoch: 15 [44800/50000 (90%)]\tLoss: 0.860215\n",
      "Took 17.69494104385376 seconds\n",
      "\n",
      "Test set: Average loss: 0.4133, Accuracy: 44943/50000 (89.9 %)\n",
      "Accuracy per position: 86.0 % | 90.4 % | 91.7 % | 91.8 % | 89.5 %\n",
      "\n",
      "Now testing on noisy dataset...\n",
      "Test set: Average loss: 6.7817, Accuracy: 34625/50000 (69.2 %)\n",
      "Accuracy per position: 86.2 % | 90.4 % | 92.0 % | 43.8 % | 33.9 %\n",
      "\n",
      "Epoch 16/30\n",
      "Train Epoch: 16 [0/50000 (0%)]\tLoss: 0.642287\n",
      "Train Epoch: 16 [6400/50000 (13%)]\tLoss: 0.681552\n",
      "Train Epoch: 16 [12800/50000 (26%)]\tLoss: 0.551405\n",
      "Train Epoch: 16 [19200/50000 (38%)]\tLoss: 0.595929\n",
      "Train Epoch: 16 [25600/50000 (51%)]\tLoss: 0.778221\n",
      "Train Epoch: 16 [32000/50000 (64%)]\tLoss: 0.670267\n",
      "Train Epoch: 16 [38400/50000 (77%)]\tLoss: 0.727699\n",
      "Train Epoch: 16 [44800/50000 (90%)]\tLoss: 0.745023\n",
      "Took 17.64994716644287 seconds\n",
      "\n",
      "Test set: Average loss: 0.4104, Accuracy: 45001/50000 (90.0 %)\n",
      "Accuracy per position: 86.3 % | 90.0 % | 91.9 % | 91.6 % | 90.2 %\n",
      "\n",
      "Now testing on noisy dataset...\n",
      "Test set: Average loss: 6.6750, Accuracy: 34792/50000 (69.6 %)\n",
      "Accuracy per position: 86.1 % | 90.4 % | 92.0 % | 44.5 % | 35.0 %\n",
      "\n",
      "Epoch 17/30\n",
      "Train Epoch: 17 [0/50000 (0%)]\tLoss: 0.839485\n",
      "Train Epoch: 17 [6400/50000 (13%)]\tLoss: 0.392101\n",
      "Train Epoch: 17 [12800/50000 (26%)]\tLoss: 0.664744\n",
      "Train Epoch: 17 [19200/50000 (38%)]\tLoss: 0.634468\n",
      "Train Epoch: 17 [25600/50000 (51%)]\tLoss: 0.639889\n",
      "Train Epoch: 17 [32000/50000 (64%)]\tLoss: 0.706281\n",
      "Train Epoch: 17 [38400/50000 (77%)]\tLoss: 0.694748\n",
      "Train Epoch: 17 [44800/50000 (90%)]\tLoss: 0.677768\n",
      "Took 17.77278208732605 seconds\n",
      "\n",
      "Test set: Average loss: 0.4220, Accuracy: 44912/50000 (89.8 %)\n",
      "Accuracy per position: 85.9 % | 89.9 % | 92.2 % | 91.0 % | 90.2 %\n",
      "\n",
      "Now testing on noisy dataset...\n",
      "Test set: Average loss: 6.5610, Accuracy: 35011/50000 (70.0 %)\n",
      "Accuracy per position: 86.2 % | 88.9 % | 92.3 % | 44.1 % | 38.6 %\n",
      "\n",
      "Epoch 18/30\n",
      "Train Epoch: 18 [0/50000 (0%)]\tLoss: 0.675618\n",
      "Train Epoch: 18 [6400/50000 (13%)]\tLoss: 0.851985\n",
      "Train Epoch: 18 [12800/50000 (26%)]\tLoss: 0.681754\n",
      "Train Epoch: 18 [19200/50000 (38%)]\tLoss: 0.537237\n",
      "Train Epoch: 18 [25600/50000 (51%)]\tLoss: 0.512431\n",
      "Train Epoch: 18 [32000/50000 (64%)]\tLoss: 0.681584\n",
      "Train Epoch: 18 [38400/50000 (77%)]\tLoss: 0.568770\n",
      "Train Epoch: 18 [44800/50000 (90%)]\tLoss: 0.899136\n",
      "Took 18.47598123550415 seconds\n",
      "\n",
      "Test set: Average loss: 0.4296, Accuracy: 44728/50000 (89.5 %)\n",
      "Accuracy per position: 85.5 % | 89.0 % | 92.4 % | 91.0 % | 89.3 %\n",
      "\n",
      "Now testing on noisy dataset...\n",
      "Test set: Average loss: 6.3600, Accuracy: 34592/50000 (69.2 %)\n",
      "Accuracy per position: 85.2 % | 88.6 % | 92.1 % | 43.2 % | 36.8 %\n",
      "\n",
      "Epoch 19/30\n",
      "Train Epoch: 19 [0/50000 (0%)]\tLoss: 0.788010\n",
      "Train Epoch: 19 [6400/50000 (13%)]\tLoss: 0.959405\n",
      "Train Epoch: 19 [12800/50000 (26%)]\tLoss: 0.707431\n",
      "Train Epoch: 19 [19200/50000 (38%)]\tLoss: 0.805695\n",
      "Train Epoch: 19 [25600/50000 (51%)]\tLoss: 0.521863\n",
      "Train Epoch: 19 [32000/50000 (64%)]\tLoss: 0.590415\n",
      "Train Epoch: 19 [38400/50000 (77%)]\tLoss: 0.775855\n",
      "Train Epoch: 19 [44800/50000 (90%)]\tLoss: 0.688552\n",
      "Took 19.338462829589844 seconds\n",
      "\n",
      "Test set: Average loss: 0.4430, Accuracy: 44861/50000 (89.7 %)\n",
      "Accuracy per position: 85.7 % | 88.9 % | 92.7 % | 91.4 % | 89.9 %\n",
      "\n",
      "Now testing on noisy dataset...\n",
      "Test set: Average loss: 6.5312, Accuracy: 35287/50000 (70.6 %)\n",
      "Accuracy per position: 86.4 % | 88.3 % | 92.6 % | 45.9 % | 39.7 %\n",
      "\n",
      "Epoch 20/30\n",
      "Train Epoch: 20 [0/50000 (0%)]\tLoss: 0.424993\n",
      "Train Epoch: 20 [6400/50000 (13%)]\tLoss: 0.832992\n",
      "Train Epoch: 20 [12800/50000 (26%)]\tLoss: 0.797330\n",
      "Train Epoch: 20 [19200/50000 (38%)]\tLoss: 1.013453\n",
      "Train Epoch: 20 [25600/50000 (51%)]\tLoss: 0.740803\n",
      "Train Epoch: 20 [32000/50000 (64%)]\tLoss: 0.719492\n",
      "Train Epoch: 20 [38400/50000 (77%)]\tLoss: 0.968518\n",
      "Train Epoch: 20 [44800/50000 (90%)]\tLoss: 0.515977\n",
      "Took 17.473853826522827 seconds\n",
      "\n",
      "Test set: Average loss: 0.4386, Accuracy: 44731/50000 (89.5 %)\n",
      "Accuracy per position: 85.7 % | 87.6 % | 92.7 % | 91.6 % | 89.7 %\n",
      "\n",
      "Now testing on noisy dataset...\n",
      "Test set: Average loss: 6.2527, Accuracy: 35320/50000 (70.6 %)\n",
      "Accuracy per position: 86.3 % | 87.1 % | 92.4 % | 46.8 % | 40.5 %\n",
      "\n",
      "Epoch 21/30\n",
      "Train Epoch: 21 [0/50000 (0%)]\tLoss: 0.638535\n",
      "Train Epoch: 21 [6400/50000 (13%)]\tLoss: 0.860472\n",
      "Train Epoch: 21 [12800/50000 (26%)]\tLoss: 0.673753\n",
      "Train Epoch: 21 [19200/50000 (38%)]\tLoss: 0.679544\n",
      "Train Epoch: 21 [25600/50000 (51%)]\tLoss: 0.628933\n",
      "Train Epoch: 21 [32000/50000 (64%)]\tLoss: 0.552816\n",
      "Train Epoch: 21 [38400/50000 (77%)]\tLoss: 0.440234\n",
      "Train Epoch: 21 [44800/50000 (90%)]\tLoss: 0.500441\n",
      "Took 17.694010019302368 seconds\n",
      "\n",
      "Test set: Average loss: 0.4471, Accuracy: 44676/50000 (89.4 %)\n",
      "Accuracy per position: 85.3 % | 88.0 % | 92.1 % | 91.4 % | 90.0 %\n",
      "\n",
      "Now testing on noisy dataset...\n",
      "Test set: Average loss: 7.1796, Accuracy: 34800/50000 (69.6 %)\n",
      "Accuracy per position: 85.3 % | 87.9 % | 92.2 % | 46.3 % | 36.3 %\n",
      "\n",
      "Epoch 22/30\n",
      "Train Epoch: 22 [0/50000 (0%)]\tLoss: 0.771196\n",
      "Train Epoch: 22 [6400/50000 (13%)]\tLoss: 0.651256\n",
      "Train Epoch: 22 [12800/50000 (26%)]\tLoss: 0.830335\n",
      "Train Epoch: 22 [19200/50000 (38%)]\tLoss: 0.720198\n",
      "Train Epoch: 22 [25600/50000 (51%)]\tLoss: 0.657935\n",
      "Train Epoch: 22 [32000/50000 (64%)]\tLoss: 0.549779\n",
      "Train Epoch: 22 [38400/50000 (77%)]\tLoss: 1.027853\n",
      "Train Epoch: 22 [44800/50000 (90%)]\tLoss: 0.651088\n",
      "Took 21.04135489463806 seconds\n",
      "\n",
      "Test set: Average loss: 0.4450, Accuracy: 44705/50000 (89.4 %)\n",
      "Accuracy per position: 85.5 % | 88.6 % | 92.2 % | 91.2 % | 89.5 %\n",
      "\n",
      "Now testing on noisy dataset...\n",
      "Test set: Average loss: 7.0474, Accuracy: 35190/50000 (70.4 %)\n",
      "Accuracy per position: 85.5 % | 87.9 % | 91.9 % | 48.1 % | 38.5 %\n",
      "\n",
      "Epoch 23/30\n",
      "Train Epoch: 23 [0/50000 (0%)]\tLoss: 0.694309\n",
      "Train Epoch: 23 [6400/50000 (13%)]\tLoss: 0.569921\n",
      "Train Epoch: 23 [12800/50000 (26%)]\tLoss: 0.642748\n",
      "Train Epoch: 23 [19200/50000 (38%)]\tLoss: 0.695441\n",
      "Train Epoch: 23 [25600/50000 (51%)]\tLoss: 0.798499\n"
     ]
    },
    {
     "name": "stdout",
     "output_type": "stream",
     "text": [
      "Train Epoch: 23 [32000/50000 (64%)]\tLoss: 0.703970\n",
      "Train Epoch: 23 [38400/50000 (77%)]\tLoss: 0.810397\n",
      "Train Epoch: 23 [44800/50000 (90%)]\tLoss: 0.801662\n",
      "Took 19.029781818389893 seconds\n",
      "\n",
      "Test set: Average loss: 0.4676, Accuracy: 44297/50000 (88.6 %)\n",
      "Accuracy per position: 84.7 % | 87.8 % | 91.1 % | 90.5 % | 88.8 %\n",
      "\n",
      "Now testing on noisy dataset...\n",
      "Test set: Average loss: 8.0597, Accuracy: 35105/50000 (70.2 %)\n",
      "Accuracy per position: 84.4 % | 87.6 % | 91.7 % | 46.6 % | 40.7 %\n",
      "\n",
      "Epoch 24/30\n",
      "Train Epoch: 24 [0/50000 (0%)]\tLoss: 0.735692\n",
      "Train Epoch: 24 [6400/50000 (13%)]\tLoss: 0.972658\n",
      "Train Epoch: 24 [12800/50000 (26%)]\tLoss: 0.732121\n",
      "Train Epoch: 24 [19200/50000 (38%)]\tLoss: 0.672452\n",
      "Train Epoch: 24 [25600/50000 (51%)]\tLoss: 0.911522\n",
      "Train Epoch: 24 [32000/50000 (64%)]\tLoss: 0.940707\n",
      "Train Epoch: 24 [38400/50000 (77%)]\tLoss: 0.928053\n",
      "Train Epoch: 24 [44800/50000 (90%)]\tLoss: 0.851484\n",
      "Took 17.64881467819214 seconds\n",
      "\n",
      "Test set: Average loss: 0.5089, Accuracy: 43918/50000 (87.8 %)\n",
      "Accuracy per position: 84.5 % | 86.8 % | 90.7 % | 89.4 % | 87.8 %\n",
      "\n",
      "Now testing on noisy dataset...\n",
      "Test set: Average loss: 7.5010, Accuracy: 34561/50000 (69.1 %)\n",
      "Accuracy per position: 85.2 % | 87.8 % | 91.3 % | 48.6 % | 32.7 %\n",
      "\n",
      "Epoch 25/30\n",
      "Train Epoch: 25 [0/50000 (0%)]\tLoss: 0.717849\n",
      "Train Epoch: 25 [6400/50000 (13%)]\tLoss: 0.847121\n",
      "Train Epoch: 25 [12800/50000 (26%)]\tLoss: 0.927050\n",
      "Train Epoch: 25 [19200/50000 (38%)]\tLoss: 0.736266\n",
      "Train Epoch: 25 [25600/50000 (51%)]\tLoss: 0.921884\n",
      "Train Epoch: 25 [32000/50000 (64%)]\tLoss: 0.847057\n",
      "Train Epoch: 25 [38400/50000 (77%)]\tLoss: 0.647559\n",
      "Train Epoch: 25 [44800/50000 (90%)]\tLoss: 0.717959\n",
      "Took 18.24397110939026 seconds\n",
      "\n",
      "Test set: Average loss: 0.5178, Accuracy: 44049/50000 (88.1 %)\n",
      "Accuracy per position: 84.7 % | 86.3 % | 91.4 % | 89.5 % | 88.6 %\n",
      "\n",
      "Now testing on noisy dataset...\n",
      "Test set: Average loss: 7.0495, Accuracy: 34990/50000 (70.0 %)\n",
      "Accuracy per position: 85.1 % | 85.7 % | 91.6 % | 50.4 % | 37.2 %\n",
      "\n",
      "Epoch 26/30\n",
      "Train Epoch: 26 [0/50000 (0%)]\tLoss: 0.775797\n",
      "Train Epoch: 26 [6400/50000 (13%)]\tLoss: 0.830437\n",
      "Train Epoch: 26 [12800/50000 (26%)]\tLoss: 0.846082\n",
      "Train Epoch: 26 [19200/50000 (38%)]\tLoss: 0.858153\n"
     ]
    },
    {
     "ename": "KeyboardInterrupt",
     "evalue": "",
     "output_type": "error",
     "traceback": [
      "\u001b[0;31m---------------------------------------------------------------------------\u001b[0m",
      "\u001b[0;31mKeyboardInterrupt\u001b[0m                         Traceback (most recent call last)",
      "\u001b[0;32m<ipython-input-49-53f4a3e9aaaf>\u001b[0m in \u001b[0;36m<module>\u001b[0;34m()\u001b[0m\n\u001b[1;32m     10\u001b[0m     \u001b[0mprint\u001b[0m\u001b[0;34m(\u001b[0m\u001b[0;34m'Epoch {}/{}'\u001b[0m\u001b[0;34m.\u001b[0m\u001b[0mformat\u001b[0m\u001b[0;34m(\u001b[0m\u001b[0mepoch\u001b[0m\u001b[0;34m+\u001b[0m\u001b[0;36m1\u001b[0m\u001b[0;34m,\u001b[0m \u001b[0mparams\u001b[0m\u001b[0;34m[\u001b[0m\u001b[0;34m'num_epochs'\u001b[0m\u001b[0;34m]\u001b[0m\u001b[0;34m)\u001b[0m\u001b[0;34m)\u001b[0m\u001b[0;34m\u001b[0m\u001b[0m\n\u001b[1;32m     11\u001b[0m     \u001b[0mstart_time\u001b[0m \u001b[0;34m=\u001b[0m \u001b[0mtime\u001b[0m\u001b[0;34m.\u001b[0m\u001b[0mtime\u001b[0m\u001b[0;34m(\u001b[0m\u001b[0;34m)\u001b[0m\u001b[0;34m\u001b[0m\u001b[0m\n\u001b[0;32m---> 12\u001b[0;31m     \u001b[0mtrain_sequential\u001b[0m\u001b[0;34m(\u001b[0m\u001b[0mmodel\u001b[0m\u001b[0;34m,\u001b[0m \u001b[0mdevice\u001b[0m\u001b[0;34m,\u001b[0m \u001b[0mseq_train_loader\u001b[0m\u001b[0;34m,\u001b[0m \u001b[0moptimizer\u001b[0m\u001b[0;34m,\u001b[0m \u001b[0mepoch\u001b[0m\u001b[0;34m+\u001b[0m\u001b[0;36m1\u001b[0m\u001b[0;34m)\u001b[0m\u001b[0;34m\u001b[0m\u001b[0m\n\u001b[0m\u001b[1;32m     13\u001b[0m     \u001b[0mprint\u001b[0m\u001b[0;34m(\u001b[0m\u001b[0;34m'Took'\u001b[0m\u001b[0;34m,\u001b[0m \u001b[0mtime\u001b[0m\u001b[0;34m.\u001b[0m\u001b[0mtime\u001b[0m\u001b[0;34m(\u001b[0m\u001b[0;34m)\u001b[0m\u001b[0;34m-\u001b[0m\u001b[0mstart_time\u001b[0m\u001b[0;34m,\u001b[0m \u001b[0;34m'seconds'\u001b[0m\u001b[0;34m)\u001b[0m\u001b[0;34m\u001b[0m\u001b[0m\n\u001b[1;32m     14\u001b[0m \u001b[0;34m\u001b[0m\u001b[0m\n",
      "\u001b[0;32m<ipython-input-45-956be035b106>\u001b[0m in \u001b[0;36mtrain_sequential\u001b[0;34m(model, device, train_loader, optimizer, epoch, params)\u001b[0m\n\u001b[1;32m     12\u001b[0m \u001b[0;34m\u001b[0m\u001b[0m\n\u001b[1;32m     13\u001b[0m         \u001b[0mloss\u001b[0m \u001b[0;34m=\u001b[0m \u001b[0mF\u001b[0m\u001b[0;34m.\u001b[0m\u001b[0mnll_loss\u001b[0m\u001b[0;34m(\u001b[0m\u001b[0moutput\u001b[0m\u001b[0;34m.\u001b[0m\u001b[0mtranspose\u001b[0m\u001b[0;34m(\u001b[0m\u001b[0;36m1\u001b[0m\u001b[0;34m,\u001b[0m \u001b[0;36m2\u001b[0m\u001b[0;34m)\u001b[0m\u001b[0;34m,\u001b[0m \u001b[0mtarget\u001b[0m\u001b[0;34m)\u001b[0m  \u001b[0;31m# loss function requires transpose\u001b[0m\u001b[0;34m\u001b[0m\u001b[0m\n\u001b[0;32m---> 14\u001b[0;31m         \u001b[0mloss\u001b[0m\u001b[0;34m.\u001b[0m\u001b[0mbackward\u001b[0m\u001b[0;34m(\u001b[0m\u001b[0;34m)\u001b[0m\u001b[0;34m\u001b[0m\u001b[0m\n\u001b[0m\u001b[1;32m     15\u001b[0m         \u001b[0moptimizer\u001b[0m\u001b[0;34m.\u001b[0m\u001b[0mstep\u001b[0m\u001b[0;34m(\u001b[0m\u001b[0;34m)\u001b[0m\u001b[0;34m\u001b[0m\u001b[0m\n\u001b[1;32m     16\u001b[0m         \u001b[0;32mif\u001b[0m \u001b[0mbatch\u001b[0m \u001b[0;34m%\u001b[0m \u001b[0;36m100\u001b[0m \u001b[0;34m==\u001b[0m \u001b[0;36m0\u001b[0m\u001b[0;34m:\u001b[0m\u001b[0;34m\u001b[0m\u001b[0m\n",
      "\u001b[0;32m~/anaconda2/envs/py3/lib/python3.6/site-packages/torch/tensor.py\u001b[0m in \u001b[0;36mbackward\u001b[0;34m(self, gradient, retain_graph, create_graph)\u001b[0m\n\u001b[1;32m    100\u001b[0m                 \u001b[0mproducts\u001b[0m\u001b[0;34m.\u001b[0m \u001b[0mDefaults\u001b[0m \u001b[0mto\u001b[0m\u001b[0;31m \u001b[0m\u001b[0;31m`\u001b[0m\u001b[0;31m`\u001b[0m\u001b[0;32mFalse\u001b[0m\u001b[0;31m`\u001b[0m\u001b[0;31m`\u001b[0m\u001b[0;34m.\u001b[0m\u001b[0;34m\u001b[0m\u001b[0m\n\u001b[1;32m    101\u001b[0m         \"\"\"\n\u001b[0;32m--> 102\u001b[0;31m         \u001b[0mtorch\u001b[0m\u001b[0;34m.\u001b[0m\u001b[0mautograd\u001b[0m\u001b[0;34m.\u001b[0m\u001b[0mbackward\u001b[0m\u001b[0;34m(\u001b[0m\u001b[0mself\u001b[0m\u001b[0;34m,\u001b[0m \u001b[0mgradient\u001b[0m\u001b[0;34m,\u001b[0m \u001b[0mretain_graph\u001b[0m\u001b[0;34m,\u001b[0m \u001b[0mcreate_graph\u001b[0m\u001b[0;34m)\u001b[0m\u001b[0;34m\u001b[0m\u001b[0m\n\u001b[0m\u001b[1;32m    103\u001b[0m \u001b[0;34m\u001b[0m\u001b[0m\n\u001b[1;32m    104\u001b[0m     \u001b[0;32mdef\u001b[0m \u001b[0mregister_hook\u001b[0m\u001b[0;34m(\u001b[0m\u001b[0mself\u001b[0m\u001b[0;34m,\u001b[0m \u001b[0mhook\u001b[0m\u001b[0;34m)\u001b[0m\u001b[0;34m:\u001b[0m\u001b[0;34m\u001b[0m\u001b[0m\n",
      "\u001b[0;32m~/anaconda2/envs/py3/lib/python3.6/site-packages/torch/autograd/__init__.py\u001b[0m in \u001b[0;36mbackward\u001b[0;34m(tensors, grad_tensors, retain_graph, create_graph, grad_variables)\u001b[0m\n\u001b[1;32m     88\u001b[0m     Variable._execution_engine.run_backward(\n\u001b[1;32m     89\u001b[0m         \u001b[0mtensors\u001b[0m\u001b[0;34m,\u001b[0m \u001b[0mgrad_tensors\u001b[0m\u001b[0;34m,\u001b[0m \u001b[0mretain_graph\u001b[0m\u001b[0;34m,\u001b[0m \u001b[0mcreate_graph\u001b[0m\u001b[0;34m,\u001b[0m\u001b[0;34m\u001b[0m\u001b[0m\n\u001b[0;32m---> 90\u001b[0;31m         allow_unreachable=True)  # allow_unreachable flag\n\u001b[0m\u001b[1;32m     91\u001b[0m \u001b[0;34m\u001b[0m\u001b[0m\n\u001b[1;32m     92\u001b[0m \u001b[0;34m\u001b[0m\u001b[0m\n",
      "\u001b[0;31mKeyboardInterrupt\u001b[0m: "
     ]
    }
   ],
   "source": [
    "#model = SequentialFeedforwardNet().to(device)\n",
    "#model = SequentialLSTM().to(device)\n",
    "model = SequentialFeedbackNet(dropout=0.5, alpha=0.5).to(device)\n",
    "# TODO: Use rmsprop or another optimizer which is good for LSTMs.\n",
    "#optimizer = optim.SGD([p for p in model.parameters() if p.requires_grad], lr=0.0001, momentum=params['momentum'])\n",
    "#optimizer = optim.Adam(model.parameters(), lr=0.0001)\n",
    "optimizer = optim.SGD(model.parameters(), lr=0.00001, momentum=params['momentum'])\n",
    "\n",
    "for epoch in range(params['num_epochs']):\n",
    "    print('Epoch {}/{}'.format(epoch+1, params['num_epochs']))\n",
    "    start_time = time.time()\n",
    "    train_sequential(model, device, seq_train_loader, optimizer, epoch+1)\n",
    "    print('Took', time.time()-start_time, 'seconds')\n",
    "    \n",
    "    print()\n",
    "    test_sequential(model, device, seq_test_loader, per_position=True)\n",
    "    print()\n",
    "    print('Now testing on noisy dataset...')\n",
    "    test_sequential(model, device, noisy_seq_test_loader, per_position=True)\n",
    "    print()"
   ]
  },
  {
   "cell_type": "code",
   "execution_count": null,
   "metadata": {},
   "outputs": [],
   "source": []
  },
  {
   "cell_type": "code",
   "execution_count": null,
   "metadata": {},
   "outputs": [],
   "source": []
  },
  {
   "cell_type": "code",
   "execution_count": 236,
   "metadata": {},
   "outputs": [],
   "source": [
    "model = SequentialFeedbackNet(dropout=0, alpha=0.5).to(device)"
   ]
  },
  {
   "cell_type": "code",
   "execution_count": 237,
   "metadata": {},
   "outputs": [],
   "source": [
    "model.forward1.weight.data = ff_model.forward1.weight.data.clone()\n",
    "model.forward1.bias.data = ff_model.forward1.bias.data.clone()\n",
    "model.forward2.weight.data = ff_model.forward2.weight.data.clone()\n",
    "model.forward2.bias.data = ff_model.forward2.bias.data.clone()"
   ]
  },
  {
   "cell_type": "code",
   "execution_count": 242,
   "metadata": {},
   "outputs": [
    {
     "name": "stdout",
     "output_type": "stream",
     "text": [
      "\n",
      "Test set: Average loss: 0.5467, Accuracy: 46727/10000 (93%)\n",
      "\n"
     ]
    }
   ],
   "source": [
    "test_sequential(model, device, seq_test_loader, params)"
   ]
  },
  {
   "cell_type": "code",
   "execution_count": 126,
   "metadata": {},
   "outputs": [],
   "source": [
    "model.forward1.weight.requires_grad = False\n",
    "model.forward1.bias.requires_grad = False\n",
    "model.forward2.weight.requires_grad = False\n",
    "model.forward2.bias.requires_grad = False"
   ]
  },
  {
   "cell_type": "code",
   "execution_count": 233,
   "metadata": {},
   "outputs": [
    {
     "name": "stdout",
     "output_type": "stream",
     "text": [
      "\n",
      "Test set: Average loss: 0.5414, Accuracy: 46792/10000 (94%)\n",
      "\n"
     ]
    }
   ],
   "source": []
  },
  {
   "cell_type": "code",
   "execution_count": 86,
   "metadata": {},
   "outputs": [],
   "source": [
    "#ff_model = model"
   ]
  },
  {
   "cell_type": "code",
   "execution_count": 239,
   "metadata": {},
   "outputs": [
    {
     "name": "stdout",
     "output_type": "stream",
     "text": [
      "\n",
      "Test set: Average loss: 0.1806, Accuracy: 9459/10000 (95%)\n",
      "\n"
     ]
    }
   ],
   "source": [
    "test(ff_model, device, test_loader, params)"
   ]
  },
  {
   "cell_type": "code",
   "execution_count": null,
   "metadata": {},
   "outputs": [],
   "source": []
  }
 ],
 "metadata": {
  "accelerator": "GPU",
  "colab": {
   "name": "feedback-connections.ipynb",
   "provenance": [],
   "version": "0.3.2"
  },
  "kernelspec": {
   "display_name": "Python 3",
   "language": "python",
   "name": "python3"
  },
  "language_info": {
   "codemirror_mode": {
    "name": "ipython",
    "version": 3
   },
   "file_extension": ".py",
   "mimetype": "text/x-python",
   "name": "python",
   "nbconvert_exporter": "python",
   "pygments_lexer": "ipython3",
   "version": "3.6.4"
  },
  "toc": {
   "base_numbering": 1,
   "nav_menu": {},
   "number_sections": true,
   "sideBar": true,
   "skip_h1_title": false,
   "title_cell": "Table of Contents",
   "title_sidebar": "Contents",
   "toc_cell": false,
   "toc_position": {},
   "toc_section_display": true,
   "toc_window_display": false
  }
 },
 "nbformat": 4,
 "nbformat_minor": 1
}
