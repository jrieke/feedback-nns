{
 "cells": [
  {
   "cell_type": "code",
   "execution_count": 1,
   "metadata": {
    "colab": {
     "base_uri": "https://localhost:8080/",
     "height": 326
    },
    "colab_type": "code",
    "id": "dNbPZoPRMtZG",
    "outputId": "55a99027-ed5d-4c07-e18a-8c9a7cb6a3d0"
   },
   "outputs": [
    {
     "name": "stdout",
     "output_type": "stream",
     "text": [
      "Requirement already satisfied: torch in /Users/jrieke/anaconda2/envs/py3/lib/python3.6/site-packages\n",
      "Requirement already satisfied: torchvision in /Users/jrieke/anaconda2/envs/py3/lib/python3.6/site-packages/torchvision-0.2.1-py3.6.egg\n",
      "Requirement already satisfied: numpy in /Users/jrieke/anaconda2/envs/py3/lib/python3.6/site-packages (from torchvision)\n",
      "Requirement already satisfied: pillow>=4.1.1 in /Users/jrieke/anaconda2/envs/py3/lib/python3.6/site-packages (from torchvision)\n",
      "Requirement already satisfied: six in /Users/jrieke/anaconda2/envs/py3/lib/python3.6/site-packages (from torchvision)\n",
      "\u001b[33mYou are using pip version 9.0.1, however version 18.1 is available.\n",
      "You should consider upgrading via the 'pip install --upgrade pip' command.\u001b[0m\n"
     ]
    }
   ],
   "source": [
    "!pip install torch torchvision"
   ]
  },
  {
   "cell_type": "code",
   "execution_count": 4,
   "metadata": {
    "ExecuteTime": {
     "end_time": "2019-01-14T18:16:40.921776Z",
     "start_time": "2019-01-14T18:16:40.893429Z"
    }
   },
   "outputs": [
    {
     "name": "stdout",
     "output_type": "stream",
     "text": [
      "The autoreload extension is already loaded. To reload it, use:\n",
      "  %reload_ext autoreload\n"
     ]
    }
   ],
   "source": [
    "%load_ext autoreload\n",
    "%autoreload 2"
   ]
  },
  {
   "cell_type": "code",
   "execution_count": 5,
   "metadata": {
    "ExecuteTime": {
     "end_time": "2019-01-14T18:16:41.368844Z",
     "start_time": "2019-01-14T18:16:41.317850Z"
    },
    "colab": {},
    "colab_type": "code",
    "id": "TZ-uzulsNlAZ"
   },
   "outputs": [],
   "source": [
    "import numpy as np\n",
    "import matplotlib.pyplot as plt\n",
    "import time\n",
    "\n",
    "import torch\n",
    "from torch import nn, optim\n",
    "import torch.nn.functional as F\n",
    "import torchvision\n",
    "\n",
    "import datasets, utils\n",
    "\n",
    "%matplotlib inline\n",
    "%config InlineBackend.figure_format = 'retina'"
   ]
  },
  {
   "cell_type": "code",
   "execution_count": 6,
   "metadata": {
    "ExecuteTime": {
     "end_time": "2019-01-14T18:16:41.912337Z",
     "start_time": "2019-01-14T18:16:41.876909Z"
    },
    "colab": {},
    "colab_type": "code",
    "id": "ilv5sT0SMvlc"
   },
   "outputs": [],
   "source": [
    "use_cuda = False\n",
    "device = torch.device('cuda' if use_cuda else 'cpu')"
   ]
  },
  {
   "cell_type": "markdown",
   "metadata": {},
   "source": [
    "# Experiment 1: Image Classification"
   ]
  },
  {
   "cell_type": "code",
   "execution_count": 7,
   "metadata": {
    "ExecuteTime": {
     "end_time": "2019-01-14T18:16:44.249990Z",
     "start_time": "2019-01-14T18:16:44.217341Z"
    },
    "colab": {},
    "colab_type": "code",
    "id": "egQMPeiIW3yw"
   },
   "outputs": [],
   "source": [
    "# Default parameters from the PyTorch MNIST example (https://github.com/pytorch/examples/blob/master/mnist/main.py\n",
    "params = dict(batch_size=64, batch_size_eval=1000, num_epochs=30, learning_rate=0.01, momentum=0.5)"
   ]
  },
  {
   "cell_type": "markdown",
   "metadata": {},
   "source": [
    "## Load EMNIST data and make a noisy variant"
   ]
  },
  {
   "cell_type": "code",
   "execution_count": 8,
   "metadata": {
    "ExecuteTime": {
     "end_time": "2019-01-14T18:16:46.265192Z",
     "start_time": "2019-01-14T18:16:46.124778Z"
    },
    "colab": {
     "base_uri": "https://localhost:8080/",
     "height": 119
    },
    "colab_type": "code",
    "id": "s-oXQ8R-NeLO",
    "outputId": "4c98b3b1-4b2e-4bd1-a4ed-8c43310c383c"
   },
   "outputs": [],
   "source": [
    "train_dataset, val_dataset, test_dataset = datasets.load_emnist()\n",
    "noisy_test_dataset = datasets.load_noisy_emnist(scaling_factor=2)"
   ]
  },
  {
   "cell_type": "code",
   "execution_count": 9,
   "metadata": {
    "ExecuteTime": {
     "end_time": "2019-01-14T18:16:46.637082Z",
     "start_time": "2019-01-14T18:16:46.602479Z"
    }
   },
   "outputs": [],
   "source": [
    "kwargs = {'num_workers': 3, 'pin_memory': True} if use_cuda else {}\n",
    "train_loader = torch.utils.data.DataLoader(train_dataset, batch_size=params['batch_size'], shuffle=True, **kwargs)\n",
    "val_loader = torch.utils.data.DataLoader(val_dataset, batch_size=params['batch_size_eval'], shuffle=True, **kwargs)\n",
    "test_loader = torch.utils.data.DataLoader(test_dataset, batch_size=params['batch_size_eval'], \n",
    "                                          shuffle=False, **kwargs)\n",
    "noisy_test_loader = torch.utils.data.DataLoader(noisy_test_dataset, batch_size=params['batch_size_eval'], \n",
    "                                                shuffle=False, **kwargs)"
   ]
  },
  {
   "cell_type": "markdown",
   "metadata": {},
   "source": [
    "## Networks"
   ]
  },
  {
   "cell_type": "code",
   "execution_count": 50,
   "metadata": {
    "ExecuteTime": {
     "end_time": "2019-01-15T00:38:09.070434Z",
     "start_time": "2019-01-15T00:38:09.041564Z"
    },
    "colab": {},
    "colab_type": "code",
    "id": "76ldQAc_ZC-R"
   },
   "outputs": [],
   "source": [
    "class FeedforwardNet(nn.Module):\n",
    "    def __init__(self, num_hidden=500, dropout=0.5):\n",
    "        super(FeedforwardNet, self).__init__()\n",
    "        self.forward1 = nn.Linear(784, num_hidden)\n",
    "        self.forward2 = nn.Linear(num_hidden, num_hidden)\n",
    "        self.forward3 = nn.Linear(num_hidden, 26)\n",
    "        self.dropout = nn.Dropout(dropout)\n",
    "\n",
    "    def forward(self, x):\n",
    "        x = x.view(-1, 784)\n",
    "        x = F.relu(self.forward1(x))\n",
    "        x = F.relu(self.forward2(x))\n",
    "        x = self.dropout(x)\n",
    "        x = F.log_softmax(self.forward2(x), dim=1)\n",
    "        return x"
   ]
  },
  {
   "cell_type": "code",
   "execution_count": 60,
   "metadata": {
    "ExecuteTime": {
     "end_time": "2019-01-15T01:13:19.025238Z",
     "start_time": "2019-01-15T01:13:18.994949Z"
    },
    "colab": {},
    "colab_type": "code",
    "id": "zU42_5arflnv"
   },
   "outputs": [],
   "source": [
    "class FeedbackNet(nn.Module):\n",
    "    def __init__(self, num_hidden=500, dropout=0.5, alpha=0.5, num_passes=2):\n",
    "        super(FeedbackNet, self).__init__()\n",
    "        self.forward1 = nn.Linear(784, num_hidden)\n",
    "        self.forward2 = nn.Linear(num_hidden, 26)\n",
    "        \n",
    "        self.feedback1 = nn.Linear(num_hidden, 784)\n",
    "        \n",
    "        self.dropout = nn.Dropout(dropout)\n",
    "        self.alpha = alpha\n",
    "        self.num_passes = num_passes\n",
    "\n",
    "    def forward(self, inp):\n",
    "        inp = inp.view(-1, 784)\n",
    "        \n",
    "        # 1st forward pass (without feedback).\n",
    "        x = F.relu(self.forward1(inp))\n",
    "        \n",
    "        for i in range(self.num_passes-1):\n",
    "            # Feedback pass. \n",
    "            feedback_activation_1 = self.feedback1(x)\n",
    "            #feedback_activation_1 = F.relu(feedback_activation_1)\n",
    "            \n",
    "            # 2nd/3rd/... forward pass (with feedback).\n",
    "            x = F.relu(self.forward1((1 - self.alpha) * inp + self.alpha * feedback_activation_1))\n",
    "        \n",
    "        # Output layer.\n",
    "        x = self.dropout(x)\n",
    "        x = F.log_softmax(self.forward2(x), dim=1)\n",
    "        \n",
    "        return x\n",
    "        "
   ]
  },
  {
   "cell_type": "code",
   "execution_count": 30,
   "metadata": {
    "ExecuteTime": {
     "end_time": "2019-01-14T20:38:44.402989Z",
     "start_time": "2019-01-14T20:38:44.366143Z"
    },
    "colab": {},
    "colab_type": "code",
    "id": "dUF21w7MTB8g"
   },
   "outputs": [],
   "source": [
    "class ConvNet(nn.Module):\n",
    "    \"\"\"ConvNet from the official PyTorch tutorial, achieves around 98 % accuracy on test set (https://github.com/pytorch/examples/blob/master/mnist/main.py).\"\"\"\n",
    "    def __init__(self):\n",
    "        super(ConvNet, self).__init__()\n",
    "        self.conv1 = nn.Conv2d(1, 10, kernel_size=5)\n",
    "        self.conv2 = nn.Conv2d(10, 20, kernel_size=5)\n",
    "        self.conv2_drop = nn.Dropout2d()\n",
    "        self.fc1 = nn.Linear(320, 50)\n",
    "        self.fc2 = nn.Linear(50, 10)\n",
    "\n",
    "    def forward(self, x):\n",
    "        x = F.relu(F.max_pool2d(self.conv1(x), 2))\n",
    "        x = F.relu(F.max_pool2d(self.conv2_drop(self.conv2(x)), 2))\n",
    "        x = x.view(-1, 320)\n",
    "        x = F.relu(self.fc1(x))\n",
    "        x = F.dropout(x, training=self.training)\n",
    "        x = self.fc2(x)\n",
    "        return F.log_softmax(x, dim=1)"
   ]
  },
  {
   "cell_type": "markdown",
   "metadata": {},
   "source": [
    "## Training"
   ]
  },
  {
   "cell_type": "code",
   "execution_count": 52,
   "metadata": {
    "ExecuteTime": {
     "end_time": "2019-01-15T00:38:17.847111Z",
     "start_time": "2019-01-15T00:38:17.817583Z"
    },
    "colab": {},
    "colab_type": "code",
    "id": "dwwmjtpAaEEN"
   },
   "outputs": [],
   "source": [
    "def train(model, device, train_loader, optimizer, epoch, params=None):\n",
    "    model.train()\n",
    "    for batch, (data, target) in enumerate(train_loader):\n",
    "        data, target = data.to(device), target.to(device)\n",
    "        optimizer.zero_grad()\n",
    "        output = model(data)\n",
    "        loss = F.nll_loss(output, target)\n",
    "        pred = output.max(1, keepdim=True)[1].view_as(target)  # get the index of the max log-probability\n",
    "        correct = (pred == target).sum().item()\n",
    "        loss.backward()\n",
    "        optimizer.step()\n",
    "        if batch % 200 == 0:\n",
    "            print('Train Epoch: {} [{}/{} ({:.0f}%)]\\tLoss: {:.6f}\\tAccuracy: {:.1f}%'.format(\n",
    "                epoch, batch * len(data), len(train_loader.dataset),\n",
    "                100. * batch / len(train_loader), loss.item(), 100. * correct / len(data)))"
   ]
  },
  {
   "cell_type": "code",
   "execution_count": 53,
   "metadata": {
    "ExecuteTime": {
     "end_time": "2019-01-15T00:38:18.167772Z",
     "start_time": "2019-01-15T00:38:18.133979Z"
    },
    "colab": {},
    "colab_type": "code",
    "id": "GR8Tp0QwaFpj"
   },
   "outputs": [],
   "source": [
    "def test(model, device, test_loader, params=None):\n",
    "    model.eval()\n",
    "    test_loss = 0\n",
    "    correct = 0\n",
    "    with torch.no_grad():\n",
    "        for data, target in test_loader:\n",
    "            data, target = data.to(device), target.to(device)\n",
    "            output = model(data)\n",
    "            # TODO: Change to loss_function = ..., loss_function(output, target)\n",
    "            test_loss += F.nll_loss(output, target, reduction='sum').item() # sum up batch loss\n",
    "            pred = output.max(1, keepdim=True)[1]  # get the index of the max log-probability\n",
    "            correct += pred.eq(target.view_as(pred)).sum().item()\n",
    "\n",
    "    test_loss /= len(test_loader.dataset)\n",
    "    print('\\nTest set: Average loss: {:.4f}, Accuracy: {}/{} ({:.1f}%)\\n'.format(\n",
    "        test_loss, correct, len(test_loader.dataset),\n",
    "        100. * correct / len(test_loader.dataset)))"
   ]
  },
  {
   "cell_type": "code",
   "execution_count": 54,
   "metadata": {
    "ExecuteTime": {
     "end_time": "2019-01-15T00:38:20.118000Z",
     "start_time": "2019-01-15T00:38:20.088947Z"
    }
   },
   "outputs": [],
   "source": [
    "def count_parameters(model):\n",
    "    return sum(p.numel() for p in filter(lambda p: p.requires_grad, model.parameters()) if p.requires_grad)"
   ]
  },
  {
   "cell_type": "code",
   "execution_count": null,
   "metadata": {
    "ExecuteTime": {
     "start_time": "2019-01-15T01:13:23.459Z"
    },
    "colab": {
     "base_uri": "https://localhost:8080/",
     "height": 878
    },
    "colab_type": "code",
    "id": "ClDIIE_wRaa0",
    "outputId": "f62ac75f-be70-4b6d-de99-b0f7d9a86d9a",
    "scrolled": true
   },
   "outputs": [
    {
     "name": "stdout",
     "output_type": "stream",
     "text": [
      "Model has 798310 trainable parameters\n",
      "Epoch 1/30\n",
      "Train Epoch: 1 [0/114800 (0%)]\tLoss: 3.315489\tAccuracy: 0.0%\n",
      "Train Epoch: 1 [12800/114800 (11%)]\tLoss: 2.027306\tAccuracy: 51.6%\n"
     ]
    }
   ],
   "source": [
    "import time\n",
    "\n",
    "#model = FeedforwardNet(num_hidden=500).to(device)\n",
    "model = FeedbackNet(num_passes=2).to(device)\n",
    "print('Model has', count_parameters(model), 'trainable parameters')\n",
    "\n",
    "# TODO: Maybe use Adam or Adadelta instead. \n",
    "optimizer = optim.SGD(model.parameters(), lr=params['learning_rate'], momentum=params['momentum'])\n",
    "\n",
    "for epoch in range(params['num_epochs']):\n",
    "    print('Epoch {}/{}'.format(epoch+1, params['num_epochs']))\n",
    "    start_time = time.time()\n",
    "    train(model, device, train_loader, optimizer, epoch+1)\n",
    "    print('Took', time.time()-start_time, 'seconds')\n",
    "    test(model, device, test_loader)\n",
    "    print('Now testing on noisy dataset...')\n",
    "    test(model, device, noisy_test_loader)"
   ]
  },
  {
   "cell_type": "code",
   "execution_count": 66,
   "metadata": {
    "ExecuteTime": {
     "end_time": "2019-01-13T00:53:59.475661Z",
     "start_time": "2019-01-13T00:53:59.429699Z"
    }
   },
   "outputs": [
    {
     "name": "stderr",
     "output_type": "stream",
     "text": [
      "/Users/jrieke/anaconda2/envs/py3/lib/python3.6/site-packages/torch/serialization.py:250: UserWarning: Couldn't retrieve source code for container of type FeedforwardNet. It won't be checked for correctness upon loading.\n",
      "  \"type \" + obj.__name__ + \". It won't be checked \"\n"
     ]
    }
   ],
   "source": [
    "#torch.save(model, 'data/models/1_ff-model.pt')"
   ]
  },
  {
   "cell_type": "markdown",
   "metadata": {},
   "source": [
    "# Experiment 2: Sequential Image Classification"
   ]
  },
  {
   "cell_type": "code",
   "execution_count": 67,
   "metadata": {
    "ExecuteTime": {
     "end_time": "2019-01-13T00:56:06.074005Z",
     "start_time": "2019-01-13T00:56:06.044468Z"
    }
   },
   "outputs": [],
   "source": [
    "params = dict(batch_size=64, batch_size_eval=1000, num_epochs=30, learning_rate=0.01, momentum=0.5)"
   ]
  },
  {
   "cell_type": "markdown",
   "metadata": {},
   "source": [
    "## Make sequential dataset from EMNIST"
   ]
  },
  {
   "cell_type": "code",
   "execution_count": 68,
   "metadata": {
    "ExecuteTime": {
     "end_time": "2019-01-13T00:56:06.681684Z",
     "start_time": "2019-01-13T00:56:06.650936Z"
    }
   },
   "outputs": [],
   "source": [
    "def to_letter(index):\n",
    "    return 'abcdefghijklmnopqrstuvwxyz'[index]\n",
    "\n",
    "def to_index(letter):\n",
    "    return ord(letter) - 97"
   ]
  },
  {
   "cell_type": "code",
   "execution_count": 69,
   "metadata": {
    "ExecuteTime": {
     "end_time": "2019-01-13T00:56:07.063981Z",
     "start_time": "2019-01-13T00:56:07.033453Z"
    }
   },
   "outputs": [],
   "source": [
    "num_allowed_seqs = 50\n",
    "seq_len = 5\n",
    "num_classes = 26  # mnist: 10, emnist: 26\n",
    "\n",
    "#allowed_seqs = np.random.randint(0, num_classes, (num_allowed_seqs, seq_len))"
   ]
  },
  {
   "cell_type": "code",
   "execution_count": 70,
   "metadata": {
    "ExecuteTime": {
     "end_time": "2019-01-13T00:56:07.451961Z",
     "start_time": "2019-01-13T00:56:07.413734Z"
    }
   },
   "outputs": [],
   "source": [
    "allowed_seqs_letters = np.loadtxt('data/5-letter-words.txt', dtype=str)\n",
    "np.random.seed(0)  # seed here so we choose the same words in each run\n",
    "allowed_seqs_letters = np.random.choice(allowed_seqs_letters, num_allowed_seqs)\n",
    "allowed_seqs = np.array([list(map(to_index, word)) for word in allowed_seqs_letters])"
   ]
  },
  {
   "cell_type": "code",
   "execution_count": 71,
   "metadata": {
    "ExecuteTime": {
     "end_time": "2019-01-13T00:56:08.289871Z",
     "start_time": "2019-01-13T00:56:08.257748Z"
    }
   },
   "outputs": [
    {
     "data": {
      "text/plain": [
       "(array([[ 5, 14, 17, 20, 12],\n",
       "        [ 1,  4,  6,  8, 13],\n",
       "        [ 3,  0, 19,  4,  3],\n",
       "        [ 6, 17,  4,  0, 19],\n",
       "        [17,  0,  8, 18,  4],\n",
       "        [12,  0, 17,  8,  0],\n",
       "        [ 6, 17, 14, 20, 15],\n",
       "        [18,  7, 14, 17, 19],\n",
       "        [ 0,  6,  0,  8, 13],\n",
       "        [ 8,  3,  4,  0, 11]]),\n",
       " array(['forum', 'begin', 'dated', 'great', 'raise', 'maria', 'group',\n",
       "        'short', 'again', 'ideal'], dtype='<U5'))"
      ]
     },
     "execution_count": 71,
     "metadata": {},
     "output_type": "execute_result"
    }
   ],
   "source": [
    "allowed_seqs[:10], allowed_seqs_letters[:10]"
   ]
  },
  {
   "cell_type": "code",
   "execution_count": 72,
   "metadata": {
    "ExecuteTime": {
     "end_time": "2019-01-13T00:56:08.921128Z",
     "start_time": "2019-01-13T00:56:08.889800Z"
    }
   },
   "outputs": [
    {
     "data": {
      "text/plain": [
       "(array([ 0,  1,  2,  3,  4,  5,  6,  7,  8, 10, 11, 12, 13, 14, 15, 17, 18,\n",
       "        19, 20, 21, 22, 24, 25]),\n",
       " array([20,  4,  8,  8, 32,  6,  7,  9, 18,  2,  8,  6, 11, 22,  6, 34, 14,\n",
       "        19,  6,  2,  5,  2,  1]))"
      ]
     },
     "execution_count": 72,
     "metadata": {},
     "output_type": "execute_result"
    }
   ],
   "source": [
    "np.unique(allowed_seqs, return_counts=True)\n",
    "# TODO: Some letters appear very rarely in these words, gotta keep this in mind when training only on sequences. "
   ]
  },
  {
   "cell_type": "code",
   "execution_count": 73,
   "metadata": {
    "ExecuteTime": {
     "end_time": "2019-01-13T00:56:09.723829Z",
     "start_time": "2019-01-13T00:56:09.692285Z"
    }
   },
   "outputs": [
    {
     "data": {
      "text/plain": [
       "array([[ 1,  9, 25,  0, 10],\n",
       "       [20, 23,  3, 11, 18],\n",
       "       [23,  2,  0,  0,  4],\n",
       "       [21,  5,  6,  8, 20],\n",
       "       [17, 15,  4,  9, 10],\n",
       "       [24,  1,  1,  7,  9],\n",
       "       [25,  3,  6, 23, 11],\n",
       "       [14, 18,  0, 14,  3],\n",
       "       [21, 12, 25, 10, 20],\n",
       "       [11,  4,  6,  4, 15]])"
      ]
     },
     "execution_count": 73,
     "metadata": {},
     "output_type": "execute_result"
    }
   ],
   "source": [
    "random_seqs = np.random.randint(0, num_classes, (num_allowed_seqs, seq_len))\n",
    "random_seqs[:10]"
   ]
  },
  {
   "cell_type": "code",
   "execution_count": 74,
   "metadata": {
    "ExecuteTime": {
     "end_time": "2019-01-13T00:56:53.047907Z",
     "start_time": "2019-01-13T00:56:10.881946Z"
    },
    "colab": {},
    "colab_type": "code",
    "id": "8woSGMdwlP4k",
    "scrolled": true
   },
   "outputs": [],
   "source": [
    "train_dataset, val_dataset, test_dataset = datasets.load_emnist()\n",
    "noisy_test_dataset = datasets.load_noisy_emnist(scaling_factor=4)\n",
    "\n",
    "seq_train_dataset = datasets.ImageSequenceDataset(allowed_seqs, train_dataset, num_classes, num_samples=50000)\n",
    "seq_test_dataset = datasets.ImageSequenceDataset(allowed_seqs, test_dataset, num_classes, num_samples=10000)\n",
    "noisy_seq_test_dataset = datasets.ImageSequenceDataset(allowed_seqs, test_dataset, num_classes, num_samples=10000, \n",
    "                                                       noisy_image_dataset=noisy_test_dataset)\n",
    "random_seq_test_dataset = datasets.ImageSequenceDataset(random_seqs, test_dataset, num_classes, num_samples=10000)\n",
    "noisy_random_seq_test_dataset = datasets.ImageSequenceDataset(random_seqs, test_dataset, num_classes, \n",
    "                                                              num_samples=10000, \n",
    "                                                              noisy_image_dataset=noisy_test_dataset)\n",
    "\n",
    "kwargs = {'num_workers': 3, 'pin_memory': True} if use_cuda else {}\n",
    "seq_train_loader = torch.utils.data.DataLoader(seq_train_dataset, batch_size=params['batch_size'], \n",
    "                                               shuffle=True, **kwargs)\n",
    "seq_test_loader = torch.utils.data.DataLoader(seq_test_dataset, batch_size=params['batch_size_eval'], \n",
    "                                              shuffle=False, **kwargs)\n",
    "noisy_seq_test_loader = torch.utils.data.DataLoader(noisy_seq_test_dataset, batch_size=params['batch_size_eval'], \n",
    "                                                    shuffle=False, **kwargs)\n",
    "random_seq_test_loader = torch.utils.data.DataLoader(random_seq_test_dataset, batch_size=params['batch_size_eval'], \n",
    "                                                     shuffle=False, **kwargs)\n",
    "noisy_random_seq_test_loader = torch.utils.data.DataLoader(noisy_random_seq_test_dataset, \n",
    "                                                           batch_size=params['batch_size_eval'], \n",
    "                                                           shuffle=False, **kwargs)"
   ]
  },
  {
   "cell_type": "code",
   "execution_count": 75,
   "metadata": {
    "ExecuteTime": {
     "end_time": "2019-01-13T00:56:53.594178Z",
     "start_time": "2019-01-13T00:56:53.049991Z"
    },
    "colab": {
     "base_uri": "https://localhost:8080/",
     "height": 140
    },
    "colab_type": "code",
    "id": "A_2w2yEJmCLH",
    "outputId": "31c8cab6-ef7a-46fc-b861-8af892c51763"
   },
   "outputs": [
    {
     "data": {
      "image/png": "[encoded data removed]",
      "text/plain": [
       "<Figure size 432x288 with 5 Axes>"
      ]
     },
     "metadata": {
      "image/png": {
       "height": 104,
       "width": 370
      }
     },
     "output_type": "display_data"
    },
    {
     "data": {
      "image/png": "[encoded data removed]",
      "text/plain": [
       "<Figure size 432x288 with 5 Axes>"
      ]
     },
     "metadata": {
      "image/png": {
       "height": 104,
       "width": 370
      }
     },
     "output_type": "display_data"
    },
    {
     "data": {
      "image/png": "[encoded data removed]",
      "text/plain": [
       "<Figure size 432x288 with 5 Axes>"
      ]
     },
     "metadata": {
      "image/png": {
       "height": 104,
       "width": 370
      }
     },
     "output_type": "display_data"
    }
   ],
   "source": [
    "for i in range(3):\n",
    "    plt.figure()\n",
    "    datasets.plot_sequence(*seq_test_dataset[i], target_transform=to_letter)"
   ]
  },
  {
   "cell_type": "code",
   "execution_count": 76,
   "metadata": {
    "ExecuteTime": {
     "end_time": "2019-01-13T00:56:54.135633Z",
     "start_time": "2019-01-13T00:56:53.596289Z"
    }
   },
   "outputs": [
    {
     "data": {
      "image/png": "[encoded data removed]",
      "text/plain": [
       "<Figure size 432x288 with 5 Axes>"
      ]
     },
     "metadata": {
      "image/png": {
       "height": 104,
       "width": 370
      }
     },
     "output_type": "display_data"
    },
    {
     "data": {
      "image/png": "[encoded data removed]",
      "text/plain": [
       "<Figure size 432x288 with 5 Axes>"
      ]
     },
     "metadata": {
      "image/png": {
       "height": 104,
       "width": 370
      }
     },
     "output_type": "display_data"
    },
    {
     "data": {
      "image/png": "[encoded data removed]",
      "text/plain": [
       "<Figure size 432x288 with 5 Axes>"
      ]
     },
     "metadata": {
      "image/png": {
       "height": 104,
       "width": 370
      }
     },
     "output_type": "display_data"
    }
   ],
   "source": [
    "for i in range(3):\n",
    "    plt.figure()\n",
    "    datasets.plot_sequence(*noisy_seq_test_dataset[i], target_transform=to_letter)"
   ]
  },
  {
   "cell_type": "code",
   "execution_count": 77,
   "metadata": {
    "ExecuteTime": {
     "end_time": "2019-01-13T00:56:54.668322Z",
     "start_time": "2019-01-13T00:56:54.138483Z"
    }
   },
   "outputs": [
    {
     "data": {
      "image/png": "[encoded data removed]",
      "text/plain": [
       "<Figure size 432x288 with 5 Axes>"
      ]
     },
     "metadata": {
      "image/png": {
       "height": 104,
       "width": 370
      }
     },
     "output_type": "display_data"
    },
    {
     "data": {
      "image/png": "[encoded data removed]",
      "text/plain": [
       "<Figure size 432x288 with 5 Axes>"
      ]
     },
     "metadata": {
      "image/png": {
       "height": 104,
       "width": 370
      }
     },
     "output_type": "display_data"
    },
    {
     "data": {
      "image/png": "[encoded data removed]",
      "text/plain": [
       "<Figure size 432x288 with 5 Axes>"
      ]
     },
     "metadata": {
      "image/png": {
       "height": 104,
       "width": 370
      }
     },
     "output_type": "display_data"
    }
   ],
   "source": [
    "for i in range(3):\n",
    "    plt.figure()\n",
    "    datasets.plot_sequence(*random_seq_test_dataset[i], target_transform=to_letter)"
   ]
  },
  {
   "cell_type": "code",
   "execution_count": 78,
   "metadata": {
    "ExecuteTime": {
     "end_time": "2019-01-13T00:56:55.243645Z",
     "start_time": "2019-01-13T00:56:54.671399Z"
    }
   },
   "outputs": [
    {
     "data": {
      "image/png": "[encoded data removed]",
      "text/plain": [
       "<Figure size 432x288 with 5 Axes>"
      ]
     },
     "metadata": {
      "image/png": {
       "height": 104,
       "width": 370
      }
     },
     "output_type": "display_data"
    },
    {
     "data": {
      "image/png": "[encoded data removed]",
      "text/plain": [
       "<Figure size 432x288 with 5 Axes>"
      ]
     },
     "metadata": {
      "image/png": {
       "height": 104,
       "width": 370
      }
     },
     "output_type": "display_data"
    },
    {
     "data": {
      "image/png": "[encoded data removed]",
      "text/plain": [
       "<Figure size 432x288 with 5 Axes>"
      ]
     },
     "metadata": {
      "image/png": {
       "height": 104,
       "width": 370
      }
     },
     "output_type": "display_data"
    }
   ],
   "source": [
    "for i in range(3):\n",
    "    plt.figure()\n",
    "    datasets.plot_sequence(*noisy_random_seq_test_dataset[i], target_transform=to_letter)"
   ]
  },
  {
   "cell_type": "markdown",
   "metadata": {},
   "source": [
    "## Networks"
   ]
  },
  {
   "cell_type": "code",
   "execution_count": 83,
   "metadata": {
    "ExecuteTime": {
     "end_time": "2019-01-13T00:57:03.651151Z",
     "start_time": "2019-01-13T00:57:03.618474Z"
    }
   },
   "outputs": [],
   "source": [
    "class SequentialLSTM(nn.Module):\n",
    "    def __init__(self, num_hidden=500):\n",
    "        super(SequentialLSTM, self).__init__()\n",
    "        # TODO: Maybe change everything to batch_second.\n",
    "        self.lstm1 = nn.LSTM(784, num_hidden, batch_first=True)\n",
    "        self.lstm2 = nn.LSTM(num_hidden, 10, batch_first=True)\n",
    "        \n",
    "    def forward(self, inp):\n",
    "        inp = inp.view(inp.shape[0], inp.shape[1], 784)\n",
    "        #print(inp.shape)\n",
    "        x, (hidden, cell) = self.lstm1(inp)\n",
    "        # TODO: Need to add a non-linearity here?\n",
    "        x, (hidden, cell) = self.lstm2(x)\n",
    "        #print(x.shape, hidden.shape, cell.shape)\n",
    "        #print(x.shape)\n",
    "        x = F.log_softmax(x, dim=2)\n",
    "        #print(x.sum(dim=(2)))\n",
    "        return x"
   ]
  },
  {
   "cell_type": "code",
   "execution_count": 84,
   "metadata": {
    "ExecuteTime": {
     "end_time": "2019-01-13T00:57:04.068520Z",
     "start_time": "2019-01-13T00:57:04.033663Z"
    }
   },
   "outputs": [],
   "source": [
    "class SequentialFeedforwardNet(nn.Module):\n",
    "    def __init__(self, num_hidden=500, dropout=0.5):\n",
    "        super(SequentialFeedforwardNet, self).__init__()\n",
    "        self.forward1 = nn.Linear(784, num_hidden)\n",
    "        self.forward2 = nn.Linear(num_hidden, 26)\n",
    "        self.dropout = nn.Dropout(dropout)\n",
    "\n",
    "    def forward(self, inp):\n",
    "        outp = torch.zeros(inp.shape[0], inp.shape[1], 26)\n",
    "        \n",
    "        for i, x in enumerate(inp.transpose(0, 1)):\n",
    "            x = x.view(-1, 784)\n",
    "            x = F.relu(self.forward1(x))\n",
    "            x = self.dropout(x)\n",
    "            x = F.log_softmax(self.forward2(x), dim=1)\n",
    "            outp[:, i] = x\n",
    "            \n",
    "        return outp"
   ]
  },
  {
   "cell_type": "code",
   "execution_count": 102,
   "metadata": {
    "ExecuteTime": {
     "end_time": "2019-01-13T01:01:33.491114Z",
     "start_time": "2019-01-13T01:01:33.458380Z"
    }
   },
   "outputs": [],
   "source": [
    "class SequentialFeedbackNet(nn.Module):\n",
    "    def __init__(self, num_hidden=500, dropout=0.5, alpha=0.5):\n",
    "        super(SequentialFeedbackNet, self).__init__()\n",
    "        self.forward1 = nn.Linear(784, num_hidden)\n",
    "        #self.forward2 = nn.Linear(num_hidden, num_hidden)\n",
    "        self.forward2 = nn.Linear(num_hidden, 26)\n",
    "        self.dropout = nn.Dropout(dropout)\n",
    "        \n",
    "        self.feedback1 = nn.Linear(num_hidden, 784)\n",
    "        #self.feedback2 = nn.Linear(num_hidden, num_hidden)\n",
    "        self.alpha = alpha\n",
    "        \n",
    "        self.dropout = nn.Dropout(dropout)\n",
    "        \n",
    "    def forward(self, inp, plot_feedback=False):\n",
    "        outp = torch.zeros(inp.shape[0], inp.shape[1], 26)\n",
    "        \n",
    "        feedback_activation_1 = torch.zeros(inp.shape[0], self.forward1.weight.shape[1])\n",
    "        #feedback_activation_2 = torch.zeros(inp.shape[0], self.forward2.weight.shape[1])\n",
    "        \n",
    "        for i, x in enumerate(inp.transpose(0, 1)):\n",
    "            x = x.view(-1, 784)\n",
    "            \n",
    "            # 1st layer.\n",
    "            if plot_feedback:\n",
    "                plt.figure()\n",
    "                plt.imshow(feedback_activation_1[0].detach().numpy().reshape(28, 28), cmap='Greys')\n",
    "            x = F.relu(self.forward1((1 - self.alpha) * x + self.alpha * feedback_activation_1))\n",
    "            feedback_activation_1 = self.feedback1(x)  # for next forward pass\n",
    "            \n",
    "            # 2nd layer.\n",
    "            #x = F.relu(self.forward2((1 - self.alpha) * x + self.alpha * feedback_activation_2))\n",
    "            #feedback_activation_2 = self.feedback2(x)\n",
    "            \n",
    "            # 3rd (readout) layer.\n",
    "            x = self.dropout(x)\n",
    "            x = F.log_softmax(self.forward2(x), dim=1)\n",
    "            \n",
    "            outp[:, i] = x\n",
    "            \n",
    "        return outp"
   ]
  },
  {
   "cell_type": "code",
   "execution_count": 54,
   "metadata": {},
   "outputs": [
    {
     "ename": "NameError",
     "evalue": "name 'ff_model' is not defined",
     "output_type": "error",
     "traceback": [
      "\u001b[0;31m---------------------------------------------------------------------------\u001b[0m",
      "\u001b[0;31mNameError\u001b[0m                                 Traceback (most recent call last)",
      "\u001b[0;32m<ipython-input-54-7af4b45350b6>\u001b[0m in \u001b[0;36m<module>\u001b[0;34m()\u001b[0m\n\u001b[1;32m      1\u001b[0m \u001b[0mimgs\u001b[0m \u001b[0;34m=\u001b[0m \u001b[0mseq_train_dataset\u001b[0m\u001b[0;34m[\u001b[0m\u001b[0;36m0\u001b[0m\u001b[0;34m]\u001b[0m\u001b[0;34m[\u001b[0m\u001b[0;36m0\u001b[0m\u001b[0;34m]\u001b[0m\u001b[0;34m\u001b[0m\u001b[0m\n\u001b[1;32m      2\u001b[0m \u001b[0mmodel\u001b[0m \u001b[0;34m=\u001b[0m \u001b[0mSequentialFeedbackNet\u001b[0m\u001b[0;34m(\u001b[0m\u001b[0;34m)\u001b[0m\u001b[0;34m\u001b[0m\u001b[0m\n\u001b[0;32m----> 3\u001b[0;31m \u001b[0mmodel\u001b[0m\u001b[0;34m.\u001b[0m\u001b[0mforward1\u001b[0m\u001b[0;34m.\u001b[0m\u001b[0mweight\u001b[0m\u001b[0;34m.\u001b[0m\u001b[0mdata\u001b[0m \u001b[0;34m=\u001b[0m \u001b[0mff_model\u001b[0m\u001b[0;34m.\u001b[0m\u001b[0mforward1\u001b[0m\u001b[0;34m.\u001b[0m\u001b[0mweight\u001b[0m\u001b[0;34m.\u001b[0m\u001b[0mdata\u001b[0m\u001b[0;34m.\u001b[0m\u001b[0mclone\u001b[0m\u001b[0;34m(\u001b[0m\u001b[0;34m)\u001b[0m\u001b[0;34m\u001b[0m\u001b[0m\n\u001b[0m\u001b[1;32m      4\u001b[0m \u001b[0mmodel\u001b[0m\u001b[0;34m.\u001b[0m\u001b[0mforward1\u001b[0m\u001b[0;34m.\u001b[0m\u001b[0mbias\u001b[0m\u001b[0;34m.\u001b[0m\u001b[0mdata\u001b[0m \u001b[0;34m=\u001b[0m \u001b[0mff_model\u001b[0m\u001b[0;34m.\u001b[0m\u001b[0mforward1\u001b[0m\u001b[0;34m.\u001b[0m\u001b[0mbias\u001b[0m\u001b[0;34m.\u001b[0m\u001b[0mdata\u001b[0m\u001b[0;34m.\u001b[0m\u001b[0mclone\u001b[0m\u001b[0;34m(\u001b[0m\u001b[0;34m)\u001b[0m\u001b[0;34m\u001b[0m\u001b[0m\n\u001b[1;32m      5\u001b[0m \u001b[0mmodel\u001b[0m\u001b[0;34m.\u001b[0m\u001b[0mforward2\u001b[0m\u001b[0;34m.\u001b[0m\u001b[0mweight\u001b[0m\u001b[0;34m.\u001b[0m\u001b[0mdata\u001b[0m \u001b[0;34m=\u001b[0m \u001b[0mff_model\u001b[0m\u001b[0;34m.\u001b[0m\u001b[0mforward2\u001b[0m\u001b[0;34m.\u001b[0m\u001b[0mweight\u001b[0m\u001b[0;34m.\u001b[0m\u001b[0mdata\u001b[0m\u001b[0;34m.\u001b[0m\u001b[0mclone\u001b[0m\u001b[0;34m(\u001b[0m\u001b[0;34m)\u001b[0m\u001b[0;34m\u001b[0m\u001b[0m\n",
      "\u001b[0;31mNameError\u001b[0m: name 'ff_model' is not defined"
     ]
    }
   ],
   "source": [
    "imgs = seq_train_dataset[0][0]\n",
    "model = SequentialFeedbackNet()\n",
    "model.forward1.weight.data = ff_model.forward1.weight.data.clone()\n",
    "model.forward1.bias.data = ff_model.forward1.bias.data.clone()\n",
    "model.forward2.weight.data = ff_model.forward2.weight.data.clone()\n",
    "model.forward2.bias.data = ff_model.forward2.bias.data.clone()\n",
    "model(imgs[None], no_feedback=False)"
   ]
  },
  {
   "cell_type": "markdown",
   "metadata": {},
   "source": [
    "## Training"
   ]
  },
  {
   "cell_type": "code",
   "execution_count": 63,
   "metadata": {},
   "outputs": [],
   "source": [
    "# Good template for hyperparameter optimization:\n",
    "#def run(train_dataset, val_dataset, device, params, history)\n",
    "#def "
   ]
  },
  {
   "cell_type": "code",
   "execution_count": 121,
   "metadata": {
    "ExecuteTime": {
     "end_time": "2019-01-13T01:05:08.168876Z",
     "start_time": "2019-01-13T01:05:08.137260Z"
    }
   },
   "outputs": [],
   "source": [
    "# TODO: Debug properly.\n",
    "def train_sequential(model, device, train_loader, optimizer, epoch, params=None):\n",
    "    model.train()\n",
    "    for batch, (data, target) in enumerate(seq_train_loader):\n",
    "        data, target = data.to(device), target.to(device)\n",
    "\n",
    "        output = model(data)\n",
    "        #print(output.shape, target.shape)\n",
    "        \n",
    "        # TODO: According to https://pytorch.org/tutorials/beginner/nlp/sequence_models_tutorial.html\n",
    "        #       need to do model.zero_grad() and model.hidden = model.init_hidden() here. \n",
    "\n",
    "        loss = F.nll_loss(output.transpose(1, 2), target)  # loss function requires transpose\n",
    "        pred = output.view(-1, output.shape[-1]).max(1, keepdim=True)[1].view_as(target)  # get the index of the max log-probability\n",
    "        correct = (pred == target).sum().item()\n",
    "        loss.backward()\n",
    "        optimizer.step()\n",
    "        if batch % 100 == 0:\n",
    "            print('Train Epoch: {} [{}/{} ({:.0f}%)]\\tLoss: {:.6f}\\tAccuracy: {:.1f} %'.format(\n",
    "                epoch, batch * len(data), len(train_loader.dataset),\n",
    "                100. * batch / len(train_loader), loss.item(), 100. * correct / (len(data) * seq_len)))"
   ]
  },
  {
   "cell_type": "code",
   "execution_count": 122,
   "metadata": {
    "ExecuteTime": {
     "end_time": "2019-01-13T01:05:08.557505Z",
     "start_time": "2019-01-13T01:05:08.522429Z"
    }
   },
   "outputs": [],
   "source": [
    "# TODO: Debug properly.\n",
    "def test_sequential(model, device, test_loader, per_position=False, params=None):\n",
    "    model.eval()\n",
    "    test_loss = 0\n",
    "    correct = 0\n",
    "    if per_position:\n",
    "        correct_per_position = torch.zeros(seq_len)\n",
    "    with torch.no_grad():\n",
    "        for data, target in test_loader:\n",
    "            data, target = data.to(device), target.to(device)\n",
    "            output = model(data)\n",
    "            test_loss += F.nll_loss(output.transpose(1, 2), target, reduction='sum').item() # sum up batch loss, loss function requires transpose\n",
    "            \n",
    "            pred = output.view(-1, output.shape[-1]).max(1, keepdim=True)[1].view_as(target) # get the index of the max log-probability\n",
    "            correct += (pred == target).sum().item()\n",
    "            if per_position:\n",
    "                correct_per_position += (pred == target).float().sum(0)\n",
    "\n",
    "    # TODO: Make this independent of seq_len (used twice!).\n",
    "    test_loss /= len(test_loader.dataset) * seq_len\n",
    "    print('Test set: Average loss: {:.4f}, Accuracy: {}/{} ({:.1f} %)'.format(\n",
    "        test_loss, correct, len(test_loader.dataset) * seq_len,\n",
    "        100. * correct / (len(test_loader.dataset) * seq_len)))\n",
    "    if per_position:\n",
    "        print('Accuracy per position:', ' | '.join(['{:.1f} %'.format(100. * corr.item() / len(test_loader.dataset)) for corr in correct_per_position]))"
   ]
  },
  {
   "cell_type": "code",
   "execution_count": 17,
   "metadata": {},
   "outputs": [
    {
     "ename": "NameError",
     "evalue": "name 'model' is not defined",
     "output_type": "error",
     "traceback": [
      "\u001b[0;31m---------------------------------------------------------------------------\u001b[0m",
      "\u001b[0;31mNameError\u001b[0m                                 Traceback (most recent call last)",
      "\u001b[0;32m<ipython-input-17-c975f60cfd64>\u001b[0m in \u001b[0;36m<module>\u001b[0;34m()\u001b[0m\n\u001b[0;32m----> 1\u001b[0;31m \u001b[0mlen\u001b[0m\u001b[0;34m(\u001b[0m\u001b[0;34m[\u001b[0m\u001b[0mp\u001b[0m \u001b[0;32mfor\u001b[0m \u001b[0mp\u001b[0m \u001b[0;32min\u001b[0m \u001b[0mmodel\u001b[0m\u001b[0;34m.\u001b[0m\u001b[0mparameters\u001b[0m\u001b[0;34m(\u001b[0m\u001b[0;34m)\u001b[0m \u001b[0;32mif\u001b[0m \u001b[0mp\u001b[0m\u001b[0;34m.\u001b[0m\u001b[0mrequires_grad\u001b[0m\u001b[0;34m]\u001b[0m\u001b[0;34m)\u001b[0m\u001b[0;34m\u001b[0m\u001b[0m\n\u001b[0m",
      "\u001b[0;31mNameError\u001b[0m: name 'model' is not defined"
     ]
    }
   ],
   "source": [
    "len([p for p in model.parameters() if p.requires_grad])"
   ]
  },
  {
   "cell_type": "code",
   "execution_count": 140,
   "metadata": {
    "ExecuteTime": {
     "end_time": "2019-01-13T01:08:58.464049Z",
     "start_time": "2019-01-13T01:08:58.431714Z"
    }
   },
   "outputs": [],
   "source": [
    "#model = SequentialFeedforwardNet().to(device)\n",
    "model = SequentialFeedbackNet(dropout=0.5, alpha=0.5).to(device)"
   ]
  },
  {
   "cell_type": "code",
   "execution_count": 141,
   "metadata": {
    "ExecuteTime": {
     "end_time": "2019-01-13T01:08:58.882995Z",
     "start_time": "2019-01-13T01:08:58.847662Z"
    }
   },
   "outputs": [],
   "source": [
    "# Transfer feedforward parameters from model that was trained on EMNIST images (w/o sequences). \n",
    "trained_ff_model = torch.load('data/models/1_ff-model.pt')\n",
    "model.forward1.weight.data = trained_ff_model.forward1.weight.data.clone()\n",
    "model.forward1.bias.data = trained_ff_model.forward1.bias.data.clone()\n",
    "model.forward2.weight.data = trained_ff_model.forward2.weight.data.clone()\n",
    "model.forward2.bias.data = trained_ff_model.forward2.bias.data.clone()"
   ]
  },
  {
   "cell_type": "code",
   "execution_count": 142,
   "metadata": {
    "ExecuteTime": {
     "end_time": "2019-01-13T01:09:03.305998Z",
     "start_time": "2019-01-13T01:08:59.251753Z"
    }
   },
   "outputs": [
    {
     "name": "stdout",
     "output_type": "stream",
     "text": [
      "Test set: Average loss: 0.4690, Accuracy: 45318/50000 (90.6 %)\n",
      "Accuracy per position: 90.5 % | 91.4 % | 90.1 % | 89.1 % | 92.0 %\n",
      "\n",
      "Testing on noisy dataset:\n",
      "Test set: Average loss: 2.1940, Accuracy: 28957/50000 (57.9 %)\n",
      "Accuracy per position: 90.8 % | 91.0 % | 89.9 % | 9.1 % | 8.8 %\n",
      "\n",
      "Testing on random words (without noise):\n",
      "Test set: Average loss: 0.4605, Accuracy: 45242/50000 (90.5 %)\n",
      "Accuracy per position: 89.9 % | 92.0 % | 89.6 % | 89.2 % | 91.7 %\n",
      "\n",
      "Testing on random words (with noise):\n",
      "Test set: Average loss: 2.1866, Accuracy: 29227/50000 (58.5 %)\n",
      "Accuracy per position: 89.9 % | 92.0 % | 89.8 % | 12.7 % | 7.8 %\n"
     ]
    }
   ],
   "source": [
    "test_sequential(model, device, seq_test_loader, per_position=True)\n",
    "print()\n",
    "print('Testing on noisy dataset:')\n",
    "test_sequential(model, device, noisy_seq_test_loader, per_position=True)\n",
    "print()\n",
    "print('Testing on random words (without noise):')\n",
    "test_sequential(model, device, random_seq_test_loader, per_position=True)\n",
    "print()\n",
    "print('Testing on random words (with noise):')\n",
    "test_sequential(model, device, noisy_random_seq_test_loader, per_position=True)"
   ]
  },
  {
   "cell_type": "code",
   "execution_count": 144,
   "metadata": {
    "ExecuteTime": {
     "end_time": "2019-01-13T01:24:58.332287Z",
     "start_time": "2019-01-13T01:24:58.302183Z"
    }
   },
   "outputs": [],
   "source": [
    "model.forward1.weight.requires_grad = False\n",
    "model.forward1.bias.requires_grad = False\n",
    "model.forward2.weight.requires_grad = False\n",
    "model.forward2.bias.requires_grad = False"
   ]
  },
  {
   "cell_type": "code",
   "execution_count": 145,
   "metadata": {
    "ExecuteTime": {
     "end_time": "2019-01-13T01:27:28.547864Z",
     "start_time": "2019-01-13T01:25:26.868407Z"
    },
    "scrolled": true
   },
   "outputs": [
    {
     "name": "stdout",
     "output_type": "stream",
     "text": [
      "Epoch 1/30\n",
      "Train Epoch: 1 [0/50000 (0%)]\tLoss: 0.245548\tAccuracy: 91.2 %\n",
      "Train Epoch: 1 [6400/50000 (13%)]\tLoss: 0.182662\tAccuracy: 94.4 %\n",
      "Train Epoch: 1 [12800/50000 (26%)]\tLoss: 0.182728\tAccuracy: 95.0 %\n",
      "Train Epoch: 1 [19200/50000 (38%)]\tLoss: 0.216135\tAccuracy: 95.0 %\n",
      "Train Epoch: 1 [25600/50000 (51%)]\tLoss: 0.173133\tAccuracy: 95.3 %\n",
      "Train Epoch: 1 [32000/50000 (64%)]\tLoss: 0.178488\tAccuracy: 95.0 %\n",
      "Train Epoch: 1 [38400/50000 (77%)]\tLoss: 0.158907\tAccuracy: 95.9 %\n",
      "Train Epoch: 1 [44800/50000 (90%)]\tLoss: 0.269641\tAccuracy: 92.5 %\n",
      "Took 14.531431913375854 seconds\n",
      "\n",
      "Test set: Average loss: 0.1682, Accuracy: 47777/50000 (95.6 %)\n",
      "Accuracy per position: 91.8 % | 96.7 % | 96.8 % | 96.4 % | 96.0 %\n",
      "\n",
      "Testing on noisy dataset:\n",
      "Test set: Average loss: 3.6424, Accuracy: 35754/50000 (71.5 %)\n",
      "Accuracy per position: 92.4 % | 97.0 % | 96.8 % | 41.1 % | 30.2 %\n",
      "\n",
      "Testing on random words (without noise):\n",
      "Test set: Average loss: 4.5120, Accuracy: 29375/50000 (58.8 %)\n",
      "Accuracy per position: 68.0 % | 58.4 % | 55.7 % | 52.7 % | 59.0 %\n",
      "\n",
      "Testing on random words (with noise):\n",
      "Test set: Average loss: 13.3244, Accuracy: 19466/50000 (38.9 %)\n",
      "Accuracy per position: 68.4 % | 59.0 % | 55.6 % | 8.7 % | 3.0 %\n",
      "\n",
      "\n",
      "Epoch 2/30\n",
      "Train Epoch: 2 [0/50000 (0%)]\tLoss: 0.187385\tAccuracy: 92.5 %\n",
      "Train Epoch: 2 [6400/50000 (13%)]\tLoss: 0.153105\tAccuracy: 94.1 %\n",
      "Train Epoch: 2 [12800/50000 (26%)]\tLoss: 0.258875\tAccuracy: 92.5 %\n",
      "Train Epoch: 2 [19200/50000 (38%)]\tLoss: 0.223554\tAccuracy: 93.1 %\n",
      "Train Epoch: 2 [25600/50000 (51%)]\tLoss: 0.161228\tAccuracy: 95.3 %\n",
      "Train Epoch: 2 [32000/50000 (64%)]\tLoss: 0.182405\tAccuracy: 94.4 %\n",
      "Train Epoch: 2 [38400/50000 (77%)]\tLoss: 0.150459\tAccuracy: 94.7 %\n",
      "Train Epoch: 2 [44800/50000 (90%)]\tLoss: 0.117793\tAccuracy: 96.6 %\n",
      "Took 13.104809045791626 seconds\n",
      "\n",
      "Test set: Average loss: 0.1595, Accuracy: 47889/50000 (95.8 %)\n",
      "Accuracy per position: 92.1 % | 96.5 % | 97.2 % | 96.7 % | 96.4 %\n",
      "\n",
      "Testing on noisy dataset:\n",
      "Test set: Average loss: 3.6415, Accuracy: 35801/50000 (71.6 %)\n",
      "Accuracy per position: 92.1 % | 96.9 % | 97.2 % | 39.9 % | 32.0 %\n",
      "\n",
      "Testing on random words (without noise):\n",
      "Test set: Average loss: 4.5411, Accuracy: 29266/50000 (58.5 %)\n",
      "Accuracy per position: 68.3 % | 58.0 % | 54.4 % | 53.4 % | 58.6 %\n",
      "\n",
      "Testing on random words (with noise):\n",
      "Test set: Average loss: 13.4218, Accuracy: 19155/50000 (38.3 %)\n",
      "Accuracy per position: 68.0 % | 58.3 % | 53.9 % | 8.4 % | 2.8 %\n",
      "\n",
      "\n",
      "Epoch 3/30\n",
      "Train Epoch: 3 [0/50000 (0%)]\tLoss: 0.205349\tAccuracy: 93.4 %\n",
      "Train Epoch: 3 [6400/50000 (13%)]\tLoss: 0.170837\tAccuracy: 93.8 %\n",
      "Train Epoch: 3 [12800/50000 (26%)]\tLoss: 0.181421\tAccuracy: 94.7 %\n",
      "Train Epoch: 3 [19200/50000 (38%)]\tLoss: 0.141969\tAccuracy: 93.8 %\n",
      "Train Epoch: 3 [25600/50000 (51%)]\tLoss: 0.175854\tAccuracy: 93.1 %\n",
      "Train Epoch: 3 [32000/50000 (64%)]\tLoss: 0.225555\tAccuracy: 93.1 %\n",
      "Train Epoch: 3 [38400/50000 (77%)]\tLoss: 0.235055\tAccuracy: 93.1 %\n",
      "Train Epoch: 3 [44800/50000 (90%)]\tLoss: 0.192224\tAccuracy: 95.9 %\n",
      "Took 12.717306852340698 seconds\n",
      "\n",
      "Test set: Average loss: 0.1620, Accuracy: 47847/50000 (95.7 %)\n",
      "Accuracy per position: 91.6 % | 96.5 % | 97.0 % | 96.9 % | 96.5 %\n",
      "\n",
      "Testing on noisy dataset:\n",
      "Test set: Average loss: 3.6092, Accuracy: 35811/50000 (71.6 %)\n",
      "Accuracy per position: 92.1 % | 96.6 % | 97.4 % | 40.0 % | 32.0 %\n",
      "\n",
      "Testing on random words (without noise):\n",
      "Test set: Average loss: 4.4612, Accuracy: 29293/50000 (58.6 %)\n",
      "Accuracy per position: 69.3 % | 57.4 % | 54.8 % | 53.4 % | 58.0 %\n",
      "\n",
      "Testing on random words (with noise):\n",
      "Test set: Average loss: 12.7808, Accuracy: 19161/50000 (38.3 %)\n",
      "Accuracy per position: 67.9 % | 57.0 % | 55.4 % | 8.8 % | 2.5 %\n",
      "\n",
      "\n",
      "Epoch 4/30\n",
      "Train Epoch: 4 [0/50000 (0%)]\tLoss: 0.129116\tAccuracy: 95.6 %\n",
      "Train Epoch: 4 [6400/50000 (13%)]\tLoss: 0.154469\tAccuracy: 96.2 %\n",
      "Train Epoch: 4 [12800/50000 (26%)]\tLoss: 0.151419\tAccuracy: 95.6 %\n",
      "Train Epoch: 4 [19200/50000 (38%)]\tLoss: 0.309844\tAccuracy: 91.6 %\n",
      "Train Epoch: 4 [25600/50000 (51%)]\tLoss: 0.254890\tAccuracy: 92.8 %\n",
      "Train Epoch: 4 [32000/50000 (64%)]\tLoss: 0.090997\tAccuracy: 95.9 %\n",
      "Train Epoch: 4 [38400/50000 (77%)]\tLoss: 0.225509\tAccuracy: 91.2 %\n",
      "Train Epoch: 4 [44800/50000 (90%)]\tLoss: 0.169614\tAccuracy: 94.1 %\n",
      "Took 12.77708387374878 seconds\n",
      "\n",
      "Test set: Average loss: 0.1604, Accuracy: 47911/50000 (95.8 %)\n",
      "Accuracy per position: 91.8 % | 96.4 % | 97.1 % | 97.1 % | 96.7 %\n",
      "\n",
      "Testing on noisy dataset:\n",
      "Test set: Average loss: 3.3937, Accuracy: 36030/50000 (72.1 %)\n",
      "Accuracy per position: 91.9 % | 96.9 % | 97.0 % | 39.9 % | 34.6 %\n",
      "\n",
      "Testing on random words (without noise):\n",
      "Test set: Average loss: 4.5104, Accuracy: 28730/50000 (57.5 %)\n",
      "Accuracy per position: 68.7 % | 56.0 % | 53.6 % | 51.5 % | 57.6 %\n",
      "\n",
      "Testing on random words (with noise):\n",
      "Test set: Average loss: 12.8348, Accuracy: 19010/50000 (38.0 %)\n",
      "Accuracy per position: 68.5 % | 56.4 % | 53.5 % | 8.9 % | 2.8 %\n",
      "\n",
      "\n",
      "Epoch 5/30\n",
      "Train Epoch: 5 [0/50000 (0%)]\tLoss: 0.146733\tAccuracy: 94.1 %\n",
      "Train Epoch: 5 [6400/50000 (13%)]\tLoss: 0.179672\tAccuracy: 94.7 %\n",
      "Train Epoch: 5 [12800/50000 (26%)]\tLoss: 0.198621\tAccuracy: 92.2 %\n",
      "Train Epoch: 5 [19200/50000 (38%)]\tLoss: 0.193578\tAccuracy: 93.8 %\n",
      "Train Epoch: 5 [25600/50000 (51%)]\tLoss: 0.130961\tAccuracy: 96.6 %\n",
      "Train Epoch: 5 [32000/50000 (64%)]\tLoss: 0.189611\tAccuracy: 94.1 %\n",
      "Train Epoch: 5 [38400/50000 (77%)]\tLoss: 0.204811\tAccuracy: 94.4 %\n",
      "Train Epoch: 5 [44800/50000 (90%)]\tLoss: 0.209789\tAccuracy: 94.4 %\n",
      "Took 13.445059061050415 seconds\n",
      "\n",
      "Test set: Average loss: 0.1520, Accuracy: 47975/50000 (96.0 %)\n",
      "Accuracy per position: 91.8 % | 96.6 % | 97.0 % | 97.0 % | 97.2 %\n",
      "\n",
      "Testing on noisy dataset:\n",
      "Test set: Average loss: 3.0770, Accuracy: 36482/50000 (73.0 %)\n",
      "Accuracy per position: 92.0 % | 96.6 % | 97.2 % | 40.2 % | 38.8 %\n",
      "\n",
      "Testing on random words (without noise):\n",
      "Test set: Average loss: 4.7617, Accuracy: 27799/50000 (55.6 %)\n",
      "Accuracy per position: 68.7 % | 54.6 % | 50.6 % | 49.0 % | 55.0 %\n",
      "\n",
      "Testing on random words (with noise):\n",
      "Test set: Average loss: 12.9157, Accuracy: 18748/50000 (37.5 %)\n",
      "Accuracy per position: 68.8 % | 54.9 % | 51.2 % | 8.7 % | 3.9 %\n",
      "\n",
      "\n",
      "Epoch 6/30\n",
      "Train Epoch: 6 [0/50000 (0%)]\tLoss: 0.181275\tAccuracy: 96.2 %\n",
      "Train Epoch: 6 [6400/50000 (13%)]\tLoss: 0.229725\tAccuracy: 92.5 %\n",
      "Train Epoch: 6 [12800/50000 (26%)]\tLoss: 0.199567\tAccuracy: 93.8 %\n",
      "Train Epoch: 6 [19200/50000 (38%)]\tLoss: 0.196728\tAccuracy: 96.2 %\n",
      "Train Epoch: 6 [25600/50000 (51%)]\tLoss: 0.213423\tAccuracy: 93.8 %\n",
      "Train Epoch: 6 [32000/50000 (64%)]\tLoss: 0.183754\tAccuracy: 95.3 %\n",
      "Train Epoch: 6 [38400/50000 (77%)]\tLoss: 0.178593\tAccuracy: 94.1 %\n",
      "Train Epoch: 6 [44800/50000 (90%)]\tLoss: 0.157645\tAccuracy: 94.7 %\n",
      "Took 14.030969858169556 seconds\n",
      "\n",
      "Test set: Average loss: 0.1547, Accuracy: 47935/50000 (95.9 %)\n",
      "Accuracy per position: 92.1 % | 96.7 % | 97.0 % | 96.7 % | 96.9 %\n",
      "\n",
      "Testing on noisy dataset:\n",
      "Test set: Average loss: 2.8277, Accuracy: 36867/50000 (73.7 %)\n",
      "Accuracy per position: 92.1 % | 96.6 % | 97.0 % | 42.6 % | 40.4 %\n",
      "\n",
      "Testing on random words (without noise):\n",
      "Test set: Average loss: 4.6972, Accuracy: 27674/50000 (55.3 %)\n",
      "Accuracy per position: 68.8 % | 53.3 % | 49.3 % | 49.8 % | 55.6 %\n",
      "\n",
      "Testing on random words (with noise):\n",
      "Test set: Average loss: 12.3681, Accuracy: 18305/50000 (36.6 %)\n",
      "Accuracy per position: 68.6 % | 53.5 % | 49.5 % | 8.3 % | 3.2 %\n",
      "\n",
      "\n",
      "Epoch 7/30\n",
      "Train Epoch: 7 [0/50000 (0%)]\tLoss: 0.290220\tAccuracy: 92.2 %\n",
      "Train Epoch: 7 [6400/50000 (13%)]\tLoss: 0.165490\tAccuracy: 95.0 %\n",
      "Train Epoch: 7 [12800/50000 (26%)]\tLoss: 0.120110\tAccuracy: 95.3 %\n",
      "Train Epoch: 7 [19200/50000 (38%)]\tLoss: 0.160447\tAccuracy: 92.8 %\n",
      "Train Epoch: 7 [25600/50000 (51%)]\tLoss: 0.244680\tAccuracy: 91.9 %\n",
      "Train Epoch: 7 [32000/50000 (64%)]\tLoss: 0.247849\tAccuracy: 92.8 %\n",
      "Train Epoch: 7 [38400/50000 (77%)]\tLoss: 0.161990\tAccuracy: 95.3 %\n",
      "Train Epoch: 7 [44800/50000 (90%)]\tLoss: 0.195617\tAccuracy: 93.4 %\n",
      "Took 14.566874980926514 seconds\n",
      "\n",
      "Test set: Average loss: 0.1451, Accuracy: 48057/50000 (96.1 %)\n",
      "Accuracy per position: 92.0 % | 96.9 % | 97.2 % | 97.2 % | 97.3 %\n",
      "\n",
      "Testing on noisy dataset:\n",
      "Test set: Average loss: 2.7298, Accuracy: 36839/50000 (73.7 %)\n",
      "Accuracy per position: 92.0 % | 96.7 % | 97.2 % | 43.2 % | 39.3 %\n",
      "\n",
      "Testing on random words (without noise):\n",
      "Test set: Average loss: 4.6209, Accuracy: 27416/50000 (54.8 %)\n",
      "Accuracy per position: 68.3 % | 52.6 % | 47.8 % | 50.4 % | 55.0 %\n",
      "\n",
      "Testing on random words (with noise):\n"
     ]
    },
    {
     "ename": "KeyboardInterrupt",
     "evalue": "",
     "output_type": "error",
     "traceback": [
      "\u001b[0;31m---------------------------------------------------------------------------\u001b[0m",
      "\u001b[0;31mKeyboardInterrupt\u001b[0m                         Traceback (most recent call last)",
      "\u001b[0;32m<ipython-input-145-2adcc8a01f56>\u001b[0m in \u001b[0;36m<module>\u001b[0;34m()\u001b[0m\n\u001b[1;32m     23\u001b[0m     \u001b[0mprint\u001b[0m\u001b[0;34m(\u001b[0m\u001b[0;34m)\u001b[0m\u001b[0;34m\u001b[0m\u001b[0m\n\u001b[1;32m     24\u001b[0m     \u001b[0mprint\u001b[0m\u001b[0;34m(\u001b[0m\u001b[0;34m'Testing on random words (with noise):'\u001b[0m\u001b[0;34m)\u001b[0m\u001b[0;34m\u001b[0m\u001b[0m\n\u001b[0;32m---> 25\u001b[0;31m     \u001b[0mtest_sequential\u001b[0m\u001b[0;34m(\u001b[0m\u001b[0mmodel\u001b[0m\u001b[0;34m,\u001b[0m \u001b[0mdevice\u001b[0m\u001b[0;34m,\u001b[0m \u001b[0mnoisy_random_seq_test_loader\u001b[0m\u001b[0;34m,\u001b[0m \u001b[0mper_position\u001b[0m\u001b[0;34m=\u001b[0m\u001b[0;32mTrue\u001b[0m\u001b[0;34m)\u001b[0m\u001b[0;34m\u001b[0m\u001b[0m\n\u001b[0m\u001b[1;32m     26\u001b[0m     \u001b[0mprint\u001b[0m\u001b[0;34m(\u001b[0m\u001b[0;34m)\u001b[0m\u001b[0;34m\u001b[0m\u001b[0m\n\u001b[1;32m     27\u001b[0m     \u001b[0mprint\u001b[0m\u001b[0;34m(\u001b[0m\u001b[0;34m)\u001b[0m\u001b[0;34m\u001b[0m\u001b[0m\n",
      "\u001b[0;32m<ipython-input-122-6ced69f8c74d>\u001b[0m in \u001b[0;36mtest_sequential\u001b[0;34m(model, device, test_loader, per_position, params)\u001b[0m\n\u001b[1;32m      7\u001b[0m         \u001b[0mcorrect_per_position\u001b[0m \u001b[0;34m=\u001b[0m \u001b[0mtorch\u001b[0m\u001b[0;34m.\u001b[0m\u001b[0mzeros\u001b[0m\u001b[0;34m(\u001b[0m\u001b[0mseq_len\u001b[0m\u001b[0;34m)\u001b[0m\u001b[0;34m\u001b[0m\u001b[0m\n\u001b[1;32m      8\u001b[0m     \u001b[0;32mwith\u001b[0m \u001b[0mtorch\u001b[0m\u001b[0;34m.\u001b[0m\u001b[0mno_grad\u001b[0m\u001b[0;34m(\u001b[0m\u001b[0;34m)\u001b[0m\u001b[0;34m:\u001b[0m\u001b[0;34m\u001b[0m\u001b[0m\n\u001b[0;32m----> 9\u001b[0;31m         \u001b[0;32mfor\u001b[0m \u001b[0mdata\u001b[0m\u001b[0;34m,\u001b[0m \u001b[0mtarget\u001b[0m \u001b[0;32min\u001b[0m \u001b[0mtest_loader\u001b[0m\u001b[0;34m:\u001b[0m\u001b[0;34m\u001b[0m\u001b[0m\n\u001b[0m\u001b[1;32m     10\u001b[0m             \u001b[0mdata\u001b[0m\u001b[0;34m,\u001b[0m \u001b[0mtarget\u001b[0m \u001b[0;34m=\u001b[0m \u001b[0mdata\u001b[0m\u001b[0;34m.\u001b[0m\u001b[0mto\u001b[0m\u001b[0;34m(\u001b[0m\u001b[0mdevice\u001b[0m\u001b[0;34m)\u001b[0m\u001b[0;34m,\u001b[0m \u001b[0mtarget\u001b[0m\u001b[0;34m.\u001b[0m\u001b[0mto\u001b[0m\u001b[0;34m(\u001b[0m\u001b[0mdevice\u001b[0m\u001b[0;34m)\u001b[0m\u001b[0;34m\u001b[0m\u001b[0m\n\u001b[1;32m     11\u001b[0m             \u001b[0moutput\u001b[0m \u001b[0;34m=\u001b[0m \u001b[0mmodel\u001b[0m\u001b[0;34m(\u001b[0m\u001b[0mdata\u001b[0m\u001b[0;34m)\u001b[0m\u001b[0;34m\u001b[0m\u001b[0m\n",
      "\u001b[0;32m~/anaconda2/envs/py3/lib/python3.6/site-packages/torch/utils/data/dataloader.py\u001b[0m in \u001b[0;36m__next__\u001b[0;34m(self)\u001b[0m\n\u001b[1;32m    613\u001b[0m         \u001b[0;32mif\u001b[0m \u001b[0mself\u001b[0m\u001b[0;34m.\u001b[0m\u001b[0mnum_workers\u001b[0m \u001b[0;34m==\u001b[0m \u001b[0;36m0\u001b[0m\u001b[0;34m:\u001b[0m  \u001b[0;31m# same-process loading\u001b[0m\u001b[0;34m\u001b[0m\u001b[0m\n\u001b[1;32m    614\u001b[0m             \u001b[0mindices\u001b[0m \u001b[0;34m=\u001b[0m \u001b[0mnext\u001b[0m\u001b[0;34m(\u001b[0m\u001b[0mself\u001b[0m\u001b[0;34m.\u001b[0m\u001b[0msample_iter\u001b[0m\u001b[0;34m)\u001b[0m  \u001b[0;31m# may raise StopIteration\u001b[0m\u001b[0;34m\u001b[0m\u001b[0m\n\u001b[0;32m--> 615\u001b[0;31m             \u001b[0mbatch\u001b[0m \u001b[0;34m=\u001b[0m \u001b[0mself\u001b[0m\u001b[0;34m.\u001b[0m\u001b[0mcollate_fn\u001b[0m\u001b[0;34m(\u001b[0m\u001b[0;34m[\u001b[0m\u001b[0mself\u001b[0m\u001b[0;34m.\u001b[0m\u001b[0mdataset\u001b[0m\u001b[0;34m[\u001b[0m\u001b[0mi\u001b[0m\u001b[0;34m]\u001b[0m \u001b[0;32mfor\u001b[0m \u001b[0mi\u001b[0m \u001b[0;32min\u001b[0m \u001b[0mindices\u001b[0m\u001b[0;34m]\u001b[0m\u001b[0;34m)\u001b[0m\u001b[0;34m\u001b[0m\u001b[0m\n\u001b[0m\u001b[1;32m    616\u001b[0m             \u001b[0;32mif\u001b[0m \u001b[0mself\u001b[0m\u001b[0;34m.\u001b[0m\u001b[0mpin_memory\u001b[0m\u001b[0;34m:\u001b[0m\u001b[0;34m\u001b[0m\u001b[0m\n\u001b[1;32m    617\u001b[0m                 \u001b[0mbatch\u001b[0m \u001b[0;34m=\u001b[0m \u001b[0mpin_memory_batch\u001b[0m\u001b[0;34m(\u001b[0m\u001b[0mbatch\u001b[0m\u001b[0;34m)\u001b[0m\u001b[0;34m\u001b[0m\u001b[0m\n",
      "\u001b[0;32m~/anaconda2/envs/py3/lib/python3.6/site-packages/torch/utils/data/dataloader.py\u001b[0m in \u001b[0;36m<listcomp>\u001b[0;34m(.0)\u001b[0m\n\u001b[1;32m    613\u001b[0m         \u001b[0;32mif\u001b[0m \u001b[0mself\u001b[0m\u001b[0;34m.\u001b[0m\u001b[0mnum_workers\u001b[0m \u001b[0;34m==\u001b[0m \u001b[0;36m0\u001b[0m\u001b[0;34m:\u001b[0m  \u001b[0;31m# same-process loading\u001b[0m\u001b[0;34m\u001b[0m\u001b[0m\n\u001b[1;32m    614\u001b[0m             \u001b[0mindices\u001b[0m \u001b[0;34m=\u001b[0m \u001b[0mnext\u001b[0m\u001b[0;34m(\u001b[0m\u001b[0mself\u001b[0m\u001b[0;34m.\u001b[0m\u001b[0msample_iter\u001b[0m\u001b[0;34m)\u001b[0m  \u001b[0;31m# may raise StopIteration\u001b[0m\u001b[0;34m\u001b[0m\u001b[0m\n\u001b[0;32m--> 615\u001b[0;31m             \u001b[0mbatch\u001b[0m \u001b[0;34m=\u001b[0m \u001b[0mself\u001b[0m\u001b[0;34m.\u001b[0m\u001b[0mcollate_fn\u001b[0m\u001b[0;34m(\u001b[0m\u001b[0;34m[\u001b[0m\u001b[0mself\u001b[0m\u001b[0;34m.\u001b[0m\u001b[0mdataset\u001b[0m\u001b[0;34m[\u001b[0m\u001b[0mi\u001b[0m\u001b[0;34m]\u001b[0m \u001b[0;32mfor\u001b[0m \u001b[0mi\u001b[0m \u001b[0;32min\u001b[0m \u001b[0mindices\u001b[0m\u001b[0;34m]\u001b[0m\u001b[0;34m)\u001b[0m\u001b[0;34m\u001b[0m\u001b[0m\n\u001b[0m\u001b[1;32m    616\u001b[0m             \u001b[0;32mif\u001b[0m \u001b[0mself\u001b[0m\u001b[0;34m.\u001b[0m\u001b[0mpin_memory\u001b[0m\u001b[0;34m:\u001b[0m\u001b[0;34m\u001b[0m\u001b[0m\n\u001b[1;32m    617\u001b[0m                 \u001b[0mbatch\u001b[0m \u001b[0;34m=\u001b[0m \u001b[0mpin_memory_batch\u001b[0m\u001b[0;34m(\u001b[0m\u001b[0mbatch\u001b[0m\u001b[0;34m)\u001b[0m\u001b[0;34m\u001b[0m\u001b[0m\n",
      "\u001b[0;32m~/Projects/feedback-nns/datasets.py\u001b[0m in \u001b[0;36m__getitem__\u001b[0;34m(self, i)\u001b[0m\n\u001b[1;32m    113\u001b[0m         \u001b[0;32melse\u001b[0m\u001b[0;34m:\u001b[0m\u001b[0;34m\u001b[0m\u001b[0m\n\u001b[1;32m    114\u001b[0m             \u001b[0mimages\u001b[0m \u001b[0;34m=\u001b[0m \u001b[0;34m[\u001b[0m\u001b[0mrandom\u001b[0m\u001b[0;34m.\u001b[0m\u001b[0mchoice\u001b[0m\u001b[0;34m(\u001b[0m\u001b[0mself\u001b[0m\u001b[0;34m.\u001b[0m\u001b[0mimages_per_class\u001b[0m\u001b[0;34m[\u001b[0m\u001b[0mclass_\u001b[0m\u001b[0;34m]\u001b[0m\u001b[0;34m)\u001b[0m \u001b[0;32mfor\u001b[0m \u001b[0mclass_\u001b[0m \u001b[0;32min\u001b[0m \u001b[0mseq\u001b[0m\u001b[0;34m]\u001b[0m\u001b[0;34m\u001b[0m\u001b[0m\n\u001b[0;32m--> 115\u001b[0;31m         \u001b[0;32mreturn\u001b[0m \u001b[0mtorch\u001b[0m\u001b[0;34m.\u001b[0m\u001b[0mcat\u001b[0m\u001b[0;34m(\u001b[0m\u001b[0mimages\u001b[0m\u001b[0;34m)\u001b[0m\u001b[0;34m,\u001b[0m \u001b[0mseq\u001b[0m\u001b[0;34m\u001b[0m\u001b[0m\n\u001b[0m\u001b[1;32m    116\u001b[0m \u001b[0;34m\u001b[0m\u001b[0m\n\u001b[1;32m    117\u001b[0m \u001b[0;34m\u001b[0m\u001b[0m\n",
      "\u001b[0;31mKeyboardInterrupt\u001b[0m: "
     ]
    }
   ],
   "source": [
    "#model = SequentialFeedforwardNet().to(device)\n",
    "#model = SequentialLSTM().to(device)\n",
    "#model = SequentialFeedbackNet(dropout=0.5, alpha=0.5).to(device)\n",
    "# TODO: Use rmsprop or another optimizer which is good for LSTMs.\n",
    "#optimizer = optim.Adam(model.parameters(), lr=0.0001)\n",
    "#optimizer = optim.SGD(model.parameters(), lr=0.00001, momentum=params['momentum'])\n",
    "optimizer = optim.SGD([p for p in model.parameters() if p.requires_grad], lr=0.00001, momentum=params['momentum'])\n",
    "\n",
    "for epoch in range(params['num_epochs']):\n",
    "    print('Epoch {}/{}'.format(epoch+1, params['num_epochs']))\n",
    "    start_time = time.time()\n",
    "    train_sequential(model, device, seq_train_loader, optimizer, epoch+1)\n",
    "    print('Took', time.time()-start_time, 'seconds')\n",
    "    \n",
    "    print()\n",
    "    test_sequential(model, device, seq_test_loader, per_position=True)\n",
    "    print()\n",
    "    print('Testing on noisy dataset:')\n",
    "    test_sequential(model, device, noisy_seq_test_loader, per_position=True)\n",
    "    print()\n",
    "    print('Testing on random words (without noise):')\n",
    "    test_sequential(model, device, random_seq_test_loader, per_position=True)\n",
    "    print()\n",
    "    print('Testing on random words (with noise):')\n",
    "    test_sequential(model, device, noisy_random_seq_test_loader, per_position=True)\n",
    "    print()\n",
    "    print()"
   ]
  },
  {
   "cell_type": "code",
   "execution_count": 136,
   "metadata": {
    "ExecuteTime": {
     "end_time": "2019-01-12T02:16:00.207532Z",
     "start_time": "2019-01-12T02:16:00.163213Z"
    }
   },
   "outputs": [
    {
     "name": "stderr",
     "output_type": "stream",
     "text": [
      "/Users/jrieke/anaconda2/envs/py3/lib/python3.6/site-packages/torch/serialization.py:250: UserWarning: Couldn't retrieve source code for container of type SequentialFeedbackNet. It won't be checked for correctness upon loading.\n",
      "  \"type \" + obj.__name__ + \". It won't be checked \"\n"
     ]
    }
   ],
   "source": [
    "#torch.save(model, 'data/models/fb_net.pt')"
   ]
  },
  {
   "cell_type": "code",
   "execution_count": 137,
   "metadata": {
    "ExecuteTime": {
     "end_time": "2019-01-12T02:16:11.021864Z",
     "start_time": "2019-01-12T02:16:10.986562Z"
    }
   },
   "outputs": [
    {
     "data": {
      "text/plain": [
       "SequentialFeedbackNet(\n",
       "  (forward1): Linear(in_features=784, out_features=500, bias=True)\n",
       "  (forward2): Linear(in_features=500, out_features=500, bias=True)\n",
       "  (forward3): Linear(in_features=500, out_features=26, bias=True)\n",
       "  (dropout): Dropout(p=0.5)\n",
       "  (feedback1): Linear(in_features=500, out_features=784, bias=True)\n",
       "  (feedback2): Linear(in_features=500, out_features=500, bias=True)\n",
       ")"
      ]
     },
     "execution_count": 137,
     "metadata": {},
     "output_type": "execute_result"
    }
   ],
   "source": [
    "#torch.load('data/models/fb_net.pt')"
   ]
  },
  {
   "cell_type": "code",
   "execution_count": 138,
   "metadata": {
    "ExecuteTime": {
     "end_time": "2019-01-13T01:08:14.079184Z",
     "start_time": "2019-01-13T01:08:12.115720Z"
    }
   },
   "outputs": [
    {
     "name": "stdout",
     "output_type": "stream",
     "text": [
      "Testing on random words (without noise):\n",
      "Test set: Average loss: 0.4670, Accuracy: 45167/50000 (90.3 %)\n",
      "Accuracy per position: 89.2 % | 92.3 % | 89.6 % | 89.5 % | 91.1 %\n",
      "\n",
      "Testing on random words (with noise):\n",
      "Test set: Average loss: 2.2322, Accuracy: 29116/50000 (58.2 %)\n",
      "Accuracy per position: 89.1 % | 91.9 % | 89.4 % | 12.9 % | 7.9 %\n"
     ]
    }
   ],
   "source": [
    "print('Testing on random words (without noise):')\n",
    "test_sequential(model, device, random_seq_test_loader, per_position=True)\n",
    "print()\n",
    "print('Testing on random words (with noise):')\n",
    "test_sequential(model, device, noisy_random_seq_test_loader, per_position=True)"
   ]
  },
  {
   "cell_type": "code",
   "execution_count": 140,
   "metadata": {
    "ExecuteTime": {
     "end_time": "2019-01-12T02:24:36.989330Z",
     "start_time": "2019-01-12T02:24:35.572643Z"
    }
   },
   "outputs": [
    {
     "name": "stdout",
     "output_type": "stream",
     "text": [
      "Test set: Average loss: 0.4314, Accuracy: 44944/50000 (89.9 %)\n",
      "Accuracy per position: 86.1 % | 90.6 % | 93.0 % | 91.6 % | 88.1 %\n"
     ]
    }
   ],
   "source": [
    "test_sequential(model, device, seq_test_loader, per_position=True)"
   ]
  },
  {
   "cell_type": "code",
   "execution_count": null,
   "metadata": {},
   "outputs": [],
   "source": []
  },
  {
   "cell_type": "code",
   "execution_count": 36,
   "metadata": {
    "ExecuteTime": {
     "end_time": "2019-01-12T23:19:38.357225Z",
     "start_time": "2019-01-12T23:19:38.157292Z"
    }
   },
   "outputs": [
    {
     "data": {
      "image/png": "[encoded data removed]",
      "text/plain": [
       "<Figure size 432x288 with 5 Axes>"
      ]
     },
     "metadata": {
      "image/png": {
       "height": 104,
       "width": 370
      }
     },
     "output_type": "display_data"
    }
   ],
   "source": [
    "seq, target = seq_test_dataset[0]\n",
    "datasets.plot_sequence(seq, target, target_transform=to_letter)"
   ]
  },
  {
   "cell_type": "code",
   "execution_count": 37,
   "metadata": {
    "ExecuteTime": {
     "end_time": "2019-01-12T23:19:39.261250Z",
     "start_time": "2019-01-12T23:19:38.460925Z"
    },
    "scrolled": false
   },
   "outputs": [
    {
     "data": {
      "text/plain": [
       "<matplotlib.colorbar.Colorbar at 0x12702a828>"
      ]
     },
     "execution_count": 37,
     "metadata": {},
     "output_type": "execute_result"
    },
    {
     "data": {
      "image/png": "[encoded data removed]",
      "text/plain": [
       "<Figure size 432x288 with 1 Axes>"
      ]
     },
     "metadata": {
      "image/png": {
       "height": 250,
       "width": 253
      }
     },
     "output_type": "display_data"
    },
    {
     "data": {
      "image/png": "[encoded data removed]",
      "text/plain": [
       "<Figure size 432x288 with 1 Axes>"
      ]
     },
     "metadata": {
      "image/png": {
       "height": 250,
       "width": 253
      }
     },
     "output_type": "display_data"
    },
    {
     "data": {
      "image/png": "[encoded data removed]",
      "text/plain": [
       "<Figure size 432x288 with 1 Axes>"
      ]
     },
     "metadata": {
      "image/png": {
       "height": 250,
       "width": 253
      }
     },
     "output_type": "display_data"
    },
    {
     "data": {
      "image/png": "[encoded data removed]",
      "text/plain": [
       "<Figure size 432x288 with 1 Axes>"
      ]
     },
     "metadata": {
      "image/png": {
       "height": 250,
       "width": 253
      }
     },
     "output_type": "display_data"
    },
    {
     "data": {
      "image/png": "[encoded data removed]",
      "text/plain": [
       "<Figure size 432x288 with 2 Axes>"
      ]
     },
     "metadata": {
      "image/png": {
       "height": 250,
       "width": 301
      }
     },
     "output_type": "display_data"
    }
   ],
   "source": [
    "model(seq[None], plot_feedback=True);\n",
    "plt.colorbar()"
   ]
  },
  {
   "cell_type": "code",
   "execution_count": 75,
   "metadata": {
    "ExecuteTime": {
     "end_time": "2019-01-12T01:24:33.372228Z",
     "start_time": "2019-01-12T01:24:13.063039Z"
    }
   },
   "outputs": [
    {
     "name": "stdout",
     "output_type": "stream",
     "text": [
      "> \u001b[0;32m<ipython-input-72-f941c31d9610>\u001b[0m(28)\u001b[0;36mforward\u001b[0;34m()\u001b[0m\n",
      "\u001b[0;32m     26 \u001b[0;31m            \u001b[0;32mif\u001b[0m \u001b[0mplot_feedback\u001b[0m\u001b[0;34m:\u001b[0m\u001b[0;34m\u001b[0m\u001b[0m\n",
      "\u001b[0m\u001b[0;32m     27 \u001b[0;31m                \u001b[0mplt\u001b[0m\u001b[0;34m.\u001b[0m\u001b[0mfigure\u001b[0m\u001b[0;34m(\u001b[0m\u001b[0;34m)\u001b[0m\u001b[0;34m\u001b[0m\u001b[0m\n",
      "\u001b[0m\u001b[0;32m---> 28 \u001b[0;31m                \u001b[0mplt\u001b[0m\u001b[0;34m.\u001b[0m\u001b[0mimshow\u001b[0m\u001b[0;34m(\u001b[0m\u001b[0mfeedback_activation_1\u001b[0m\u001b[0;34m[\u001b[0m\u001b[0;36m0\u001b[0m\u001b[0;34m]\u001b[0m\u001b[0;34m.\u001b[0m\u001b[0mdetach\u001b[0m\u001b[0;34m(\u001b[0m\u001b[0;34m)\u001b[0m\u001b[0;34m.\u001b[0m\u001b[0mnumpy\u001b[0m\u001b[0;34m(\u001b[0m\u001b[0;34m)\u001b[0m\u001b[0;34m.\u001b[0m\u001b[0mview\u001b[0m\u001b[0;34m(\u001b[0m\u001b[0;36m28\u001b[0m\u001b[0;34m,\u001b[0m \u001b[0;36m28\u001b[0m\u001b[0;34m)\u001b[0m\u001b[0;34m,\u001b[0m \u001b[0mcmap\u001b[0m\u001b[0;34m=\u001b[0m\u001b[0;34m'Greys'\u001b[0m\u001b[0;34m)\u001b[0m\u001b[0;34m\u001b[0m\u001b[0m\n",
      "\u001b[0m\u001b[0;32m     29 \u001b[0;31m            \u001b[0mx\u001b[0m \u001b[0;34m=\u001b[0m \u001b[0mF\u001b[0m\u001b[0;34m.\u001b[0m\u001b[0mrelu\u001b[0m\u001b[0;34m(\u001b[0m\u001b[0mself\u001b[0m\u001b[0;34m.\u001b[0m\u001b[0mforward1\u001b[0m\u001b[0;34m(\u001b[0m\u001b[0;34m(\u001b[0m\u001b[0;36m1\u001b[0m \u001b[0;34m-\u001b[0m \u001b[0mself\u001b[0m\u001b[0;34m.\u001b[0m\u001b[0malpha\u001b[0m\u001b[0;34m)\u001b[0m \u001b[0;34m*\u001b[0m \u001b[0mx\u001b[0m \u001b[0;34m+\u001b[0m \u001b[0mself\u001b[0m\u001b[0;34m.\u001b[0m\u001b[0malpha\u001b[0m \u001b[0;34m*\u001b[0m \u001b[0mfeedback_activation_1\u001b[0m\u001b[0;34m)\u001b[0m\u001b[0;34m)\u001b[0m\u001b[0;34m\u001b[0m\u001b[0m\n",
      "\u001b[0m\u001b[0;32m     30 \u001b[0;31m            \u001b[0mfeedback_activation_1\u001b[0m \u001b[0;34m=\u001b[0m \u001b[0mself\u001b[0m\u001b[0;34m.\u001b[0m\u001b[0mfeedback1\u001b[0m\u001b[0;34m(\u001b[0m\u001b[0mx\u001b[0m\u001b[0;34m)\u001b[0m  \u001b[0;31m# for next forward pass\u001b[0m\u001b[0;34m\u001b[0m\u001b[0m\n",
      "\u001b[0m\n",
      "ipdb> feedback_activation_1[0].detach().numpy()\n",
      "array([0., 0., 0., 0., 0., 0., 0., 0., 0., 0., 0., 0., 0., 0., 0., 0., 0.,\n",
      "       0., 0., 0., 0., 0., 0., 0., 0., 0., 0., 0., 0., 0., 0., 0., 0., 0.,\n",
      "       0., 0., 0., 0., 0., 0., 0., 0., 0., 0., 0., 0., 0., 0., 0., 0., 0.,\n",
      "       0., 0., 0., 0., 0., 0., 0., 0., 0., 0., 0., 0., 0., 0., 0., 0., 0.,\n",
      "       0., 0., 0., 0., 0., 0., 0., 0., 0., 0., 0., 0., 0., 0., 0., 0., 0.,\n",
      "       0., 0., 0., 0., 0., 0., 0., 0., 0., 0., 0., 0., 0., 0., 0., 0., 0.,\n",
      "       0., 0., 0., 0., 0., 0., 0., 0., 0., 0., 0., 0., 0., 0., 0., 0., 0.,\n",
      "       0., 0., 0., 0., 0., 0., 0., 0., 0., 0., 0., 0., 0., 0., 0., 0., 0.,\n",
      "       0., 0., 0., 0., 0., 0., 0., 0., 0., 0., 0., 0., 0., 0., 0., 0., 0.,\n",
      "       0., 0., 0., 0., 0., 0., 0., 0., 0., 0., 0., 0., 0., 0., 0., 0., 0.,\n",
      "       0., 0., 0., 0., 0., 0., 0., 0., 0., 0., 0., 0., 0., 0., 0., 0., 0.,\n",
      "       0., 0., 0., 0., 0., 0., 0., 0., 0., 0., 0., 0., 0., 0., 0., 0., 0.,\n",
      "       0., 0., 0., 0., 0., 0., 0., 0., 0., 0., 0., 0., 0., 0., 0., 0., 0.,\n",
      "       0., 0., 0., 0., 0., 0., 0., 0., 0., 0., 0., 0., 0., 0., 0., 0., 0.,\n",
      "       0., 0., 0., 0., 0., 0., 0., 0., 0., 0., 0., 0., 0., 0., 0., 0., 0.,\n",
      "       0., 0., 0., 0., 0., 0., 0., 0., 0., 0., 0., 0., 0., 0., 0., 0., 0.,\n",
      "       0., 0., 0., 0., 0., 0., 0., 0., 0., 0., 0., 0., 0., 0., 0., 0., 0.,\n",
      "       0., 0., 0., 0., 0., 0., 0., 0., 0., 0., 0., 0., 0., 0., 0., 0., 0.,\n",
      "       0., 0., 0., 0., 0., 0., 0., 0., 0., 0., 0., 0., 0., 0., 0., 0., 0.,\n",
      "       0., 0., 0., 0., 0., 0., 0., 0., 0., 0., 0., 0., 0., 0., 0., 0., 0.,\n",
      "       0., 0., 0., 0., 0., 0., 0., 0., 0., 0., 0., 0., 0., 0., 0., 0., 0.,\n",
      "       0., 0., 0., 0., 0., 0., 0., 0., 0., 0., 0., 0., 0., 0., 0., 0., 0.,\n",
      "       0., 0., 0., 0., 0., 0., 0., 0., 0., 0., 0., 0., 0., 0., 0., 0., 0.,\n",
      "       0., 0., 0., 0., 0., 0., 0., 0., 0., 0., 0., 0., 0., 0., 0., 0., 0.,\n",
      "       0., 0., 0., 0., 0., 0., 0., 0., 0., 0., 0., 0., 0., 0., 0., 0., 0.,\n",
      "       0., 0., 0., 0., 0., 0., 0., 0., 0., 0., 0., 0., 0., 0., 0., 0., 0.,\n",
      "       0., 0., 0., 0., 0., 0., 0., 0., 0., 0., 0., 0., 0., 0., 0., 0., 0.,\n",
      "       0., 0., 0., 0., 0., 0., 0., 0., 0., 0., 0., 0., 0., 0., 0., 0., 0.,\n",
      "       0., 0., 0., 0., 0., 0., 0., 0., 0., 0., 0., 0., 0., 0., 0., 0., 0.,\n",
      "       0., 0., 0., 0., 0., 0., 0., 0., 0., 0., 0., 0., 0., 0., 0., 0., 0.,\n",
      "       0., 0., 0., 0., 0., 0., 0., 0., 0., 0., 0., 0., 0., 0., 0., 0., 0.,\n",
      "       0., 0., 0., 0., 0., 0., 0., 0., 0., 0., 0., 0., 0., 0., 0., 0., 0.,\n",
      "       0., 0., 0., 0., 0., 0., 0., 0., 0., 0., 0., 0., 0., 0., 0., 0., 0.,\n",
      "       0., 0., 0., 0., 0., 0., 0., 0., 0., 0., 0., 0., 0., 0., 0., 0., 0.,\n",
      "       0., 0., 0., 0., 0., 0., 0., 0., 0., 0., 0., 0., 0., 0., 0., 0., 0.,\n",
      "       0., 0., 0., 0., 0., 0., 0., 0., 0., 0., 0., 0., 0., 0., 0., 0., 0.,\n",
      "       0., 0., 0., 0., 0., 0., 0., 0., 0., 0., 0., 0., 0., 0., 0., 0., 0.,\n",
      "       0., 0., 0., 0., 0., 0., 0., 0., 0., 0., 0., 0., 0., 0., 0., 0., 0.,\n",
      "       0., 0., 0., 0., 0., 0., 0., 0., 0., 0., 0., 0., 0., 0., 0., 0., 0.,\n",
      "       0., 0., 0., 0., 0., 0., 0., 0., 0., 0., 0., 0., 0., 0., 0., 0., 0.,\n",
      "       0., 0., 0., 0., 0., 0., 0., 0., 0., 0., 0., 0., 0., 0., 0., 0., 0.,\n",
      "       0., 0., 0., 0., 0., 0., 0., 0., 0., 0., 0., 0., 0., 0., 0., 0., 0.,\n",
      "       0., 0., 0., 0., 0., 0., 0., 0., 0., 0., 0., 0., 0., 0., 0., 0., 0.,\n",
      "       0., 0., 0., 0., 0., 0., 0., 0., 0., 0., 0., 0., 0., 0., 0., 0., 0.,\n",
      "       0., 0., 0., 0., 0., 0., 0., 0., 0., 0., 0., 0., 0., 0., 0., 0., 0.,\n",
      "       0., 0., 0., 0., 0., 0., 0., 0., 0., 0., 0., 0., 0., 0., 0., 0., 0.,\n",
      "       0., 0.], dtype=float32)\n",
      "ipdb> feedback_activation_1[0].detach().numpy().shape\n",
      "(784,)\n",
      "ipdb> feedback_activation_1[0].detach().numpy()\n",
      "array([0., 0., 0., 0., 0., 0., 0., 0., 0., 0., 0., 0., 0., 0., 0., 0., 0.,\n",
      "       0., 0., 0., 0., 0., 0., 0., 0., 0., 0., 0., 0., 0., 0., 0., 0., 0.,\n",
      "       0., 0., 0., 0., 0., 0., 0., 0., 0., 0., 0., 0., 0., 0., 0., 0., 0.,\n",
      "       0., 0., 0., 0., 0., 0., 0., 0., 0., 0., 0., 0., 0., 0., 0., 0., 0.,\n",
      "       0., 0., 0., 0., 0., 0., 0., 0., 0., 0., 0., 0., 0., 0., 0., 0., 0.,\n",
      "       0., 0., 0., 0., 0., 0., 0., 0., 0., 0., 0., 0., 0., 0., 0., 0., 0.,\n",
      "       0., 0., 0., 0., 0., 0., 0., 0., 0., 0., 0., 0., 0., 0., 0., 0., 0.,\n",
      "       0., 0., 0., 0., 0., 0., 0., 0., 0., 0., 0., 0., 0., 0., 0., 0., 0.,\n",
      "       0., 0., 0., 0., 0., 0., 0., 0., 0., 0., 0., 0., 0., 0., 0., 0., 0.,\n",
      "       0., 0., 0., 0., 0., 0., 0., 0., 0., 0., 0., 0., 0., 0., 0., 0., 0.,\n",
      "       0., 0., 0., 0., 0., 0., 0., 0., 0., 0., 0., 0., 0., 0., 0., 0., 0.,\n",
      "       0., 0., 0., 0., 0., 0., 0., 0., 0., 0., 0., 0., 0., 0., 0., 0., 0.,\n",
      "       0., 0., 0., 0., 0., 0., 0., 0., 0., 0., 0., 0., 0., 0., 0., 0., 0.,\n",
      "       0., 0., 0., 0., 0., 0., 0., 0., 0., 0., 0., 0., 0., 0., 0., 0., 0.,\n",
      "       0., 0., 0., 0., 0., 0., 0., 0., 0., 0., 0., 0., 0., 0., 0., 0., 0.,\n",
      "       0., 0., 0., 0., 0., 0., 0., 0., 0., 0., 0., 0., 0., 0., 0., 0., 0.,\n",
      "       0., 0., 0., 0., 0., 0., 0., 0., 0., 0., 0., 0., 0., 0., 0., 0., 0.,\n",
      "       0., 0., 0., 0., 0., 0., 0., 0., 0., 0., 0., 0., 0., 0., 0., 0., 0.,\n",
      "       0., 0., 0., 0., 0., 0., 0., 0., 0., 0., 0., 0., 0., 0., 0., 0., 0.,\n",
      "       0., 0., 0., 0., 0., 0., 0., 0., 0., 0., 0., 0., 0., 0., 0., 0., 0.,\n",
      "       0., 0., 0., 0., 0., 0., 0., 0., 0., 0., 0., 0., 0., 0., 0., 0., 0.,\n",
      "       0., 0., 0., 0., 0., 0., 0., 0., 0., 0., 0., 0., 0., 0., 0., 0., 0.,\n",
      "       0., 0., 0., 0., 0., 0., 0., 0., 0., 0., 0., 0., 0., 0., 0., 0., 0.,\n",
      "       0., 0., 0., 0., 0., 0., 0., 0., 0., 0., 0., 0., 0., 0., 0., 0., 0.,\n",
      "       0., 0., 0., 0., 0., 0., 0., 0., 0., 0., 0., 0., 0., 0., 0., 0., 0.,\n",
      "       0., 0., 0., 0., 0., 0., 0., 0., 0., 0., 0., 0., 0., 0., 0., 0., 0.,\n",
      "       0., 0., 0., 0., 0., 0., 0., 0., 0., 0., 0., 0., 0., 0., 0., 0., 0.,\n",
      "       0., 0., 0., 0., 0., 0., 0., 0., 0., 0., 0., 0., 0., 0., 0., 0., 0.,\n",
      "       0., 0., 0., 0., 0., 0., 0., 0., 0., 0., 0., 0., 0., 0., 0., 0., 0.,\n",
      "       0., 0., 0., 0., 0., 0., 0., 0., 0., 0., 0., 0., 0., 0., 0., 0., 0.,\n",
      "       0., 0., 0., 0., 0., 0., 0., 0., 0., 0., 0., 0., 0., 0., 0., 0., 0.,\n",
      "       0., 0., 0., 0., 0., 0., 0., 0., 0., 0., 0., 0., 0., 0., 0., 0., 0.,\n",
      "       0., 0., 0., 0., 0., 0., 0., 0., 0., 0., 0., 0., 0., 0., 0., 0., 0.,\n",
      "       0., 0., 0., 0., 0., 0., 0., 0., 0., 0., 0., 0., 0., 0., 0., 0., 0.,\n",
      "       0., 0., 0., 0., 0., 0., 0., 0., 0., 0., 0., 0., 0., 0., 0., 0., 0.,\n",
      "       0., 0., 0., 0., 0., 0., 0., 0., 0., 0., 0., 0., 0., 0., 0., 0., 0.,\n",
      "       0., 0., 0., 0., 0., 0., 0., 0., 0., 0., 0., 0., 0., 0., 0., 0., 0.,\n",
      "       0., 0., 0., 0., 0., 0., 0., 0., 0., 0., 0., 0., 0., 0., 0., 0., 0.,\n",
      "       0., 0., 0., 0., 0., 0., 0., 0., 0., 0., 0., 0., 0., 0., 0., 0., 0.,\n",
      "       0., 0., 0., 0., 0., 0., 0., 0., 0., 0., 0., 0., 0., 0., 0., 0., 0.,\n",
      "       0., 0., 0., 0., 0., 0., 0., 0., 0., 0., 0., 0., 0., 0., 0., 0., 0.,\n",
      "       0., 0., 0., 0., 0., 0., 0., 0., 0., 0., 0., 0., 0., 0., 0., 0., 0.,\n",
      "       0., 0., 0., 0., 0., 0., 0., 0., 0., 0., 0., 0., 0., 0., 0., 0., 0.,\n",
      "       0., 0., 0., 0., 0., 0., 0., 0., 0., 0., 0., 0., 0., 0., 0., 0., 0.,\n",
      "       0., 0., 0., 0., 0., 0., 0., 0., 0., 0., 0., 0., 0., 0., 0., 0., 0.,\n",
      "       0., 0., 0., 0., 0., 0., 0., 0., 0., 0., 0., 0., 0., 0., 0., 0., 0.,\n",
      "       0., 0.], dtype=float32)\n"
     ]
    },
    {
     "name": "stdout",
     "output_type": "stream",
     "text": [
      "ipdb> q\n"
     ]
    }
   ],
   "source": [
    "%debug"
   ]
  },
  {
   "cell_type": "code",
   "execution_count": null,
   "metadata": {},
   "outputs": [],
   "source": []
  },
  {
   "cell_type": "code",
   "execution_count": null,
   "metadata": {},
   "outputs": [],
   "source": []
  },
  {
   "cell_type": "code",
   "execution_count": 236,
   "metadata": {},
   "outputs": [],
   "source": [
    "model = SequentialFeedbackNet(dropout=0, alpha=0.5).to(device)"
   ]
  },
  {
   "cell_type": "code",
   "execution_count": 237,
   "metadata": {},
   "outputs": [],
   "source": [
    "model.forward1.weight.data = ff_model.forward1.weight.data.clone()\n",
    "model.forward1.bias.data = ff_model.forward1.bias.data.clone()\n",
    "model.forward2.weight.data = ff_model.forward2.weight.data.clone()\n",
    "model.forward2.bias.data = ff_model.forward2.bias.data.clone()"
   ]
  },
  {
   "cell_type": "code",
   "execution_count": 242,
   "metadata": {},
   "outputs": [
    {
     "name": "stdout",
     "output_type": "stream",
     "text": [
      "\n",
      "Test set: Average loss: 0.5467, Accuracy: 46727/10000 (93%)\n",
      "\n"
     ]
    }
   ],
   "source": [
    "test_sequential(model, device, seq_test_loader, params)"
   ]
  },
  {
   "cell_type": "code",
   "execution_count": 126,
   "metadata": {},
   "outputs": [],
   "source": [
    "model.forward1.weight.requires_grad = False\n",
    "model.forward1.bias.requires_grad = False\n",
    "model.forward2.weight.requires_grad = False\n",
    "model.forward2.bias.requires_grad = False"
   ]
  },
  {
   "cell_type": "code",
   "execution_count": 233,
   "metadata": {},
   "outputs": [
    {
     "name": "stdout",
     "output_type": "stream",
     "text": [
      "\n",
      "Test set: Average loss: 0.5414, Accuracy: 46792/10000 (94%)\n",
      "\n"
     ]
    }
   ],
   "source": []
  },
  {
   "cell_type": "code",
   "execution_count": 86,
   "metadata": {},
   "outputs": [],
   "source": [
    "#ff_model = model"
   ]
  },
  {
   "cell_type": "code",
   "execution_count": 239,
   "metadata": {},
   "outputs": [
    {
     "name": "stdout",
     "output_type": "stream",
     "text": [
      "\n",
      "Test set: Average loss: 0.1806, Accuracy: 9459/10000 (95%)\n",
      "\n"
     ]
    }
   ],
   "source": [
    "test(ff_model, device, test_loader, params)"
   ]
  },
  {
   "cell_type": "code",
   "execution_count": null,
   "metadata": {},
   "outputs": [],
   "source": []
  }
 ],
 "metadata": {
  "accelerator": "GPU",
  "colab": {
   "name": "feedback-connections.ipynb",
   "provenance": [],
   "version": "0.3.2"
  },
  "kernelspec": {
   "display_name": "Python 3",
   "language": "python",
   "name": "python3"
  },
  "language_info": {
   "codemirror_mode": {
    "name": "ipython",
    "version": 3
   },
   "file_extension": ".py",
   "mimetype": "text/x-python",
   "name": "python",
   "nbconvert_exporter": "python",
   "pygments_lexer": "ipython3",
   "version": "3.6.4"
  },
  "toc": {
   "base_numbering": 1,
   "nav_menu": {},
   "number_sections": true,
   "sideBar": true,
   "skip_h1_title": false,
   "title_cell": "Table of Contents",
   "title_sidebar": "Contents",
   "toc_cell": false,
   "toc_position": {},
   "toc_section_display": true,
   "toc_window_display": false
  }
 },
 "nbformat": 4,
 "nbformat_minor": 1
}
